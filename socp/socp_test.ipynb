{
 "cells": [
  {
   "cell_type": "code",
   "execution_count": 3,
   "metadata": {},
   "outputs": [
    {
     "name": "stdout",
     "output_type": "stream",
     "text": [
      "A solution x is\n",
      "[-16.59802528]\n"
     ]
    }
   ],
   "source": [
    "import py_compile\n",
    "import sys\n",
    "import os\n",
    "import cvxpy as cp\n",
    "import numpy as np\n",
    "import numpy.linalg as la\n",
    "import matplotlib.pyplot as plt\n",
    "\n",
    "module_path = os.path.abspath(os.path.join('.'))\n",
    "os.environ['MOSEKLM_LICENSE_FILE'] = module_path\n",
    "import mosek\n",
    "\n",
    "module_path = os.path.abspath(os.path.join('..'))\n",
    "if module_path not in sys.path:\n",
    "    sys.path.append(module_path + \"/random_features\")\n",
    "from ControlRF import KernelGP, RandomFeaturesADPGP\n",
    "\n",
    "module_path = os.path.abspath(os.path.join('..'))\n",
    "if module_path not in sys.path:\n",
    "    sys.path.append(module_path + \"/core\")\n",
    "\n",
    "import core\n",
    "from core.controllers import QPController\n",
    "from core.dynamics import AffineDynamics, AffineQuadCLF, ScalarDynamics, SystemDynamics\n",
    "from core.util import arr_map\n",
    "from core.controllers import FBLinController, LQRController\n",
    "from core.systems import InvertedPendulum\n",
    "\n",
    "\n",
    "u = cp.Variable(1)\n",
    "beta = 1\n",
    "input_dep = np.array([-0.25187906])\n",
    "input_indep = -3.2951829709755645\n",
    "sv_1 = np.array([[0.03066706],[0.47959112]])\n",
    "sv_0 = np.array([0.380392, 0.03066706])\n",
    "constraint = cp.SOC(input_dep @ u.T + input_indep, beta * sv_1 @ u + beta * sv_0)\n",
    "static_cost = cp.quad_form(u, np.identity(1))\n",
    "obj = cp.Minimize(static_cost)\n",
    "prob = cp.Problem(obj, [constraint])\n",
    "prob.solve(solver = 'MOSEK', warm_start=True)\n",
    "print(\"A solution x is\")\n",
    "print(u.value)"
   ]
  }
 ],
 "metadata": {
  "kernelspec": {
   "display_name": "Python 3",
   "language": "python",
   "name": "python3"
  },
  "language_info": {
   "codemirror_mode": {
    "name": "ipython",
    "version": 3
   },
   "file_extension": ".py",
   "mimetype": "text/x-python",
   "name": "python",
   "nbconvert_exporter": "python",
   "pygments_lexer": "ipython3",
   "version": "3.10.8"
  },
  "orig_nbformat": 4,
  "vscode": {
   "interpreter": {
    "hash": "aee8b7b246df8f9039afb4144a1f6fd8d2ca17a180786b69acc140d282b71a49"
   }
  }
 },
 "nbformat": 4,
 "nbformat_minor": 2
}
