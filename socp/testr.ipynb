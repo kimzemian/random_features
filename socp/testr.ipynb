{
 "cells": [
  {
   "cell_type": "code",
   "execution_count": 1,
   "metadata": {},
   "outputs": [
    {
     "data": {
      "text/plain": [
       "array([[ 1,  2,  3],\n",
       "       [12, 15, 18]])"
      ]
     },
     "execution_count": 1,
     "metadata": {},
     "output_type": "execute_result"
    }
   ],
   "source": [
    "import numpy as np\n",
    "a = np.array([[1,2,3],[4,5,6]])\n",
    "y = np.array([[1,0],[1,2]])\n",
    "x = np.array([1,2,3])\n",
    "c = np.sum(y, axis =1).reshape(-1,1)\n",
    "c * a\n",
    "\n"
   ]
  },
  {
   "cell_type": "code",
   "execution_count": 4,
   "metadata": {},
   "outputs": [
    {
     "ename": "ValueError",
     "evalue": "too many values to unpack (expected 2)",
     "output_type": "error",
     "traceback": [
      "\u001b[0;31m---------------------------------------------------------------------------\u001b[0m",
      "\u001b[0;31mValueError\u001b[0m                                Traceback (most recent call last)",
      "Cell \u001b[0;32mIn [4], line 6\u001b[0m\n\u001b[1;32m      3\u001b[0m na \u001b[39m*\u001b[39m np\u001b[39m.\u001b[39mones((\u001b[39m2\u001b[39m,\u001b[39m2\u001b[39m))\n\u001b[1;32m      5\u001b[0m moi \u001b[39m=\u001b[39m {\u001b[39m'\u001b[39m\u001b[39ma\u001b[39m\u001b[39m'\u001b[39m:\u001b[39m1\u001b[39m,\u001b[39m'\u001b[39m\u001b[39mb\u001b[39m\u001b[39m'\u001b[39m:\u001b[39m2\u001b[39m}\n\u001b[0;32m----> 6\u001b[0m \u001b[39mfor\u001b[39;00m key,value \u001b[39min\u001b[39;00m a:\n\u001b[1;32m      7\u001b[0m     \u001b[39mprint\u001b[39m(key)\n",
      "\u001b[0;31mValueError\u001b[0m: too many values to unpack (expected 2)"
     ]
    }
   ],
   "source": [
    "na = np.sum(a, axis =1, keepdims=True)\n",
    "na.shape\n",
    "na * np.ones((2,2))\n",
    "\n",
    "moi = {'a':1,'b':2}\n",
    "for key,value in a:\n",
    "    print(key)\n",
    "\n"
   ]
  },
  {
   "cell_type": "code",
   "execution_count": null,
   "metadata": {},
   "outputs": [],
   "source": [
    "thetas_range = (-0.05, 1.0)\n",
    "theta_dots_range = (-0.2, 0.2)\n",
    "N_theta = 160\n",
    "N_theta_dot = 20\n",
    "xs, us = get_xs_us_grid(thetas_range, theta_dots_range, N_theta, N_theta_dot)\n",
    "ts = zeros(len(xs))\n",
    "x_dots = arr_map(system.eval_dot, xs, us, ts)\n",
    "for u_grid in u_lattice:\n",
    "    for u_row in u_grid:\n",
    "        for u in u_row:\n",
    "            [u]\n",
    "for theta_grid, theta_dot_grid in zip(theta_lattice, theta_dot_lattice):\n",
    "    for theta_row, theta_dot_row in zip(theta_grid, theta_dot_grid):\n",
    "        for theta, theta_dot in zip(theta_row, theta_dot_row):\n",
    "            [theta, theta_dot]     \n",
    "def get_xs_us_grid(thetas_range, theta_dots_range, N_theta, N_theta_dot):\n",
    "\t# constructing state grid\n",
    "\tthetas = linspace(*thetas_range, N_theta + 1)\n",
    "\ttheta_dots = linspace(*theta_dots_range, N_theta_dot + 1)\n",
    "\ttheta_grid, theta_dot_grid = meshgrid(thetas, theta_dots)\n",
    "\n",
    "\t# constructing inputs in all directions\n",
    "\tus = array([-1, 1])\n",
    "\t\n",
    "\t# creating training data\n",
    "\ttheta_lattice, theta_dot_lattice, u_lattice = meshgrid(thetas, theta_dots, us)\n",
    "\txs = array([[theta, theta_dot] for theta_grid, theta_dot_grid in zip(theta_lattice, theta_dot_lattice) \\\n",
    "        for theta_row, theta_dot_row in zip(theta_grid, theta_dot_grid) for theta, theta_dot in zip(theta_row, theta_dot_row)])\n",
    "\tus = array([[u] for u_grid in u_lattice for u_row in u_grid for u in u_row])\n",
    "\t\n",
    "\treturn xs, us"
   ]
  },
  {
   "cell_type": "code",
   "execution_count": 5,
   "metadata": {},
   "outputs": [
    {
     "name": "stdout",
     "output_type": "stream",
     "text": [
      "(205, 100, 1)\n",
      "(1, 2)\n"
     ]
    },
    {
     "ename": "AssertionError",
     "evalue": "",
     "output_type": "error",
     "traceback": [
      "\u001b[0;31m---------------------------------------------------------------------------\u001b[0m",
      "\u001b[0;31mAssertionError\u001b[0m                            Traceback (most recent call last)",
      "Cell \u001b[0;32mIn [5], line 19\u001b[0m\n\u001b[1;32m     17\u001b[0m x_0 \u001b[39m=\u001b[39mnp\u001b[39m.\u001b[39marray([\u001b[39m2\u001b[39m, \u001b[39m0.1\u001b[39m])\u001b[39m.\u001b[39mreshape(\u001b[39m1\u001b[39m,\u001b[39m-\u001b[39m\u001b[39m1\u001b[39m)\n\u001b[1;32m     18\u001b[0m \u001b[39mprint\u001b[39m(x_0\u001b[39m.\u001b[39mshape)\n\u001b[0;32m---> 19\u001b[0m \u001b[39massert\u001b[39;00m x_0\u001b[39m.\u001b[39mshape[\u001b[39m1\u001b[39m] \u001b[39m==\u001b[39m \u001b[39m3\u001b[39m\n",
      "\u001b[0;31mAssertionError\u001b[0m: "
     ]
    }
   ],
   "source": [
    "a = np.array([[[1,2,3],[3,4,5]],\n",
    "[[6,0,3],[3,4,5]],\n",
    "[[7,2,3],[3,4,5]],\n",
    "[[8,2,3],[3,4,5]],]) #4,2,3\n",
    "b = np.array([[1,2,3],[3,4,5]]).T #3,2\n",
    "c = np.einsum('...hij,ji->hi',a,b) #4,2\n",
    "c\n",
    "\n",
    "a = np.ones((205, 100, 2))\n",
    "b = np.ones((205, 2, 1))\n",
    "c = a @ b\n",
    "print(c.shape)\n",
    "\n",
    "a = np.array([1,2,3,4,5])\n",
    "a[:-1]\n",
    "\n",
    "x_0 =np.array([2, 0.1]).reshape(1,-1)\n",
    "print(x_0.shape)\n",
    "assert x_0.shape[1] == 3"
   ]
  }
 ],
 "metadata": {
  "kernelspec": {
   "display_name": "Python 3",
   "language": "python",
   "name": "python3"
  },
  "language_info": {
   "codemirror_mode": {
    "name": "ipython",
    "version": 3
   },
   "file_extension": ".py",
   "mimetype": "text/x-python",
   "name": "python",
   "nbconvert_exporter": "python",
   "pygments_lexer": "ipython3",
   "version": "3.10.8 (main, Oct 13 2022, 10:17:43) [Clang 14.0.0 (clang-1400.0.29.102)]"
  },
  "orig_nbformat": 4,
  "vscode": {
   "interpreter": {
    "hash": "aee8b7b246df8f9039afb4144a1f6fd8d2ca17a180786b69acc140d282b71a49"
   }
  }
 },
 "nbformat": 4,
 "nbformat_minor": 2
}
