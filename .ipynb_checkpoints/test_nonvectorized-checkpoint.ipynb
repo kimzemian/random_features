{
 "cells": [
  {
   "cell_type": "code",
   "execution_count": 19,
   "id": "193ceb14-d1e9-42cb-af58-a1d697a17440",
   "metadata": {},
   "outputs": [],
   "source": [
    "import time\n",
    "import math\n",
    "import numpy as np\n",
    "import scipy.io as sio\n",
    "from numpy import linalg as la"
   ]
  },
  {
   "cell_type": "code",
   "execution_count": 20,
   "id": "692a638d-a5ff-4016-856b-72235df49ad5",
   "metadata": {},
   "outputs": [],
   "source": [
    "#data i/o(read x_train, y_train, z_train, x_query, y_query,mu_pred)\n",
    "\n",
    "data = sio.loadmat('whatIneed.mat')\n",
    "x_train = data['x_gp']\n",
    "u_train = data['u_gp']\n",
    "z_train = data['z_gp']\n",
    "\n",
    "n = len(x_train) #number of samples\n",
    "d = len(x_train[0]) #dimension of the data\n",
    "m = len(u_train[0]) #number of controls\n",
    "\n",
    "u_train = u_train.reshape(n)\n",
    "y_train = np.concatenate(([np.ones(n)],[u_train]), axis=0)\n",
    "y_train = y_train.T      \n",
    "x_train = x_train.reshape((n,d))\n",
    "z_train = z_train.flatten()\n",
    "x_test = x_train[0]\n",
    "y_test = y_train[0]\n",
    "z_test = z_train[0] #true value of the mu at query"
   ]
  },
  {
   "cell_type": "code",
   "execution_count": 21,
   "id": "1c895909-8a8e-42ab-aba6-c58654ec27ce",
   "metadata": {},
   "outputs": [],
   "source": [
    "#setting hyperparameters\n",
    "rf_d = 100 #rf_d is dim of randomfeatures vector, to choose based on paper\n",
    "mu = 0\n",
    "sigma = 1\n",
    "rf_mu = 0\n",
    "rf_sigma = sigma * (math.pi ** 2)\n",
    "sigma_n = 1 #data noise"
   ]
  },
  {
   "cell_type": "code",
   "execution_count": 22,
   "id": "f7a4a37d-2845-411e-b9ab-75d07bd0683c",
   "metadata": {},
   "outputs": [],
   "source": [
    "#computing random features\n",
    "#referring to random features as rf\n",
    "\n",
    "\n",
    "fourier_transform = np.random.normal(rf_mu,rf_sigma,size =(rf_d//2,d))\n",
    "samples = (sigma * math.pi)**(-rf_d/2) * fourier_transform\n",
    "\n",
    "\n",
    "def rf_vec(x):\n",
    "    phi = np.zeros(rf_d)\n",
    "    for i,sample in enumerate(samples):\n",
    "        phi[2*i] = np.sin(np.dot(sample,x))\n",
    "        phi[2*i+1] = np.cos(np.dot(sample,x)) \n",
    "    phi = math.sqrt(2/rf_d) * phi\n",
    "    return phi\n",
    "\n",
    "def rf_vec_compound(x,y):\n",
    "    #same sampling for different kernels?#same mu,sigma?\n",
    "    phis = []\n",
    "    for i in range(m+1): \n",
    "        phis = np.append(phis, y[i]*rf_vec(x))\n",
    "    return phis\n",
    "                         \n",
    "def computeZ(x_train,y_train):\n",
    "    Z = [rf_vec_compound(x_train[i],y_train[i]) for i in range(n)]\n",
    "    Z = np.array(Z)\n",
    "    return Z"
   ]
  },
  {
   "cell_type": "code",
   "execution_count": 23,
   "id": "3e1c0973-2890-414d-9561-aa9fdc579774",
   "metadata": {},
   "outputs": [],
   "source": [
    "#computing compound kernel\n",
    "#referring to compound as c\n",
    "   \n",
    "def compound_kernel(x_train,y_train):\n",
    "    c_kernel = np.zeros((n,n)) \n",
    "    for i in range(n):\n",
    "        for j in range(n):\n",
    "            c_kernel[i][j] =\\\n",
    "            compute_entry(x_train[i], x_train[j], y_train[i],y_train[j])\n",
    "    return c_kernel\n",
    "\n",
    "def cquery_vector(x_train, x_test, y_train, y_test):\n",
    "    c_vector = np.zeros(n)\n",
    "    for i in range(n):\n",
    "        c_vector[i] = compute_entry(x_train[i], x_test, y_train[i], y_test)\n",
    "    return c_vector\n",
    "    \n",
    "def compute_entry(x1,x2,y1,y2):\n",
    "    ck = 0\n",
    "    for i in range(m+1):\n",
    "        ck += y1[i] * compute_kernel(x1,x2) * y2[i]\n",
    "    return ck\n",
    "\n",
    "def compute_kernel(x1,x2):\n",
    "    return np.exp(-la.norm(x1-x2, ord=2)/sigma ** 2)\n",
    "    "
   ]
  },
  {
   "cell_type": "code",
   "execution_count": 24,
   "id": "da6fc138-4041-4c17-8b1f-5cd0bfece59b",
   "metadata": {},
   "outputs": [],
   "source": [
    "# random features training\n",
    "# w = (Z'Z+simga^2I)^{-1}Z'y\n",
    "rf_start = time.time()\n",
    "Z = computeZ(x_train, y_train)\n",
    "invZ_with_noise = la.inv(Z.T @Z + sigma_n ** 2 * np.identity((m+1)*rf_d))\n",
    "rf_w = invZ_with_noise @ Z.T @ z_train\n",
    "\n",
    "\n",
    "#label prediction\n",
    "phi_test = rf_vec_compound(x_test,y_test)\n",
    "rf_pred = np.dot(phi_test,rf_w)\n",
    "rf_end = time.time()"
   ]
  },
  {
   "cell_type": "code",
   "execution_count": 25,
   "id": "81858829-c79d-4f91-98a7-cdff6e97473b",
   "metadata": {},
   "outputs": [],
   "source": [
    "# compound kernel training\n",
    "# c_w = (K+simga^2I)^{-1}K(x)\n",
    "ckernel_start = time.time()\n",
    "c_kernel = compound_kernel(x_train,y_train)\n",
    "c_vector = cquery_vector(x_train, x_test, y_train, y_test)\n",
    "inv_ckernel_with_noise = la.inv(c_kernel + sigma_n**2 * np.identity(n))\n",
    "c_w = inv_ckernel_with_noise @ c_vector\n",
    "\n",
    "\n",
    "#label prediction\n",
    "c_pred = np.dot(z_train,c_w)\n",
    "ckernel_end = time.time()"
   ]
  },
  {
   "cell_type": "code",
   "execution_count": 26,
   "id": "96755484-ea83-4f43-88d7-16b806792baa",
   "metadata": {},
   "outputs": [
    {
     "name": "stdout",
     "output_type": "stream",
     "text": [
      "[[ True  True  True ...  True  True  True]\n",
      " [ True  True  True ...  True  True  True]\n",
      " [ True  True  True ...  True  True  True]\n",
      " ...\n",
      " [ True  True  True ...  True  True  True]\n",
      " [ True  True  True ...  True  True  True]\n",
      " [ True  True  True ...  True  True  True]]\n"
     ]
    }
   ],
   "source": [
    "print((c_kernel- Z @ Z.T)< 0.00001)"
   ]
  },
  {
   "cell_type": "code",
   "execution_count": 27,
   "id": "9a8e5acb-faa9-410e-a237-7e899bf7c2ad",
   "metadata": {},
   "outputs": [],
   "source": [
    "#random features sigma computation\n",
    "rfs_start = time.time()\n",
    "rf_sigma = sigma**2 * phi_test.T @ invZ_with_noise @ phi_test\n",
    "rfs_end = time.time()\n",
    "\n",
    "#kernel sigma computation\n",
    "ckernels_start = time.time()\n",
    "kernel_sigma = compute_entry(x_test, x_test, y_test, y_test) -\\\n",
    "            c_vector.T @ inv_ckernel_with_noise @ c_vector\n",
    "ckernels_end = time.time()"
   ]
  },
  {
   "cell_type": "code",
   "execution_count": 28,
   "id": "8ddaa8c2-e454-49c2-b0e7-7dfffb28148d",
   "metadata": {},
   "outputs": [
    {
     "name": "stdout",
     "output_type": "stream",
     "text": [
      "z_test=0.18107397972611733 \n",
      "rf_pred=0.4121857884758133 \n",
      "c_pred=0.183567986443154\n",
      "rf_sigma=0.004856076008427998 \n",
      "kernel_sigma=0.12267424523537152\n",
      "rf_mu_time, c_mu_time 0.21096563339233398 1.1200871467590332\n",
      "rf_sigma_time, c_sigma_time 0.000247955322265625 0.00037217140197753906\n"
     ]
    }
   ],
   "source": [
    "#print(f'{z_test=}{rf_pred=}{c_pred=}{rf_sigma=}{kernel_sigma=}') does not work for some reason\n",
    "print(f'z_test={z_test} \\nrf_pred={rf_pred} \\nc_pred={c_pred}\\n\\\n",
    "rf_sigma={rf_sigma} \\nkernel_sigma={kernel_sigma}')\n",
    "rf_mu_time = rf_end - rf_start\n",
    "c_mu_time = ckernel_end - ckernel_start\n",
    "print('rf_mu_time, c_mu_time', rf_mu_time, c_mu_time)\n",
    "\n",
    "rf_sigma_time = rfs_end - rfs_start\n",
    "c_sigma_time = ckernels_end - ckernels_start\n",
    "print('rf_sigma_time, c_sigma_time', rf_sigma_time, c_sigma_time)"
   ]
  },
  {
   "cell_type": "code",
   "execution_count": 29,
   "id": "3543f77a-47c6-4bc6-a548-7e9d9c979a8b",
   "metadata": {},
   "outputs": [],
   "source": [
    "#change d    \n",
    "#time constructing the matrix for socp \n",
    "#make figures?"
   ]
  },
  {
   "cell_type": "code",
   "execution_count": null,
   "id": "235000ba-c265-46aa-9137-41b720e6090e",
   "metadata": {},
   "outputs": [],
   "source": []
  }
 ],
 "metadata": {
  "kernelspec": {
   "display_name": "Python 3 (ipykernel)",
   "language": "python",
   "name": "python3"
  },
  "language_info": {
   "codemirror_mode": {
    "name": "ipython",
    "version": 3
   },
   "file_extension": ".py",
   "mimetype": "text/x-python",
   "name": "python",
   "nbconvert_exporter": "python",
   "pygments_lexer": "ipython3",
   "version": "3.7.3"
  }
 },
 "nbformat": 4,
 "nbformat_minor": 5
}
