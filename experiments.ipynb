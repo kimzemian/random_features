{
 "cells": [
  {
   "cell_type": "code",
   "execution_count": 15,
   "metadata": {},
   "outputs": [],
   "source": [
    "import sys\n",
    "import os\n",
    "import numpy as np\n",
    "import numpy.linalg as la\n",
    "import torch\n",
    "\n",
    "from ControlRF import GPController, ADPKernel, ADPRandomFeatures, ADKernel, ADRandomFeatures, VanillaKernel, VanillaRandomFeatures\n",
    "from ControlRF.plots import *\n",
    "from ControlRF.util import data_gen\n",
    "\n",
    "import core\n",
    "from core.controllers import QPController, LQRController, FBLinController\n",
    "from core.dynamics import AffineQuadCLF\n",
    "from core.systems import InvertedPendulum, DoubleInvertedPendulum"
   ]
  },
  {
   "cell_type": "code",
   "execution_count": 16,
   "metadata": {},
   "outputs": [],
   "source": [
    "def main_invp(plot_sim=True, plot_errorbars=False): #d=1\n",
    "    system = InvertedPendulum(0.7,0.7)\n",
    "    system_est = InvertedPendulum(0.50,0.5)\n",
    "    lyap_est = AffineQuadCLF.build_care(system_est, Q=np.identity(2), R=np.identity(1))\n",
    "    \n",
    "    alpha = 1 / max(la.eigvals(lyap_est.P))\n",
    "    \n",
    "    # Nominal Controller Static Slacked\n",
    "    controller = QPController(system_est, system.m)\n",
    "    controller.add_static_cost(np.identity(1))\n",
    "    controller.add_stability_constraint(lyap_est, comp=lambda r: alpha * r, slacked=True, coeff = 1e3)\n",
    "    # plot_simulation(system, controller, 'qp_controller', x_0, T=100, num_steps=1000)\n",
    "    x_0 = np.array([2, 0.1])\n",
    "    xs, ys, zs = data_gen(system, controller, lyap_est, x_0, 100, 1000)\n",
    "    ad_rf = ADRandomFeatures(xs, ys, zs, rf_d=50)\n",
    "    adp_rf = ADPRandomFeatures(xs, ys, zs, rf_d=50)\n",
    "    ad_kernel = ADKernel(xs, ys, zs)\n",
    "    adp_kernel = ADPKernel(xs, ys, zs)\n",
    "    gps = [ad_kernel, ad_rf, adp_kernel, adp_rf]\n",
    "    controllers = []\n",
    "    x_0 = np.array([1, 0.1])\n",
    "\n",
    "    for gp in gps:\n",
    "        gp_controller = GPController(system_est, gp)\n",
    "        gp_controller.add_static_cost(np.identity(1))\n",
    "        gp_controller.add_stability_constraint(lyap_est, comp=alpha, slacked=True, beta = 1, coeff=1e5)\n",
    "        controllers.append(gp_controller)\n",
    "        print(f'training time for {gp.__name__}_gp is: {gp.training_time}')\n",
    "        if plot_sim:\n",
    "            plot_simulation(system, gp_controller, f'{gp.__name__}_controller', x_0, T=100, num_steps=1000)\n",
    "            plot_closed_loop_errorbar(system, lyap_est, gp_controller, gp, x_0, cut_off=180) #cut_off=180 is good as well\n",
    "\n",
    "    if plot_errorbars:\n",
    "        plot_pred_errorbar(xs[300:350], ys[300:350], zs[300:350], gps)\n",
    "        plot_pred_errorbar(xs[950:], ys[950:], zs[950:], gps)\n",
    "        \n",
    "        plot_all_closed_loop_errorbars(system, lyap_est, controllers, gps, x_0, cut_off=180)\n",
    "\n",
    "    \n",
    "    xs, ys, zs = data_gen(system, controller, lyap_est, x_0, 100, 1000)\n",
    "ad_rf = ADRandomFeatures(xs, ys, zs, rf_d=50)\n",
    "adp_rf = ADPRandomFeatures(xs, ys, zs, rf_d=50)\n",
    "ad_kernel = ADKernel(xs, ys, zs)\n",
    "adp_kernel = ADPKernel(xs, ys, zs)\n",
    "gps = [ad_kernel, ad_rf, adp_kernel, adp_rf]\n",
    "controllers = []\n",
    "\n",
    "# plot_simulation_dip(system, controller, 'qp_controller', x_0, T=100, num_steps=1000)\n",
    "\n",
    "for gp in gps:\n",
    "    gp_controller = GPController(system_est, gp)\n",
    "    controller.add_regularizer(fb_lin, 25)\n",
    "    # gp_controller.add_static_cost(np.identity(2))\n",
    "    gp_controller.add_stability_constraint(lyap_est, comp=alpha, slacked=True, beta = 1, coeff=1e8)\n",
    "    controllers.append(gp_controller)\n",
    "    \n",
    "        \n",
    "   \n",
    "        \n"
   ]
  },
  {
   "cell_type": "code",
   "execution_count": 17,
   "metadata": {},
   "outputs": [],
   "source": [
    "# initial_x0s = np.mgrid[.1:np.pi:1, 0:np.pi:1, 0:np.pi:1, 0:np.pi:1].reshape(4, -1).T\n",
    "\n",
    "# system = DoubleInvertedPendulum(0.25,0.25,.7,0.7)\n",
    "# system_est = DoubleInvertedPendulum(0.5,0.5,0.5,0.5)\n",
    "\n",
    "# Q , R = 10*np.identity(4), np.identity(2)\n",
    "# lyap_est = AffineQuadCLF.build_care(system_est, Q, R) \n",
    "# alpha = min(la.eigvalsh(Q)) / max(la.eigvalsh(lyap_est.P))\n",
    "\n",
    "# lqr = LQRController.build(system, Q, R)\n",
    "\n",
    "# # fb_lin_data = system.simulate(x_0, fb_lin, ts) #1\n",
    "\n",
    "# controller = QPController.build_care(system, Q, R)\n",
    "\n",
    "# controller.add_stability_constraint(lyap_est, comp=lambda r: alpha * r, slacked=True, coeff = 1e5)\n",
    "\n",
    "# for i,x_0 in enumerate(initial_x0s):\n",
    "#     if i==0:\n",
    "#         xs, ys, zs = data_gen(system, controller, lyap_est, torch.from_numpy(x_0), 1, 10)\n",
    "#     else:\n",
    "#         x, y, z = data_gen(system, controller, lyap_est, torch.from_numpy(x_0), 10, 100)\n",
    "#         xs = np.concatenate((xs,x))\n",
    "#         ys = np.concatenate((ys,y))\n",
    "#         zs = np.concatenate((zs,z))"
   ]
  },
  {
   "cell_type": "code",
   "execution_count": 18,
   "metadata": {},
   "outputs": [],
   "source": [
    "# np.savez('data,pi,1,sim:10,100', xs=xs, ys=ys, zs=zs)"
   ]
  },
  {
   "cell_type": "code",
   "execution_count": 19,
   "metadata": {},
   "outputs": [],
   "source": [
    "data = np.load('data,pi,1,sim:10,100.npz')\n",
    "xs = data['xs']\n",
    "ys = data['ys']\n",
    "zs = data['zs']"
   ]
  },
  {
   "cell_type": "code",
   "execution_count": 20,
   "metadata": {},
   "outputs": [
    {
     "ename": "NameError",
     "evalue": "name 'system_est' is not defined",
     "output_type": "error",
     "traceback": [
      "\u001b[0;31m---------------------------------------------------------------------------\u001b[0m",
      "\u001b[0;31mNameError\u001b[0m                                 Traceback (most recent call last)",
      "Cell \u001b[0;32mIn[20], line 10\u001b[0m\n\u001b[1;32m      7\u001b[0m x_0 \u001b[39m=\u001b[39m np\u001b[39m.\u001b[39marray([\u001b[39m1\u001b[39m,\u001b[39m0\u001b[39m,\u001b[39m0\u001b[39m,\u001b[39m0\u001b[39m])\n\u001b[1;32m      9\u001b[0m \u001b[39mfor\u001b[39;00m gp \u001b[39min\u001b[39;00m gps:\n\u001b[0;32m---> 10\u001b[0m     gp_controller \u001b[39m=\u001b[39m GPController(system_est, gp)\n\u001b[1;32m     11\u001b[0m     gp_controller\u001b[39m.\u001b[39madd_static_cost(np\u001b[39m.\u001b[39midentity(\u001b[39m2\u001b[39m))\n\u001b[1;32m     12\u001b[0m     gp_controller\u001b[39m.\u001b[39madd_stability_constraint(lyap_est, comp\u001b[39m=\u001b[39malpha, slacked\u001b[39m=\u001b[39m\u001b[39mTrue\u001b[39;00m, beta \u001b[39m=\u001b[39m \u001b[39m1\u001b[39m, coeff\u001b[39m=\u001b[39m\u001b[39m1e5\u001b[39m)\n",
      "\u001b[0;31mNameError\u001b[0m: name 'system_est' is not defined"
     ]
    }
   ],
   "source": [
    "    ad_rf = ADRandomFeatures(xs, ys, zs, rf_d=1200)\n",
    "    adp_rf = ADPRandomFeatures(xs, ys, zs, rf_d=1200)\n",
    "    ad_kernel = ADKernel(xs, ys, zs)\n",
    "    adp_kernel = ADPKernel(xs, ys, zs)\n",
    "    gps = [ad_kernel, ad_rf, adp_kernel, adp_rf]\n",
    "    controllers = []\n",
    "    x_0 = np.array([1,0,0,0])\n",
    "\n",
    "    for gp in gps:\n",
    "        gp_controller = GPController(system_est, gp)\n",
    "        gp_controller.add_static_cost(np.identity(2))\n",
    "        gp_controller.add_stability_constraint(lyap_est, comp=alpha, slacked=True, beta = 1, coeff=1e5)\n",
    "        controllers.append(gp_controller)\n",
    "        print(f'training time for {gp.__name__}_gp is: {gp.training_time}')"
   ]
  },
  {
   "cell_type": "code",
   "execution_count": null,
   "metadata": {},
   "outputs": [],
   "source": [
    "\n",
    "plot_simulation_dip(system, controller, 'qp_controller', x_0, T=100, num_steps=1000)\n",
    "for gp,controller in zip(gps,controllers):\n",
    "    plot_simulation_dip(system, controller, f'{gp.__name__}_controller', x_0, T=100, num_steps=1000)\n",
    "    plot_closed_loop_errorbar(system, lyap_est, gp_controller, gp, x_0, cut_off=180) #cut_off=180 is good as well\n",
    "\n",
    "\n",
    "plot_pred_errorbar(xs[300:350], ys[300:350], zs[300:350], gps)\n",
    "plot_pred_errorbar(xs[950:], ys[950:], zs[950:], gps)\n",
    "\n",
    "plot_all_closed_loop_errorbars(system, lyap_est, controllers, gps, x_0, cut_off=180)\n"
   ]
  },
  {
   "cell_type": "code",
   "execution_count": null,
   "metadata": {},
   "outputs": [],
   "source": [
    "#main_invp()\n",
    "#main_double_invp()\n",
    "\n",
    "# Q , R = 10*np.identity(4), np.identity(2)\n",
    "# lyap_est = AffineQuadCLF.build_care(system_est, Q, R) \n",
    "# alpha = min(la.eigvalsh(Q)) / max(la.eigvalsh(lyap_est.P))\n",
    "\n",
    "# lqr = LQRController.build(system, Q, R)\n",
    "# fb_lin = FBLinController(system, lqr)\n",
    "# # fb_lin_data = system.simulate(x_0, fb_lin, ts) #1\n",
    "\n",
    "# controller = QPController.build_care(system, Q, R)\n",
    "# controller.add_regularizer(fb_lin, 25)\n",
    "# controller.add_stability_constraint(lyap_est, comp=lambda r: alpha * r, slacked=True, coeff = 1e5)\n",
    "\n",
    "# for i,x_0 in enumerate(initial_x0s):\n",
    "#     if i==0:\n",
    "#         xs, ys, zs = data_gen(system, controller, lyap_est, torch.from_numpy(x_0), 10, 100)\n",
    "#     else:\n",
    "#         x, y, z = data_gen(system, controller, lyap_est, torch.from_numpy(x_0), 10, 100)\n",
    "#         xs = np.concatenate((xs,x))\n",
    "#         ys = np.concatenate((ys,y))\n",
    "#         zs = np.concatenate((zs,z))"
   ]
  }
 ],
 "metadata": {
  "kernelspec": {
   "display_name": "Python 3",
   "language": "python",
   "name": "python3"
  },
  "language_info": {
   "codemirror_mode": {
    "name": "ipython",
    "version": 3
   },
   "file_extension": ".py",
   "mimetype": "text/x-python",
   "name": "python",
   "nbconvert_exporter": "python",
   "pygments_lexer": "ipython3",
   "version": "3.8.16"
  },
  "orig_nbformat": 4,
  "vscode": {
   "interpreter": {
    "hash": "0adcc2737ebf6a4a119f135174df96668767fca1ef1112612db5ecadf2b6d608"
   }
  }
 },
 "nbformat": 4,
 "nbformat_minor": 2
}
