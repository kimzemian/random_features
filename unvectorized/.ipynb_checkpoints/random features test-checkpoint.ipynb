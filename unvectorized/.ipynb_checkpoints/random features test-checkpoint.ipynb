{
 "cells": [
  {
   "cell_type": "code",
   "execution_count": 1,
   "id": "193ceb14-d1e9-42cb-af58-a1d697a17440",
   "metadata": {},
   "outputs": [],
   "source": [
    "import time\n",
    "import math\n",
    "import numpy as np\n",
    "import scipy.io as sio\n",
    "from numpy import linalg as la"
   ]
  },
  {
   "cell_type": "code",
   "execution_count": 6,
   "id": "692a638d-a5ff-4016-856b-72235df49ad5",
   "metadata": {},
   "outputs": [
    {
     "name": "stdout",
     "output_type": "stream",
     "text": [
      "(5, 2)\n"
     ]
    }
   ],
   "source": [
    "#data i/o(read x_train, y_train, z_train, x_query, y_query)\n",
    "\n",
    "data = sio.loadmat('whatIneed.mat')\n",
    "x_train = data['x_gp']\n",
    "u_train = data['u_gp']\n",
    "z_train = data['z_gp']\n",
    "y_train= np.concatenate((np.ones((len(u_train),1)), u_train), axis=1)\n",
    "z_train = z_train.flatten()\n",
    "\n",
    "n = len(x_train) #number of samples\n",
    "d = len(x_train[0]) #dimension of the data\n",
    "m = len(y_train[0]) - 1 #number of controls\n",
    "\n",
    "x_test = x_train[0:5]\n",
    "y_test = y_train[0:5]\n",
    "z_test = z_train[0:5] #true value of the mu at query\n",
    "print(x_test.shape)"
   ]
  },
  {
   "cell_type": "code",
   "execution_count": 11,
   "id": "5586c683-8eaf-4e13-94c8-47442b1ed534",
   "metadata": {},
   "outputs": [],
   "source": [
    "#data i/o(read x_train, y_train, z_train, x_query, y_query)\n",
    "\n",
    "data = sio.loadmat('acc_data.mat')\n",
    "x_train = data['xs_train'].T\n",
    "y_train = data['ys_train'].T\n",
    "z_train = data['zs_train']\n",
    "z_train = z_train[0,:]\n",
    "z_train = z_train.flatten()\n",
    "n = len(x_train) #number of samples\n",
    "d = len(x_train[0]) #dimension of the data\n",
    "m = len(y_train[0]) - 1 #number of controls\n",
    "x_test = x_train[0:5]\n",
    "y_test = y_train[0:5]\n",
    "z_test = z_train[0:5] #true value of the mu at query"
   ]
  },
  {
   "cell_type": "code",
   "execution_count": 7,
   "id": "1c895909-8a8e-42ab-aba6-c58654ec27ce",
   "metadata": {},
   "outputs": [],
   "source": [
    "#setting hyperparameters\n",
    "rf_d = 100 #rf_d is dim of randomfeatures vector, to choose based on paper\n",
    "mu = 0\n",
    "sigma = 1\n",
    "rf_mu = np.zeros(d)\n",
    "rf_cov = 1/sigma * np.identity(d)\n",
    "sigma_n = 1 #regularization parameter"
   ]
  },
  {
   "cell_type": "code",
   "execution_count": 8,
   "id": "d9a0d5c4-0f2e-429d-808b-853a14eec1c6",
   "metadata": {},
   "outputs": [],
   "source": [
    "samples = np.random.multivariate_normal(rf_mu,rf_cov,size =rf_d//2) #(rf_d//2,d)"
   ]
  },
  {
   "cell_type": "code",
   "execution_count": 9,
   "id": "f7a4a37d-2845-411e-b9ab-75d07bd0683c",
   "metadata": {},
   "outputs": [],
   "source": [
    "#computing random features\n",
    "#referring to random features as rf\n",
    "#same sampling for different kernels\n",
    "# s=(m+1)*rf_d\n",
    "\n",
    "def rfquery_vector(x,y):    \n",
    "    phi = np.empty(rf_d)\n",
    "    dot_product = np.dot(samples, x)\n",
    "    phi[0::2]=np.sin(dot_product)\n",
    "    phi[1::2]=np.cos(dot_product)\n",
    "    phi = math.sqrt(2/rf_d) * phi\n",
    "    phis = y[:,np.newaxis] @ phi[np.newaxis,:]  #((m+1),d)\n",
    "    return phis.flatten()   \n",
    "                         \n",
    "def computeZ(x_train,y_train): #(n,d)(n,m+1)\n",
    "    phi = np.empty((n,rf_d))\n",
    "    dot_product = x_train @ samples.T #(n,rf_d//2)\n",
    "    phi[:,0::2]=np.sin(dot_product)\n",
    "    phi[:,1::2]=np.cos(dot_product)\n",
    "    phi = math.sqrt(2/rf_d) * phi #(n,rf_d)\n",
    "    Z = np.matmul(y_train[:,:,np.newaxis], phi[:,np.newaxis,:]).reshape((n,-1)) #(n,s)\n",
    "    return phi,Z\n",
    "    "
   ]
  },
  {
   "cell_type": "code",
   "execution_count": 10,
   "id": "3e1c0973-2890-414d-9561-aa9fdc579774",
   "metadata": {},
   "outputs": [],
   "source": [
    "#computing compound kernel\n",
    "#referring to compound as c\n",
    "#using the same kernel\n",
    "\n",
    "def compound_kernel(x_train,y_train):\n",
    "    x_dif = x_train.reshape((n,1,d))-x_train\n",
    "    kernel = np.exp(-np.sum(np.square(x_dif), axis=2)/(2 * sigma ** 2)) #not sure about the 2 in denominator\n",
    "    return kernel,(y_train@y_train.T) * kernel\n",
    "\n",
    "def cquery_vector(x_train, x_test, y_train, y_test):\n",
    "    x_dif = x_train.reshape((n,1,d))-x_test\n",
    "    c_vector = np.exp(-np.sum(np.square(x_dif), axis=2)/(2 * sigma ** 2)) #(n,n_t)\n",
    "    return (y_train@y_test.T) * c_vector\n",
    "\n",
    "def compute_entry(x1,x2,y1,y2):\n",
    "    return y1@y2.T * np.exp(-np.sum(np.square(x1-x2))/(2 * sigma ** 2))"
   ]
  },
  {
   "cell_type": "code",
   "execution_count": 11,
   "id": "da6fc138-4041-4c17-8b1f-5cd0bfece59b",
   "metadata": {},
   "outputs": [
    {
     "ename": "ValueError",
     "evalue": "shapes (50,2) and (5,2) not aligned: 2 (dim 1) != 5 (dim 0)",
     "output_type": "error",
     "traceback": [
      "\u001b[0;31m---------------------------------------------------------------------------\u001b[0m",
      "\u001b[0;31mValueError\u001b[0m                                Traceback (most recent call last)",
      "\u001b[0;32m/var/folders/p7/dy_mpsj13tv174tw914k9y3m0000gn/T/ipykernel_43287/602402966.py\u001b[0m in \u001b[0;36m<module>\u001b[0;34m\u001b[0m\n\u001b[1;32m      8\u001b[0m \u001b[0;34m\u001b[0m\u001b[0m\n\u001b[1;32m      9\u001b[0m \u001b[0;31m#label prediction\u001b[0m\u001b[0;34m\u001b[0m\u001b[0;34m\u001b[0m\u001b[0;34m\u001b[0m\u001b[0m\n\u001b[0;32m---> 10\u001b[0;31m \u001b[0mphi_test\u001b[0m \u001b[0;34m=\u001b[0m \u001b[0mrfquery_vector\u001b[0m\u001b[0;34m(\u001b[0m\u001b[0mx_test\u001b[0m\u001b[0;34m,\u001b[0m\u001b[0my_test\u001b[0m\u001b[0;34m)\u001b[0m\u001b[0;34m\u001b[0m\u001b[0;34m\u001b[0m\u001b[0m\n\u001b[0m\u001b[1;32m     11\u001b[0m \u001b[0mrf_pred\u001b[0m \u001b[0;34m=\u001b[0m \u001b[0mnp\u001b[0m\u001b[0;34m.\u001b[0m\u001b[0mdot\u001b[0m\u001b[0;34m(\u001b[0m\u001b[0mphi_test\u001b[0m\u001b[0;34m,\u001b[0m\u001b[0mrf_w\u001b[0m\u001b[0;34m)\u001b[0m\u001b[0;34m\u001b[0m\u001b[0;34m\u001b[0m\u001b[0m\n\u001b[1;32m     12\u001b[0m \u001b[0mrf_end\u001b[0m \u001b[0;34m=\u001b[0m \u001b[0mtime\u001b[0m\u001b[0;34m.\u001b[0m\u001b[0mtime\u001b[0m\u001b[0;34m(\u001b[0m\u001b[0;34m)\u001b[0m\u001b[0;34m\u001b[0m\u001b[0;34m\u001b[0m\u001b[0m\n",
      "\u001b[0;32m/var/folders/p7/dy_mpsj13tv174tw914k9y3m0000gn/T/ipykernel_43287/3153662876.py\u001b[0m in \u001b[0;36mrfquery_vector\u001b[0;34m(x, y)\u001b[0m\n\u001b[1;32m      6\u001b[0m \u001b[0;32mdef\u001b[0m \u001b[0mrfquery_vector\u001b[0m\u001b[0;34m(\u001b[0m\u001b[0mx\u001b[0m\u001b[0;34m,\u001b[0m\u001b[0my\u001b[0m\u001b[0;34m)\u001b[0m\u001b[0;34m:\u001b[0m\u001b[0;34m\u001b[0m\u001b[0;34m\u001b[0m\u001b[0m\n\u001b[1;32m      7\u001b[0m     \u001b[0mphi\u001b[0m \u001b[0;34m=\u001b[0m \u001b[0mnp\u001b[0m\u001b[0;34m.\u001b[0m\u001b[0mempty\u001b[0m\u001b[0;34m(\u001b[0m\u001b[0mrf_d\u001b[0m\u001b[0;34m)\u001b[0m\u001b[0;34m\u001b[0m\u001b[0;34m\u001b[0m\u001b[0m\n\u001b[0;32m----> 8\u001b[0;31m     \u001b[0mdot_product\u001b[0m \u001b[0;34m=\u001b[0m \u001b[0mnp\u001b[0m\u001b[0;34m.\u001b[0m\u001b[0mdot\u001b[0m\u001b[0;34m(\u001b[0m\u001b[0msamples\u001b[0m\u001b[0;34m,\u001b[0m \u001b[0mx\u001b[0m\u001b[0;34m)\u001b[0m\u001b[0;34m\u001b[0m\u001b[0;34m\u001b[0m\u001b[0m\n\u001b[0m\u001b[1;32m      9\u001b[0m     \u001b[0mphi\u001b[0m\u001b[0;34m[\u001b[0m\u001b[0;36m0\u001b[0m\u001b[0;34m:\u001b[0m\u001b[0;34m:\u001b[0m\u001b[0;36m2\u001b[0m\u001b[0;34m]\u001b[0m\u001b[0;34m=\u001b[0m\u001b[0mnp\u001b[0m\u001b[0;34m.\u001b[0m\u001b[0msin\u001b[0m\u001b[0;34m(\u001b[0m\u001b[0mdot_product\u001b[0m\u001b[0;34m)\u001b[0m\u001b[0;34m\u001b[0m\u001b[0;34m\u001b[0m\u001b[0m\n\u001b[1;32m     10\u001b[0m     \u001b[0mphi\u001b[0m\u001b[0;34m[\u001b[0m\u001b[0;36m1\u001b[0m\u001b[0;34m:\u001b[0m\u001b[0;34m:\u001b[0m\u001b[0;36m2\u001b[0m\u001b[0;34m]\u001b[0m\u001b[0;34m=\u001b[0m\u001b[0mnp\u001b[0m\u001b[0;34m.\u001b[0m\u001b[0mcos\u001b[0m\u001b[0;34m(\u001b[0m\u001b[0mdot_product\u001b[0m\u001b[0;34m)\u001b[0m\u001b[0;34m\u001b[0m\u001b[0;34m\u001b[0m\u001b[0m\n",
      "\u001b[0;32m<__array_function__ internals>\u001b[0m in \u001b[0;36mdot\u001b[0;34m(*args, **kwargs)\u001b[0m\n",
      "\u001b[0;31mValueError\u001b[0m: shapes (50,2) and (5,2) not aligned: 2 (dim 1) != 5 (dim 0)"
     ]
    }
   ],
   "source": [
    "# random features training\n",
    "# w = (Z'Z+simga^2I)^{-1}Z'y\n",
    "rf_start = time.time()\n",
    "phi,Z = computeZ(x_train, y_train) #(n,s)\n",
    "invZ_with_noise = la.inv(Z.T @Z + sigma_n ** 2 * np.identity((m+1)*rf_d)) #(s,s)\n",
    "rf_w = invZ_with_noise @ Z.T @ z_train #(s,1)\n",
    "\n",
    "\n",
    "#label prediction\n",
    "phi_test = rfquery_vector(x_test,y_test)\n",
    "rf_pred = np.dot(phi_test,rf_w)\n",
    "rf_end = time.time()"
   ]
  },
  {
   "cell_type": "code",
   "execution_count": 12,
   "id": "81858829-c79d-4f91-98a7-cdff6e97473b",
   "metadata": {},
   "outputs": [
    {
     "name": "stdout",
     "output_type": "stream",
     "text": [
      "(205, 5) (205, 5)\n"
     ]
    }
   ],
   "source": [
    "# compound kernel training\n",
    "# c_w = (K+sigma^2I)^{-1}K(x)\n",
    "ckernel_start = time.time()\n",
    "kernel,c_kernel = compound_kernel(x_train,y_train)\n",
    "c_vector = cquery_vector(x_train, x_test, y_train, y_test)\n",
    "inv_ckernel_with_noise = la.inv(c_kernel + sigma_n**2 * np.identity(n))\n",
    "c_w = inv_ckernel_with_noise @ c_vector #(n,n_t)\n",
    "print(c_vector.shape, c_w.shape)\n",
    "#label prediction\n",
    "c_pred = z_train@c_w\n",
    "ckernel_end = time.time()"
   ]
  },
  {
   "cell_type": "code",
   "execution_count": 13,
   "id": "96755484-ea83-4f43-88d7-16b806792baa",
   "metadata": {},
   "outputs": [
    {
     "name": "stdout",
     "output_type": "stream",
     "text": [
      "Mean diff kernel: 0.9769660916121357, Mean diff compound kernel 0.7558596073765615\n"
     ]
    }
   ],
   "source": [
    "np.set_printoptions(threshold=np.inf)\n",
    "estimate_k = phi @ phi.T\n",
    "estimate_ck = Z @ Z.T\n",
    "dif_k = np.abs(kernel- estimate_k)\n",
    "dif_ck = np.abs(c_kernel- estimate_ck)\n",
    "mean_dif_k = np.mean(dif_k <.1)\n",
    "mean_dif_ck = np.mean(dif_ck < .1)\n",
    "Y = y_train@y_train.T\n",
    "# for i in range(n):\n",
    "#     for j in range(n):\n",
    "#         print(kernel[i][j],estimate_k[i][j],Y[i][j])\n",
    "#\n",
    "print(f'Mean diff kernel: {mean_dif_k}, Mean diff compound kernel {mean_dif_ck}')\n",
    "# for i in range(n):\n",
    "#     for j in range(n):\n",
    "#         if dif_ck[i][j] > .1:\n",
    "#             print('kernel:   ', i, j, kernel[i][j], estimate_k[i][j], y_train[i]@y_train[j].T);\n",
    "#             print('c_kernel: ', i, j, c_kernel[i][j], estimate_ck[i][j])\n"
   ]
  },
  {
   "cell_type": "code",
   "execution_count": 14,
   "id": "9a8e5acb-faa9-410e-a237-7e899bf7c2ad",
   "metadata": {},
   "outputs": [
    {
     "ename": "NameError",
     "evalue": "name 'phi_test' is not defined",
     "output_type": "error",
     "traceback": [
      "\u001b[0;31m---------------------------------------------------------------------------\u001b[0m",
      "\u001b[0;31mNameError\u001b[0m                                 Traceback (most recent call last)",
      "\u001b[0;32m/var/folders/p7/dy_mpsj13tv174tw914k9y3m0000gn/T/ipykernel_43287/825027496.py\u001b[0m in \u001b[0;36m<module>\u001b[0;34m\u001b[0m\n\u001b[1;32m      1\u001b[0m \u001b[0;31m#random features sigma computation\u001b[0m\u001b[0;34m\u001b[0m\u001b[0;34m\u001b[0m\u001b[0;34m\u001b[0m\u001b[0m\n\u001b[1;32m      2\u001b[0m \u001b[0mrfs_start\u001b[0m \u001b[0;34m=\u001b[0m \u001b[0mtime\u001b[0m\u001b[0;34m.\u001b[0m\u001b[0mtime\u001b[0m\u001b[0;34m(\u001b[0m\u001b[0;34m)\u001b[0m\u001b[0;34m\u001b[0m\u001b[0;34m\u001b[0m\u001b[0m\n\u001b[0;32m----> 3\u001b[0;31m \u001b[0mrf_sigma\u001b[0m \u001b[0;34m=\u001b[0m \u001b[0msigma\u001b[0m\u001b[0;34m**\u001b[0m\u001b[0;36m2\u001b[0m \u001b[0;34m*\u001b[0m \u001b[0mphi_test\u001b[0m\u001b[0;34m.\u001b[0m\u001b[0mT\u001b[0m \u001b[0;34m@\u001b[0m \u001b[0minvZ_with_noise\u001b[0m \u001b[0;34m@\u001b[0m \u001b[0mphi_test\u001b[0m\u001b[0;34m\u001b[0m\u001b[0;34m\u001b[0m\u001b[0m\n\u001b[0m\u001b[1;32m      4\u001b[0m \u001b[0mrfs_end\u001b[0m \u001b[0;34m=\u001b[0m \u001b[0mtime\u001b[0m\u001b[0;34m.\u001b[0m\u001b[0mtime\u001b[0m\u001b[0;34m(\u001b[0m\u001b[0;34m)\u001b[0m\u001b[0;34m\u001b[0m\u001b[0;34m\u001b[0m\u001b[0m\n\u001b[1;32m      5\u001b[0m \u001b[0;34m\u001b[0m\u001b[0m\n",
      "\u001b[0;31mNameError\u001b[0m: name 'phi_test' is not defined"
     ]
    }
   ],
   "source": [
    "#random features sigma computation\n",
    "rfs_start = time.time()\n",
    "rf_sigma = sigma**2 * phi_test.T @ invZ_with_noise @ phi_test\n",
    "rfs_end = time.time()\n",
    "\n",
    "#kernel sigma computation\n",
    "ckernels_start = time.time()\n",
    "kernel_sigma = compute_entry(x_test, x_test, y_test, y_test) -\\\n",
    "            c_vector.T @ inv_ckernel_with_noise @ c_vector\n",
    "ckernels_end = time.time()"
   ]
  },
  {
   "cell_type": "code",
   "execution_count": 15,
   "id": "8ddaa8c2-e454-49c2-b0e7-7dfffb28148d",
   "metadata": {},
   "outputs": [
    {
     "ename": "NameError",
     "evalue": "name 'rf_pred' is not defined",
     "output_type": "error",
     "traceback": [
      "\u001b[0;31m---------------------------------------------------------------------------\u001b[0m",
      "\u001b[0;31mNameError\u001b[0m                                 Traceback (most recent call last)",
      "\u001b[0;32m/var/folders/p7/dy_mpsj13tv174tw914k9y3m0000gn/T/ipykernel_43287/23839501.py\u001b[0m in \u001b[0;36m<module>\u001b[0;34m\u001b[0m\n\u001b[1;32m      1\u001b[0m \u001b[0;31m#print(f'{z_test=}{rf_pred=}{c_pred=}{rf_sigma=}{kernel_sigma=}') does not work for some reason\u001b[0m\u001b[0;34m\u001b[0m\u001b[0;34m\u001b[0m\u001b[0;34m\u001b[0m\u001b[0m\n\u001b[1;32m      2\u001b[0m print(f'z_test={z_test} \\nrf_pred={rf_pred} \\nc_pred={c_pred}\\n\\\n\u001b[0;32m----> 3\u001b[0;31m rf_sigma={rf_sigma} \\nkernel_sigma={kernel_sigma}')\n\u001b[0m\u001b[1;32m      4\u001b[0m \u001b[0mrf_mu_time\u001b[0m \u001b[0;34m=\u001b[0m \u001b[0mrf_end\u001b[0m \u001b[0;34m-\u001b[0m \u001b[0mrf_start\u001b[0m\u001b[0;34m\u001b[0m\u001b[0;34m\u001b[0m\u001b[0m\n\u001b[1;32m      5\u001b[0m \u001b[0mc_mu_time\u001b[0m \u001b[0;34m=\u001b[0m \u001b[0mckernel_end\u001b[0m \u001b[0;34m-\u001b[0m \u001b[0mckernel_start\u001b[0m\u001b[0;34m\u001b[0m\u001b[0;34m\u001b[0m\u001b[0m\n",
      "\u001b[0;31mNameError\u001b[0m: name 'rf_pred' is not defined"
     ]
    }
   ],
   "source": [
    "#print(f'{z_test=}{rf_pred=}{c_pred=}{rf_sigma=}{kernel_sigma=}') does not work for some reason\n",
    "print(f'z_test={z_test} \\nrf_pred={rf_pred} \\nc_pred={c_pred}\\n\\\n",
    "rf_sigma={rf_sigma} \\nkernel_sigma={kernel_sigma}')\n",
    "rf_mu_time = rf_end - rf_start\n",
    "c_mu_time = ckernel_end - ckernel_start\n",
    "print('rf_mu_time, c_mu_time', rf_mu_time, c_mu_time)\n",
    "\n",
    "rf_sigma_time = rfs_end - rfs_start\n",
    "c_sigma_time = ckernels_end - ckernels_start\n",
    "print('rf_sigma_time, c_sigma_time', rf_sigma_time, c_sigma_time)\n",
    "\n",
    "#print('rf_error',la.norm(rf_pred-z_test),'kernel error',la.norm(c_pred-z_test))"
   ]
  },
  {
   "cell_type": "code",
   "execution_count": 298,
   "id": "3543f77a-47c6-4bc6-a548-7e9d9c979a8b",
   "metadata": {},
   "outputs": [],
   "source": [
    "#time constructing the matrix for socp "
   ]
  },
  {
   "cell_type": "code",
   "execution_count": null,
   "id": "40eaf680-01bf-41c9-88c6-b61e0462fcb7",
   "metadata": {},
   "outputs": [],
   "source": []
  }
 ],
 "metadata": {
  "kernelspec": {
   "display_name": "Python 3 (ipykernel)",
   "language": "python",
   "name": "python3"
  },
  "language_info": {
   "codemirror_mode": {
    "name": "ipython",
    "version": 3
   },
   "file_extension": ".py",
   "mimetype": "text/x-python",
   "name": "python",
   "nbconvert_exporter": "python",
   "pygments_lexer": "ipython3",
   "version": "3.7.3"
  }
 },
 "nbformat": 4,
 "nbformat_minor": 5
}
