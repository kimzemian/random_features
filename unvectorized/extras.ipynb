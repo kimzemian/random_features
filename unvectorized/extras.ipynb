{
 "cells": [
  {
   "cell_type": "code",
   "execution_count": null,
   "id": "6bfb4a39-bfab-4363-a211-7ecba3cc5e47",
   "metadata": {},
   "outputs": [],
   "source": [
    "#for aggregating data online\n",
    "\n",
    "def rank_one_update(xs, ys, zs):\n",
    "    #  xs, ys, zs: data that are to be aggregate to the existing data.\n",
    "    # ys = 1 by udim\n",
    "    # xs = 1 by xdim\n",
    "    invZ_with_noise = invZ_with_noise + 1/(np.trace(Z * invZ_with_noise)+1)\\\n",
    "    *invZ_with_noise * Z * invZ_with_noise"
   ]
  },
  {
   "cell_type": "code",
   "execution_count": null,
   "id": "62bfdf41-53de-42be-b161-db8ed4b79f87",
   "metadata": {},
   "outputs": [],
   "source": [
    "# first experiment\n",
    "# covfunc = @covSEiso; % Squared Exponental covariance function\n",
    "# likfunc = @likGauss; % Gaussian likelihood\n",
    "# lik = log(0.1);\n",
    "# % hyperparams for the kernel function for f_i.\n",
    "# hyp_f1 = [0; 0]; \n",
    "# hyp_f2 = [-0.65; -0.1];\n",
    "# n_train = 50;\n",
    "# x_train = 10 * rand(n_train, 1)\n",
    "# writematrix(x_train,'myData.txt')\n",
    "# x_train = sort(x_train);\n",
    "# y1_train = ones(1, n_train);\n",
    "# %y2_train = 10 * rand(1, n_train)-5;\n",
    "# y2_train = zeros(1, n_train);\n",
    "# y_train = [y1_train', y2_train'];\n",
    "\n",
    "# z_train = [];\n",
    "# for i = 1:n_train\n",
    "#     % test output\n",
    "#     z_train = [z_train; f_train(i, :) * y_train(i, :)'];\n",
    "# end\n",
    "#                us_q = [-5; 0; 1; 5;];\n",
    "# nu = size(us_q, 1);\n",
    "# xs_q = 0:0.2:10; xs_q = xs_q';\n",
    "# open_figure();\n",
    "# zs_mu_prediction = cell(4, 1);\n",
    "# zs_cov_prediction = cell(4, 1);\n",
    "# for k = 1:nu\n",
    "#     y_q = [1; us_q(k)];\n",
    "#     ys_q = repmat(y_q, 1, length(xs_q))';"
   ]
  }
 ],
 "metadata": {
  "kernelspec": {
   "display_name": "Python 3",
   "language": "python",
   "name": "python3"
  },
  "language_info": {
   "codemirror_mode": {
    "name": "ipython",
    "version": 3
   },
   "file_extension": ".py",
   "mimetype": "text/x-python",
   "name": "python",
   "nbconvert_exporter": "python",
   "pygments_lexer": "ipython3",
   "version": "3.10.8 (main, Oct 13 2022, 10:17:43) [Clang 14.0.0 (clang-1400.0.29.102)]"
  },
  "vscode": {
   "interpreter": {
    "hash": "aee8b7b246df8f9039afb4144a1f6fd8d2ca17a180786b69acc140d282b71a49"
   }
  }
 },
 "nbformat": 4,
 "nbformat_minor": 5
}
