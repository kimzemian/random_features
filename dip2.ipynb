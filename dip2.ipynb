{
 "cells": [
  {
   "cell_type": "code",
   "execution_count": 1,
   "metadata": {},
   "outputs": [
    {
     "name": "stderr",
     "output_type": "stream",
     "text": [
      "/usr/local/lib/python3.8/site-packages/tqdm/auto.py:21: TqdmWarning: IProgress not found. Please update jupyter and ipywidgets. See https://ipywidgets.readthedocs.io/en/stable/user_install.html\n",
      "  from .autonotebook import tqdm as notebook_tqdm\n"
     ]
    }
   ],
   "source": [
    "import sys\n",
    "import os\n",
    "import numpy as np\n",
    "import numpy.linalg as la \n",
    "import torch\n",
    "from tqdm import tqdm\n",
    "\n",
    "from ControlRF import GPController, ADPKernel, ADPRandomFeatures, ADKernel, ADRandomFeatures, VanillaKernel, VanillaRandomFeatures\n",
    "from ControlRF.plots import *\n",
    "from ControlRF.util import data_gen\n",
    "\n",
    "from core.controllers import QPController, LQRController, FBLinController\n",
    "from core.dynamics import AffineQuadCLF\n",
    "from core.systems import InvertedPendulum, DoubleInvertedPendulum\n",
    "\n"
   ]
  },
  {
   "cell_type": "code",
   "execution_count": 2,
   "metadata": {},
   "outputs": [],
   "source": [
    "l_1 = 0.7\n",
    "l_2 = 0.7\n",
    "system = DoubleInvertedPendulum(0.25,0.25,l_1,l_2) \n",
    "system_est = DoubleInvertedPendulum(0.5,0.5,0.5,0.5)\n",
    "\n",
    "Q , R = 10*np.identity(4), np.identity(2)\n",
    "lyap_est = AffineQuadCLF.build_care(system_est, Q, R) \n",
    "alpha = min(la.eigvalsh(Q)) / max(la.eigvalsh(lyap_est.P))\n",
    "\n",
    "lqr = LQRController.build(system_est, Q, R)\n",
    "fb_lin = FBLinController(system_est, lqr)\n",
    "# fb_lin_data = system.simulate(x_0, fb_lin, ts) #1\n",
    "\n",
    "qp_controller = QPController.build_care(system_est, Q, R)\n",
    "qp_controller.add_regularizer(fb_lin, 25)\n",
    "qp_controller.add_static_cost(np.identity(2))\n",
    "qp_controller.add_stability_constraint(lyap_est, comp=lambda r: alpha * r, slacked=True, coeff = 1e5)\n",
    "#plot_simulation_dip(system, controller, 'qp_controller', x_0, T=100, num_steps=1000)"
   ]
  },
  {
   "cell_type": "code",
   "execution_count": 3,
   "metadata": {},
   "outputs": [],
   "source": [
    "def create_data(T, num_steps):  \n",
    "\n",
    "    initial_x0s = np.mgrid[.1:np.pi:1, -1:1:.4, 0:np.pi:1, -1:1:.4].reshape(4, -1).T\n",
    "    for i,x_0 in enumerate(initial_x0s):\n",
    "        if i==0:\n",
    "            xs, ys, zs = data_gen(system, qp_controller, lyap_est, torch.from_numpy(x_0),  T, num_steps)\n",
    "        else:\n",
    "            x, y, z = data_gen(system, qp_controller, lyap_est, torch.from_numpy(x_0),  T, num_steps)\n",
    "            xs = np.concatenate((xs,x))\n",
    "            ys = np.concatenate((ys,y))\n",
    "            zs = np.concatenate((zs,z))\n",
    "\n",
    "    x, y, z = data_gen(system, qp_controller, lyap_est, torch.FloatTensor([0.1,0,0,0]), 100, 1000)\n",
    "    xs = np.concatenate((xs,x))\n",
    "    ys = np.concatenate((ys,y))\n",
    "    zs = np.concatenate((zs,z))\n",
    "\n",
    "    np.savez(f'data_{T}_{num_steps}', xs=xs, ys=ys, zs=zs)"
   ]
  },
  {
   "cell_type": "code",
   "execution_count": 4,
   "metadata": {},
   "outputs": [],
   "source": [
    "#create_data(1, 10)"
   ]
  },
  {
   "cell_type": "code",
   "execution_count": 5,
   "metadata": {},
   "outputs": [
    {
     "name": "stdout",
     "output_type": "stream",
     "text": [
      "(4599, 4)\n"
     ]
    }
   ],
   "source": [
    "# data = np.load('data,pi,1,sim:10,100.npz')\n",
    "data = np.load('data_1_10.npz')\n",
    "xs = data['xs']\n",
    "ys = data['ys']\n",
    "zs = data['zs']\n",
    "print(xs.shape)"
   ]
  },
  {
   "cell_type": "code",
   "execution_count": 6,
   "metadata": {},
   "outputs": [
    {
     "name": "stdout",
     "output_type": "stream",
     "text": [
      "ad_kernel\n",
      "training time for ad_kernel_gp is: 7.698430762000001\n",
      "ad_rf\n",
      "training time for ad_rf_gp is: 0.9313169340000016\n",
      "adp_kernel\n",
      "training time for adp_kernel_gp is: 5.216278757999998\n",
      "adp_rf\n",
      "training time for adp_rf_gp is: 4.726491765999999\n"
     ]
    }
   ],
   "source": [
    "ad_rf = ADRandomFeatures(xs, ys, zs, rf_d=1500)\n",
    "adp_rf = ADPRandomFeatures(xs, ys, zs, rf_d=1500)\n",
    "ad_kernel = ADKernel(xs, ys, zs)\n",
    "adp_kernel = ADPKernel(xs, ys, zs)\n",
    "gps = [ad_kernel, ad_rf, adp_kernel, adp_rf]\n",
    "controllers = []\n",
    "for gp in gps:\n",
    "    print(gp.__name__)\n",
    "    gp_controller = GPController(system_est, gp)\n",
    "    gp_controller.add_regularizer(fb_lin, 25)\n",
    "    gp_controller.add_static_cost(np.identity(2))\n",
    "    gp_controller.add_stability_constraint(lyap_est, comp=alpha, slacked=True, beta = 1, coeff=1e5)\n",
    "    controllers.append(gp_controller)\n",
    "    print(f'training time for {gp.__name__}_gp is: {gp.training_time}')"
   ]
  },
  {
   "cell_type": "code",
   "execution_count": 7,
   "metadata": {},
   "outputs": [],
   "source": [
    "def plot():\n",
    "    plot_simulation_dip(system, qp_controller, 'qp_controller', x_0, T=100, num_steps=1000)\n",
    "    for gp,controller in tqdm(zip(gps,controllers)):\n",
    "        plot_simulation_dip(system, controller, f'{gp.__name__}_controller', x_0, T=100, num_steps=1000)\n",
    "        plot_closed_loop_errorbar(system, lyap_est, gp_controller, gp, x_0, cut_off=180) #cut_off=180 is good as well\n",
    "    plot_pred_errorbar(xs[300:350], ys[300:350], zs[300:350], gps)\n",
    "    plot_pred_errorbar(xs[950:], ys[950:], zs[950:], gps)\n",
    "\n",
    "    plot_all_closed_loop_errorbars(system, lyap_est, controllers, gps, x_0, cut_off=180)\n"
   ]
  },
  {
   "cell_type": "code",
   "execution_count": 8,
   "metadata": {},
   "outputs": [
    {
     "name": "stderr",
     "output_type": "stream",
     "text": [
      "/var/folders/p7/dy_mpsj13tv174tw914k9y3m0000gn/T/ipykernel_2722/120506490.py:7: MatplotlibDeprecationWarning: The seaborn styles shipped by Matplotlib are deprecated since 3.6, as they no longer correspond to the styles shipped by seaborn. However, they will remain available as 'seaborn-v0_8-<style>'. Alternatively, directly use the seaborn API instead.\n",
      "  plt.style.use('seaborn-whitegrid')\n"
     ]
    }
   ],
   "source": [
    "%matplotlib inline\n",
    "import matplotlib.pyplot as plt\n",
    "import networkx as nx\n",
    "from matplotlib import animation\n",
    "from matplotlib.patches import Rectangle\n",
    "from matplotlib.animation import FuncAnimation, PillowWriter \n",
    "plt.style.use('seaborn-whitegrid')\n",
    "\n",
    "def render(system, controller, controller_name, x_0,\n",
    "\t\t\t\t\tT=20, num_steps=200):\n",
    "\n",
    "    xs, us, ts = simulate(system, controller, x_0, T, num_steps)\n",
    "    dt = T/num_steps\n",
    "\n",
    "    x_solution = np.zeros(len(xs))\n",
    "    a_solution = xs[:, 0]\n",
    "    b_solution = xs[:, 2]\n",
    "\n",
    "    skip_frames = 5\n",
    "\n",
    "    x_solution = x_solution[::skip_frames]\n",
    "    a_solution = a_solution[::skip_frames]\n",
    "    b_solution = b_solution[::skip_frames]\n",
    "\n",
    "    frames = len(x_solution)\n",
    "\n",
    "    j1_x = l_1 * np.sin(a_solution) + x_solution\n",
    "    j1_y = l_1 * np.cos(a_solution)\n",
    "\n",
    "    j2_x = l_2 * np.sin(b_solution) + j1_x\n",
    "    j2_y = l_2 * np.cos(b_solution) + j1_y\n",
    "\n",
    "    fig = plt.figure()\n",
    "    ax = fig.add_subplot(111, autoscale_on=False, xlim=(-1, 1), ylim=(-1, 1))\n",
    "    ax.set_aspect('equal')\n",
    "    ax.grid()\n",
    "\n",
    "    patch = ax.add_patch(Rectangle((0, 0), 0, 0, linewidth=1, edgecolor='k', facecolor='r'))\n",
    "\n",
    "    line, = ax.plot([], [], 'o-', lw=2)\n",
    "    time_template = 'time: %.1f s'\n",
    "    time_text = ax.text(0.05, 0.9, '', transform=ax.transAxes)\n",
    "\n",
    "    cart_width = 0.15\n",
    "    cart_height = 0.1\n",
    "\n",
    "\n",
    "    def init():\n",
    "        line.set_data([], [])\n",
    "        time_text.set_text('')\n",
    "        patch.set_xy((-cart_width / 2, -cart_height / 2))\n",
    "        patch.set_width(cart_width)\n",
    "        patch.set_height(cart_height)\n",
    "        return line, time_text\n",
    "\n",
    "\n",
    "    def animate(i):\n",
    "        thisx = [x_solution[i], j1_x[i], j2_x[i]]\n",
    "        thisy = [0, j1_y[i], j2_y[i]]\n",
    "\n",
    "        line.set_data(thisx, thisy)\n",
    "        now = i * skip_frames * dt\n",
    "        time_text.set_text(time_template % now)\n",
    "\n",
    "        patch.set_x(x_solution[i] - cart_width / 2)\n",
    "        return line, time_text, patch\n",
    "\n",
    "\n",
    "    ani = animation.FuncAnimation(fig, animate, frames=frames,\n",
    "                                  interval=1, blit=True, init_func=init, repeat=False)\n",
    "    plt.close(fig)\n",
    "    return ani"
   ]
  },
  {
   "cell_type": "code",
   "execution_count": 9,
   "metadata": {},
   "outputs": [],
   "source": [
    "x_0 = np.array([-1,-.2,.1,.6])"
   ]
  },
  {
   "cell_type": "code",
   "execution_count": 10,
   "metadata": {},
   "outputs": [],
   "source": [
    "def animate():\n",
    "    ani = render(system, qp_controller, 'qp_controller', x_0, T=100, num_steps=1000)\n",
    "    %time ani.save('dip_qp_2.gif', writer=animation.PillowWriter(fps=24))\n",
    "    for gp,controller in tqdm(zip(gps,controllers)):\n",
    "        ani = render(system, controller, f'{gp.__name__}_controller', x_0, T=100, num_steps=1000)\n",
    "        %time ani.save(f'dip_{gp.__name__}_2.gif', writer=animation.PillowWriter(fps=24))"
   ]
  },
  {
   "cell_type": "code",
   "execution_count": 11,
   "metadata": {},
   "outputs": [
    {
     "name": "stdout",
     "output_type": "stream",
     "text": [
      "CPU times: user 15.9 s, sys: 707 ms, total: 16.6 s\n",
      "Wall time: 16.8 s\n"
     ]
    },
    {
     "name": "stderr",
     "output_type": "stream",
     "text": [
      "1it [01:36, 96.19s/it]"
     ]
    },
    {
     "name": "stdout",
     "output_type": "stream",
     "text": [
      "CPU times: user 14.5 s, sys: 410 ms, total: 14.9 s\n",
      "Wall time: 14.9 s\n"
     ]
    },
    {
     "name": "stderr",
     "output_type": "stream",
     "text": [
      "2it [02:47, 81.54s/it]"
     ]
    },
    {
     "name": "stdout",
     "output_type": "stream",
     "text": [
      "CPU times: user 14.3 s, sys: 365 ms, total: 14.6 s\n",
      "Wall time: 14.5 s\n"
     ]
    },
    {
     "name": "stderr",
     "output_type": "stream",
     "text": [
      "3it [04:23, 88.02s/it]"
     ]
    },
    {
     "name": "stdout",
     "output_type": "stream",
     "text": [
      "CPU times: user 17 s, sys: 851 ms, total: 17.9 s\n",
      "Wall time: 19.2 s\n"
     ]
    },
    {
     "name": "stderr",
     "output_type": "stream",
     "text": [
      "3it [16:18, 326.19s/it]\n"
     ]
    },
    {
     "ename": "KeyboardInterrupt",
     "evalue": "",
     "output_type": "error",
     "traceback": [
      "\u001b[0;31m---------------------------------------------------------------------------\u001b[0m",
      "\u001b[0;31mKeyboardInterrupt\u001b[0m                         Traceback (most recent call last)",
      "Cell \u001b[0;32mIn[11], line 1\u001b[0m\n\u001b[0;32m----> 1\u001b[0m animate()\n",
      "Cell \u001b[0;32mIn[10], line 5\u001b[0m, in \u001b[0;36manimate\u001b[0;34m()\u001b[0m\n\u001b[1;32m      3\u001b[0m get_ipython()\u001b[39m.\u001b[39mrun_line_magic(\u001b[39m'\u001b[39m\u001b[39mtime\u001b[39m\u001b[39m'\u001b[39m, \u001b[39m\"\u001b[39m\u001b[39mani.save(\u001b[39m\u001b[39m'\u001b[39m\u001b[39mdip_qp_2.gif\u001b[39m\u001b[39m'\u001b[39m\u001b[39m, writer=animation.PillowWriter(fps=24))\u001b[39m\u001b[39m\"\u001b[39m)\n\u001b[1;32m      4\u001b[0m \u001b[39mfor\u001b[39;00m gp,controller \u001b[39min\u001b[39;00m tqdm(\u001b[39mzip\u001b[39m(gps,controllers)):\n\u001b[0;32m----> 5\u001b[0m     ani \u001b[39m=\u001b[39m render(system, controller, \u001b[39mf\u001b[39;49m\u001b[39m'\u001b[39;49m\u001b[39m{\u001b[39;49;00mgp\u001b[39m.\u001b[39;49m\u001b[39m__name__\u001b[39;49m\u001b[39m}\u001b[39;49;00m\u001b[39m_controller\u001b[39;49m\u001b[39m'\u001b[39;49m, x_0, T\u001b[39m=\u001b[39;49m\u001b[39m100\u001b[39;49m, num_steps\u001b[39m=\u001b[39;49m\u001b[39m1000\u001b[39;49m)\n\u001b[1;32m      6\u001b[0m     get_ipython()\u001b[39m.\u001b[39mrun_line_magic(\u001b[39m'\u001b[39m\u001b[39mtime\u001b[39m\u001b[39m'\u001b[39m, \u001b[39m\"\u001b[39m\u001b[39mani.save(f\u001b[39m\u001b[39m'\u001b[39m\u001b[39mdip_\u001b[39m\u001b[39m{gp.__name__}\u001b[39;00m\u001b[39m_2.gif\u001b[39m\u001b[39m'\u001b[39m\u001b[39m, writer=animation.PillowWriter(fps=24))\u001b[39m\u001b[39m\"\u001b[39m)\n",
      "Cell \u001b[0;32mIn[8], line 12\u001b[0m, in \u001b[0;36mrender\u001b[0;34m(system, controller, controller_name, x_0, T, num_steps)\u001b[0m\n\u001b[1;32m      9\u001b[0m \u001b[39mdef\u001b[39;00m \u001b[39mrender\u001b[39m(system, controller, controller_name, x_0,\n\u001b[1;32m     10\u001b[0m \t\t\t\t\tT\u001b[39m=\u001b[39m\u001b[39m20\u001b[39m, num_steps\u001b[39m=\u001b[39m\u001b[39m200\u001b[39m):\n\u001b[0;32m---> 12\u001b[0m     xs, us, ts \u001b[39m=\u001b[39m simulate(system, controller, x_0, T, num_steps)\n\u001b[1;32m     13\u001b[0m     dt \u001b[39m=\u001b[39m T\u001b[39m/\u001b[39mnum_steps\n\u001b[1;32m     15\u001b[0m     x_solution \u001b[39m=\u001b[39m np\u001b[39m.\u001b[39mzeros(\u001b[39mlen\u001b[39m(xs))\n",
      "File \u001b[0;32m~/Work/Sarah/control/random_features/ControlRF/util.py:8\u001b[0m, in \u001b[0;36msimulate\u001b[0;34m(system, controller, x_0, T, num_steps)\u001b[0m\n\u001b[1;32m      5\u001b[0m \u001b[39m\u001b[39m\u001b[39m'''simulate system with specified controller'''\u001b[39;00m\n\u001b[1;32m      7\u001b[0m ts \u001b[39m=\u001b[39m np\u001b[39m.\u001b[39mlinspace(\u001b[39m0\u001b[39m, T, num_steps)\n\u001b[0;32m----> 8\u001b[0m xs, us \u001b[39m=\u001b[39m system\u001b[39m.\u001b[39;49msimulate(x_0, controller, ts)\n\u001b[1;32m      9\u001b[0m \u001b[39mreturn\u001b[39;00m xs, us, ts\n",
      "File \u001b[0;32m~/Work/Sarah/control/core/core/dynamics/system_dynamics.py:83\u001b[0m, in \u001b[0;36mSystemDynamics.simulate\u001b[0;34m(self, x_0, controller, ts, processed, atol, rtol)\u001b[0m\n\u001b[1;32m     81\u001b[0m x \u001b[39m=\u001b[39m xs[j]\n\u001b[1;32m     82\u001b[0m t \u001b[39m=\u001b[39m ts[j]\n\u001b[0;32m---> 83\u001b[0m u \u001b[39m=\u001b[39m controller\u001b[39m.\u001b[39;49meval(x, t)\n\u001b[1;32m     84\u001b[0m us[j] \u001b[39m=\u001b[39m u\n\u001b[1;32m     85\u001b[0m u \u001b[39m=\u001b[39m controller\u001b[39m.\u001b[39mprocess(u)\n",
      "File \u001b[0;32m~/Work/Sarah/control/random_features/ControlRF/gp_controller.py:42\u001b[0m, in \u001b[0;36mGPController.eval\u001b[0;34m(self, x, t)\u001b[0m\n\u001b[1;32m     40\u001b[0m dynamic_cost \u001b[39m=\u001b[39m cp\u001b[39m.\u001b[39msum([cost(x, t) \u001b[39mfor\u001b[39;00m cost \u001b[39min\u001b[39;00m \u001b[39mself\u001b[39m\u001b[39m.\u001b[39mdynamic_costs])\n\u001b[1;32m     41\u001b[0m obj \u001b[39m=\u001b[39m cp\u001b[39m.\u001b[39mMinimize(static_cost \u001b[39m+\u001b[39m dynamic_cost)\n\u001b[0;32m---> 42\u001b[0m cons \u001b[39m=\u001b[39m [constraint(x, t) \u001b[39mfor\u001b[39;00m constraint \u001b[39min\u001b[39;00m \u001b[39mself\u001b[39m\u001b[39m.\u001b[39mconstraints]\n\u001b[1;32m     43\u001b[0m prob \u001b[39m=\u001b[39m cp\u001b[39m.\u001b[39mProblem(obj, cons)\n\u001b[1;32m     44\u001b[0m prob\u001b[39m.\u001b[39msolve(solver \u001b[39m=\u001b[39m \u001b[39m'\u001b[39m\u001b[39mMOSEK\u001b[39m\u001b[39m'\u001b[39m, warm_start\u001b[39m=\u001b[39m\u001b[39mTrue\u001b[39;00m)\n",
      "File \u001b[0;32m~/Work/Sarah/control/random_features/ControlRF/gp_controller.py:42\u001b[0m, in \u001b[0;36m<listcomp>\u001b[0;34m(.0)\u001b[0m\n\u001b[1;32m     40\u001b[0m dynamic_cost \u001b[39m=\u001b[39m cp\u001b[39m.\u001b[39msum([cost(x, t) \u001b[39mfor\u001b[39;00m cost \u001b[39min\u001b[39;00m \u001b[39mself\u001b[39m\u001b[39m.\u001b[39mdynamic_costs])\n\u001b[1;32m     41\u001b[0m obj \u001b[39m=\u001b[39m cp\u001b[39m.\u001b[39mMinimize(static_cost \u001b[39m+\u001b[39m dynamic_cost)\n\u001b[0;32m---> 42\u001b[0m cons \u001b[39m=\u001b[39m [constraint(x, t) \u001b[39mfor\u001b[39;00m constraint \u001b[39min\u001b[39;00m \u001b[39mself\u001b[39m\u001b[39m.\u001b[39mconstraints]\n\u001b[1;32m     43\u001b[0m prob \u001b[39m=\u001b[39m cp\u001b[39m.\u001b[39mProblem(obj, cons)\n\u001b[1;32m     44\u001b[0m prob\u001b[39m.\u001b[39msolve(solver \u001b[39m=\u001b[39m \u001b[39m'\u001b[39m\u001b[39mMOSEK\u001b[39m\u001b[39m'\u001b[39m, warm_start\u001b[39m=\u001b[39m\u001b[39mTrue\u001b[39;00m)\n",
      "File \u001b[0;32m~/Work/Sarah/control/random_features/ControlRF/gp_controller.py:27\u001b[0m, in \u001b[0;36mGPController.add_stability_constraint.<locals>.<lambda>\u001b[0;34m(x, t)\u001b[0m\n\u001b[1;32m     25\u001b[0m     \u001b[39mself\u001b[39m\u001b[39m.\u001b[39mvariables\u001b[39m.\u001b[39mappend(delta)\n\u001b[1;32m     26\u001b[0m     \u001b[39mself\u001b[39m\u001b[39m.\u001b[39mstatic_costs\u001b[39m.\u001b[39mappend(coeff \u001b[39m*\u001b[39m cp\u001b[39m.\u001b[39msquare(delta))\n\u001b[0;32m---> 27\u001b[0m     constraint \u001b[39m=\u001b[39m \u001b[39mlambda\u001b[39;00m x,t :  \u001b[39mself\u001b[39;49m\u001b[39m.\u001b[39;49m_build_cons(x, t, aff_lyap, comp, beta, delta)\n\u001b[1;32m     28\u001b[0m \u001b[39melse\u001b[39;00m:\n\u001b[1;32m     29\u001b[0m     constraint \u001b[39m=\u001b[39m \u001b[39mlambda\u001b[39;00m x,t :  \u001b[39mself\u001b[39m\u001b[39m.\u001b[39m_build_cons(x, t, aff_lyap, comp, beta)\n",
      "File \u001b[0;32m~/Work/Sarah/control/random_features/ControlRF/gp_controller.py:33\u001b[0m, in \u001b[0;36mGPController._build_cons\u001b[0;34m(self, x, t, aff_lyap, comp, beta, delta)\u001b[0m\n\u001b[1;32m     32\u001b[0m \u001b[39mdef\u001b[39;00m \u001b[39m_build_cons\u001b[39m(\u001b[39mself\u001b[39m, x, t, aff_lyap, comp, beta, delta\u001b[39m=\u001b[39m\u001b[39m0\u001b[39m):\n\u001b[0;32m---> 33\u001b[0m     mv, sv \u001b[39m=\u001b[39m \u001b[39mself\u001b[39;49m\u001b[39m.\u001b[39;49mgp\u001b[39m.\u001b[39;49mmean_var(x[np\u001b[39m.\u001b[39;49mnewaxis,:]), \u001b[39mself\u001b[39m\u001b[39m.\u001b[39mgp\u001b[39m.\u001b[39msigma_var() \u001b[39m#m+1, (m+1,m+1)\u001b[39;00m\n\u001b[1;32m     34\u001b[0m     input_dep \u001b[39m=\u001b[39m \u001b[39m-\u001b[39m(aff_lyap\u001b[39m.\u001b[39mact(x,t) \u001b[39m+\u001b[39m mv[\u001b[39m1\u001b[39m:]) \u001b[39m#m\u001b[39;00m\n\u001b[1;32m     35\u001b[0m     input_indep \u001b[39m=\u001b[39m delta \u001b[39m-\u001b[39m(aff_lyap\u001b[39m.\u001b[39mdrift(x,t) \u001b[39m+\u001b[39m mv[\u001b[39m0\u001b[39m] \u001b[39m+\u001b[39m comp \u001b[39m*\u001b[39m aff_lyap\u001b[39m.\u001b[39meval(x,t)) \u001b[39m#()\u001b[39;00m\n",
      "File \u001b[0;32m~/Work/Sarah/control/random_features/ControlRF/gps/adp_rf.py:62\u001b[0m, in \u001b[0;36mADPRandomFeatures.mean_var\u001b[0;34m(self, x_test)\u001b[0m\n\u001b[1;32m     60\u001b[0m \u001b[39mdef\u001b[39;00m \u001b[39mmean_var\u001b[39m(\u001b[39mself\u001b[39m,x_test): \u001b[39m#n_t=1\u001b[39;00m\n\u001b[1;32m     61\u001b[0m     \u001b[39mself\u001b[39m\u001b[39m.\u001b[39mphi_test \u001b[39m=\u001b[39m \u001b[39mself\u001b[39m\u001b[39m.\u001b[39m_compute_phi(x_test) \u001b[39m#(n_t,s)\u001b[39;00m\n\u001b[0;32m---> 62\u001b[0m     rest \u001b[39m=\u001b[39m np\u001b[39m.\u001b[39mreshape(\u001b[39mself\u001b[39;49m\u001b[39m.\u001b[39;49minv_cphi \u001b[39m@\u001b[39;49m \u001b[39mself\u001b[39;49m\u001b[39m.\u001b[39;49mcphi\u001b[39m.\u001b[39;49mT \u001b[39m@\u001b[39m \u001b[39mself\u001b[39m\u001b[39m.\u001b[39mz_train, (\u001b[39mself\u001b[39m\u001b[39m.\u001b[39mrf_d,\u001b[39m-\u001b[39m\u001b[39m1\u001b[39m)) \u001b[39m#(rf_d,m+1)\u001b[39;00m\n\u001b[1;32m     63\u001b[0m     meanvar \u001b[39m=\u001b[39m np\u001b[39m.\u001b[39meinsum(\u001b[39m'\u001b[39m\u001b[39mij,ji->i\u001b[39m\u001b[39m'\u001b[39m, \u001b[39mself\u001b[39m\u001b[39m.\u001b[39mphi_test\u001b[39m.\u001b[39mreshape((\u001b[39mself\u001b[39m\u001b[39m.\u001b[39mm\u001b[39m+\u001b[39m\u001b[39m1\u001b[39m,\u001b[39m-\u001b[39m\u001b[39m1\u001b[39m)), rest) \u001b[39m#(m+1)\u001b[39;00m\n\u001b[1;32m     64\u001b[0m     \u001b[39m#y @  meanvar\u001b[39;00m\n",
      "\u001b[0;31mKeyboardInterrupt\u001b[0m: "
     ]
    }
   ],
   "source": [
    "#animate()"
   ]
  },
  {
   "cell_type": "code",
   "execution_count": null,
   "metadata": {},
   "outputs": [],
   "source": [
    "# ani = render(system, qp_controller, 'qp_controller', x_0, T=100, num_steps=1000)\n",
    "# %time ani.save(f'dip_{gp.__name__}.gif', writer=animation.PillowWriter(fps=24))"
   ]
  }
 ],
 "metadata": {
  "kernelspec": {
   "display_name": "Python 3 (ipykernel)",
   "language": "python",
   "name": "python3"
  },
  "language_info": {
   "codemirror_mode": {
    "name": "ipython",
    "version": 3
   },
   "file_extension": ".py",
   "mimetype": "text/x-python",
   "name": "python",
   "nbconvert_exporter": "python",
   "pygments_lexer": "ipython3",
   "version": "3.8.10"
  },
  "vscode": {
   "interpreter": {
    "hash": "0adcc2737ebf6a4a119f135174df96668767fca1ef1112612db5ecadf2b6d608"
   }
  }
 },
 "nbformat": 4,
 "nbformat_minor": 4
}
