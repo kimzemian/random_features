{
 "cells": [
  {
   "cell_type": "code",
   "execution_count": 1,
   "metadata": {},
   "outputs": [],
   "source": [
    "import sys\n",
    "import os\n",
    "import numpy as np\n",
    "import numpy.linalg as la\n",
    "import matplotlib.pyplot as plt\n",
    "\n",
    "\n",
    "from ControlRF import ADPGPController\n",
    "\n",
    "module_path = os.path.abspath(os.path.join('..'))\n",
    "if module_path not in sys.path:\n",
    "    sys.path.append(module_path + \"/core\")\n",
    "\n",
    "import core\n",
    "from core.controllers import QPController\n",
    "from core.dynamics import AffineDynamics, AffineQuadCLF, ScalarDynamics, SystemDynamics, RoboticDynamics\n",
    "from core.util import arr_map\n",
    "from core.controllers import FBLinController, LQRController\n",
    "from core.systems import InvertedPendulum,DoubleInvertedPendulum\n"
   ]
  },
  {
   "cell_type": "code",
   "execution_count": 2,
   "metadata": {},
   "outputs": [],
   "source": [
    "def plot_simulation(system, controller, x_0,\n",
    "\t\t\t\t\tT=20, num_steps=200):\n",
    "\tts = np.linspace(0, T, num_steps + 1)\n",
    "\txs, us = system.simulate(x_0, controller, ts)\n",
    "\n",
    "\tax = plt.figure(figsize=(8, 6), tight_layout=True).add_subplot(1, 1, 1)\n",
    "\tax.set_xlabel('$t$', fontsize=16)\n",
    "\tax.plot(ts, xs[:,0], '-', label='theta')\n",
    "\tax.plot(ts, xs[:,1], '-', label='theta dot')\n",
    "\tax.plot(ts[1:], us, '-', label='input')\n",
    "\n",
    "\tax.legend(fontsize=16)\n",
    "\tax.grid()\n",
    "\n",
    "\tax = plt.figure(figsize=(8, 6), tight_layout=True).add_subplot(1, 1, 1)\n",
    "\tax.set_xlabel('$\\\\theta$', fontsize=16)\n",
    "\tax.set_ylabel('$\\dot \\\\theta$', fontsize=16)\n",
    "\tax.plot(xs[:,0], xs[:,1], '-')\n",
    "\tax.grid()"
   ]
  },
  {
   "cell_type": "code",
   "execution_count": 3,
   "metadata": {},
   "outputs": [],
   "source": [
    "def main_invp(plot=False): #d=1\n",
    "    system = InvertedPendulum(0.7,0.7)\n",
    "    system_est = InvertedPendulum(0.50,0.5)\n",
    "    lyap_est = AffineQuadCLF.build_care(system_est, Q=np.identity(2), R=np.identity(1))\n",
    "    \n",
    "    alpha = 1 / max(la.eigvals(lyap_est.P))\n",
    "    \n",
    "    # Nominal Controller Static Slacked\n",
    "    controller = QPController(system_est, system.m)\n",
    "    controller.add_static_cost(np.identity(1))\n",
    "    controller.add_stability_constraint(lyap_est, comp=lambda r: alpha * r, slacked=True, coeff = 1e3)\n",
    "    \n",
    "    x_0 = np.array([2, 0.1])\n",
    "    adp_controller = ADPGPController(system_est, system, controller, lyap_est, x_0, 100, 1000, estimate=True)\n",
    "    adp_controller.add_static_cost(np.identity(1))\n",
    "    adp_controller.add_stability_constraint(lyap_est, comp=alpha, slacked=True, beta = 1, coeff=1e3)\n",
    "    \n",
    "    x_0 = np.array([1, 0.1])\n",
    "    \n",
    "    if plot:\n",
    "        #plot_simulation(system, controller, x_0)\n",
    "        plot_simulation(system, adp_controller, x_0, T=100, num_steps=1000)\n"
   ]
  },
  {
   "cell_type": "code",
   "execution_count": 4,
   "metadata": {},
   "outputs": [],
   "source": [
    "class SetPointOutput(RoboticDynamics):\n",
    "    def __init__(self, robotic_dynamics, q_d):\n",
    "        RoboticDynamics.__init__(self, robotic_dynamics.k, robotic_dynamics.m)\n",
    "        self.robotic_dynamics = robotic_dynamics\n",
    "        self.q_d = q_d\n",
    "        \n",
    "    def eval(self, x, t):\n",
    "        q, q_dot = np.reshape(x, (2, -1))\n",
    "        return np.concatenate([q - self.q_d, q_dot])\n",
    "        \n",
    "    def drift(self, x, t):\n",
    "        return self.robotic_dynamics.drift(x, t)\n",
    "    \n",
    "    def act(self, x, t):\n",
    "        return self.robotic_dynamics.act(x, t)"
   ]
  },
  {
   "cell_type": "code",
   "execution_count": 5,
   "metadata": {},
   "outputs": [],
   "source": [
    "def main_double_invp(plot=True):\n",
    "    system = DoubleInvertedPendulum(0.25,0.25,.7,0.7)\n",
    "    system_est = DoubleInvertedPendulum(0.5,0.5,0.5,0.5)\n",
    "    Q , R = 10*np.identity(4), np.identity(2)\n",
    "    q_d = np.array([-1, 0])\n",
    "    set_point = SetPointOutput(system_est, q_d)\n",
    "    lyap_est = AffineQuadCLF.build_care(set_point, Q, R)\n",
    "        \n",
    "    alpha = min(la.eigvalsh(Q)) / max(la.eigvalsh(lyap_est.P))\n",
    "    \n",
    "    # Nominal Controller Static Slacked\n",
    "    # controller = QPController.build_care(system_est,Q ,R)\n",
    "    controller = QPController(system, 2)\n",
    "    controller.add_stability_constraint(lyap_est, comp=lambda r: alpha * r, slacked=True, coeff = 1e3)\n",
    "    \n",
    "\n",
    "    # lqr = LQRController.build(set_point, Q, R)\n",
    "    # fb_lin = FBLinController(set_point, lqr)\n",
    "    # qp.add_regularizer(fb_lin, 1)\n",
    "\n",
    "\n",
    "    x_0 = np.array([1, 0, 0, 0])\n",
    "    adp_controller = ADPGPController(system_est, system, controller, lyap_est, x_0, 20, 200, estimate=False)\n",
    "    adp_controller.add_static_cost(np.identity(2))\n",
    "    adp_controller.add_stability_constraint(lyap_est, comp=alpha, slacked=True, beta = 1, coeff=1e3)\n",
    "    \n",
    "    if plot:\n",
    "        plot_simulation(system, controller, x_0)\n",
    "        plot_simulation(system, adp_controller, x_0, T=20, num_steps=200)"
   ]
  },
  {
   "cell_type": "code",
   "execution_count": 7,
   "metadata": {},
   "outputs": [
    {
     "ename": "AttributeError",
     "evalue": "'SetPointOutput' object has no attribute 'linear_system'",
     "output_type": "error",
     "traceback": [
      "\u001b[0;31m---------------------------------------------------------------------------\u001b[0m",
      "\u001b[0;31mAttributeError\u001b[0m                            Traceback (most recent call last)",
      "Cell \u001b[0;32mIn [7], line 2\u001b[0m\n\u001b[1;32m      1\u001b[0m \u001b[39m#main_invp(plot=True)\u001b[39;00m\n\u001b[0;32m----> 2\u001b[0m main_double_invp()\n",
      "Cell \u001b[0;32mIn [5], line 7\u001b[0m, in \u001b[0;36mmain_double_invp\u001b[0;34m(plot)\u001b[0m\n\u001b[1;32m      5\u001b[0m q_d \u001b[39m=\u001b[39m np\u001b[39m.\u001b[39marray([\u001b[39m-\u001b[39m\u001b[39m1\u001b[39m, \u001b[39m0\u001b[39m])\n\u001b[1;32m      6\u001b[0m set_point \u001b[39m=\u001b[39m SetPointOutput(system_est, q_d)\n\u001b[0;32m----> 7\u001b[0m lyap_est \u001b[39m=\u001b[39m AffineQuadCLF\u001b[39m.\u001b[39;49mbuild_care(set_point, Q, R)\n\u001b[1;32m      9\u001b[0m alpha \u001b[39m=\u001b[39m \u001b[39mmin\u001b[39m(la\u001b[39m.\u001b[39meigvalsh(Q)) \u001b[39m/\u001b[39m \u001b[39mmax\u001b[39m(la\u001b[39m.\u001b[39meigvalsh(lyap\u001b[39m.\u001b[39mP))\n\u001b[1;32m     11\u001b[0m \u001b[39m# Nominal Controller Static Slacked\u001b[39;00m\n\u001b[1;32m     12\u001b[0m \u001b[39m# controller = QPController.build_care(system_est,Q ,R)\u001b[39;00m\n",
      "File \u001b[0;32m~/Work/Sarah/control/core/core/dynamics/affine_quad_clf.py:37\u001b[0m, in \u001b[0;36mAffineQuadCLF.build_care\u001b[0;34m(affine_linearizable_dynamics, Q, R)\u001b[0m\n\u001b[1;32m     26\u001b[0m \u001b[39mdef\u001b[39;00m \u001b[39mbuild_care\u001b[39m(affine_linearizable_dynamics, Q, R):\n\u001b[1;32m     27\u001b[0m     \u001b[39m\"\"\"Build AffineQuadCLF from affine and linearizable dynamics by solving continuous-time algebraic Riccati equation (CARE).\u001b[39;00m\n\u001b[1;32m     28\u001b[0m \n\u001b[1;32m     29\u001b[0m \u001b[39m    CARE is F' * P + P * F - P * G * R^-1 * G' * P = -Q.\u001b[39;00m\n\u001b[0;32m   (...)\u001b[0m\n\u001b[1;32m     34\u001b[0m \u001b[39m    Positive-definite action cost matrix, R: numpy array\u001b[39;00m\n\u001b[1;32m     35\u001b[0m \u001b[39m    \"\"\"\u001b[39;00m\n\u001b[0;32m---> 37\u001b[0m     F, G \u001b[39m=\u001b[39m affine_linearizable_dynamics\u001b[39m.\u001b[39;49mlinear_system()\n\u001b[1;32m     38\u001b[0m     P \u001b[39m=\u001b[39m solve_continuous_are(F, G, Q, R)\n\u001b[1;32m     39\u001b[0m     \u001b[39mreturn\u001b[39;00m AffineQuadCLF(affine_linearizable_dynamics, P)\n",
      "\u001b[0;31mAttributeError\u001b[0m: 'SetPointOutput' object has no attribute 'linear_system'"
     ]
    }
   ],
   "source": [
    "#main_invp(plot=True)\n",
    "main_double_invp()"
   ]
  }
 ],
 "metadata": {
  "kernelspec": {
   "display_name": "Python 3",
   "language": "python",
   "name": "python3"
  },
  "language_info": {
   "codemirror_mode": {
    "name": "ipython",
    "version": 3
   },
   "file_extension": ".py",
   "mimetype": "text/x-python",
   "name": "python",
   "nbconvert_exporter": "python",
   "pygments_lexer": "ipython3",
   "version": "3.10.8"
  },
  "orig_nbformat": 4,
  "vscode": {
   "interpreter": {
    "hash": "aee8b7b246df8f9039afb4144a1f6fd8d2ca17a180786b69acc140d282b71a49"
   }
  }
 },
 "nbformat": 4,
 "nbformat_minor": 2
}
