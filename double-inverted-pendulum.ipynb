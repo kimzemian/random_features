{
 "cells": [
  {
   "cell_type": "markdown",
   "metadata": {},
   "source": [
    "$\\newcommand{\\mb}[1]{\\mathbf{ #1 }}$\n",
    "$\\newcommand{\\bb}[1]{\\mathbb{ #1 }}$\n",
    "$\\newcommand{\\bs}[1]{\\boldsymbol{ #1 }}$\n",
    "$\\newcommand{\\norm}[1]{\\left\\Vert #1 \\right\\Vert}$\n",
    "\n",
    "$\\newcommand{\\der}[2]{\\frac{\\mathrm{d} #1 }{\\mathrm{d} #2 }}$\n",
    "$\\newcommand{\\derp}[2]{\\frac{\\partial #1 }{\\partial #2 }}$\n",
    "\n",
    "$\\newcommand{\\R}{\\bb{R}}$"
   ]
  },
  {
   "cell_type": "markdown",
   "metadata": {},
   "source": [
    "# Double Inverted Pendulum"
   ]
  },
  {
   "cell_type": "markdown",
   "metadata": {},
   "source": [
    "Consider a frictionless two-link pendulum. Torque $\\tau_1$ is applied at a fixed base, where the first link is attached. Torque $\\tau_2$ is applied at the opposite end of the first link, where the second link is attached. "
   ]
  },
  {
   "cell_type": "markdown",
   "metadata": {},
   "source": [
    "The first and second links are modeled as massless, with point masses $m_1$ and $m_2$ at lengths of $l_1$ and $l_2$ from the torque applications, respectively."
   ]
  },
  {
   "cell_type": "markdown",
   "metadata": {},
   "source": [
    "Assume the angle of the first link from upright $\\theta_1$ and the angle of the second link from the first link $\\theta_2$ are measured, along with the corresponding angular rates $\\dot{\\theta}_1$ and $\\dot{\\theta}_2$. Let $\\mb{q} = (\\theta_1, \\theta_2)$ and $\\dot{\\mb{q}} = (\\dot{\\theta}_1, \\dot{\\theta}_2)$."
   ]
  },
  {
   "cell_type": "markdown",
   "metadata": {},
   "source": [
    "## Dynamics"
   ]
  },
  {
   "cell_type": "markdown",
   "metadata": {},
   "source": [
    "Let $\\mathcal{I} = (\\mb{i}_1, \\mb{i}_2, \\mb{i}_3)$ be an inertial reference frame and let $\\mathcal{A} = (\\mb{a}_1, \\mb{a}_2, \\mb{a}_3)$ and $\\mathcal{B} = (\\mb{b}_1, \\mb{b}_2, \\mb{b}_3)$ be body reference frames such that $\\mb{i}_3 = \\mb{a}_3 = \\mb{b}_3$. Let $\\mb{e}_1, \\mb{e}_2, \\mb{e}_3 \\in \\R^3$ be elementary basis vectors."
   ]
  },
  {
   "cell_type": "markdown",
   "metadata": {},
   "source": [
    "Let $\\mb{f}_1^\\mathcal{I} = -m_1 g \\mb{e}_1$ and $\\mb{f}_2^{\\mathcal{I}} = -m_2 g \\mb{e}_1$ denote graviational forces on the first and second link, respectively, both resolved in the inertial reference frame."
   ]
  },
  {
   "cell_type": "markdown",
   "metadata": {},
   "source": [
    "Let $\\mb{r}_{10}^\\mathcal{A} = l_1 \\mb{e}_1$ denote the position of the joint relative to the base resolved in the $\\mathcal{A}$ frame. Let $\\mb{r}_{21}^\\mathcal{B} = l_2 \\mb{e}_1$ denote the position of the end of the pendulum relative to the joint resolved in the $\\mathcal{B}$ frame."
   ]
  },
  {
   "cell_type": "markdown",
   "metadata": {},
   "source": [
    "Let $\\mb{R}: \\R \\to \\R^{3 \\times 3}$ be a rotation matrix defined as:\n",
    "\n",
    "\\begin{equation}\n",
    "    \\mb{R}(\\theta) = \\begin{bmatrix} \\cos{\\theta} & -\\sin{\\theta} & 0 \\\\ \\sin{\\theta} & \\cos{\\theta} & 0 \\\\ 0 & 0 & 1 \\end{bmatrix},\n",
    "\\end{equation}\n",
    "\n",
    "for all $\\theta \\in \\R$."
   ]
  },
  {
   "cell_type": "markdown",
   "metadata": {},
   "source": [
    "The direction cosine matrix (DCM) relating $\\mathcal{A}$ frame coordinates to inertial frame coordinates is $\\mb{C}^{\\mathcal{A}\\mathcal{I}} = \\mb{R}(\\theta_1)^\\top$, while the DCM relating $\\mathcal{B}$ frame coordinates to $\\mathcal{A}$ frame coordinates is $\\mb{C}^{\\mathcal{B}\\mathcal{A}} = \\mb{R}(\\theta_2)^\\top$."
   ]
  },
  {
   "cell_type": "markdown",
   "metadata": {},
   "source": [
    "Since $\\mb{R}(\\theta)$ is orthogonal for all $\\theta \\in \\R$, $\\mb{C}^{\\mathcal{I}\\mathcal{A}} = \\mb{R}(\\theta_1)$ and $\\mb{C}^{\\mathcal{A}\\mathcal{B}} = \\mb{R}(\\theta_2)$."
   ]
  },
  {
   "cell_type": "markdown",
   "metadata": {},
   "source": [
    "Additionally, the DCM relating $\\mathcal{B}$ frame coordinates to $\\mathcal{I}$ frame coordinates is $\\mb{C}^{\\mathcal{B}\\mathcal{I}} = \\mb{C}^{\\mathcal{B}\\mathcal{A}}\\mb{C}^{\\mathcal{A}\\mathcal{I}}$, and $\\mb{C}^{\\mathcal{I}\\mathcal{B}} = \\mb{C}^{\\mathcal{I}\\mathcal{A}}\\mb{C}^{\\mathcal{A}\\mathcal{B}} = \\mb{R}(\\theta_1)\\mb{R}(\\theta_2)$."
   ]
  },
  {
   "cell_type": "markdown",
   "metadata": {},
   "source": [
    "The position of the joint relative to the base resolved in the inertial frame is:\n",
    "\n",
    "\\begin{align}\n",
    "    \\mb{r}_{10}^\\mathcal{I} &= \\mb{C}^{\\mathcal{I}\\mathcal{A}}\\mb{r}_{10}^{\\mathcal{A}}\\\\\n",
    "    &= l_1 \\mb{R}(\\theta_1)\\mb{e}_1\\\\\n",
    "    &= \\begin{bmatrix} l_1 \\cos{\\theta} \\\\ l_1 \\sin{\\theta} \\\\ 0 \\end{bmatrix},\n",
    "\\end{align}\n",
    "\n",
    "while the position of the end of the pendulum relative to the base resolved in the inertial frame is:\n",
    "\n",
    "\\begin{align}\n",
    "    \\mb{r}_{20}^\\mathcal{I} &= \\mb{r}_{21}^\\mathcal{I} + \\mb{r}_{10}^\\mathcal{I}\\\\\n",
    "    &= \\mb{C}^{\\mathcal{IB}}\\mb{r}_{21}^\\mathcal{B} + \\mb{C}^{\\mathcal{I}\\mathcal{A}}\\mb{r}_{10}^\\mathcal{A}\\\\\n",
    "    &= l_2 \\mb{R}(\\theta_1)\\mb{R}(\\theta_2) \\mb{e}_1 + l_1 \\mb{R}(\\theta_1) \\mb{e}_1\\\\\n",
    "    &= \\mb{R}(\\theta_1) \\begin{bmatrix} l_2 \\cos{\\theta_2} \\\\ l_2 \\sin{\\theta_2} \\\\ 0 \\end{bmatrix} + \\begin{bmatrix} l_1 \\cos{\\theta_1} \\\\ l_1 \\sin{\\theta_1} \\\\ 0 \\end{bmatrix}\\\\\n",
    "    &= \\begin{bmatrix} l_2 \\cos{\\theta_1} \\cos{\\theta_2} - l_2 \\sin{\\theta_1} \\sin{\\theta_2} + l_1 \\cos{\\theta_1} \\\\ l_2 \\sin{\\theta_1} \\cos{\\theta_2} + l_2 \\cos{\\theta_1} \\sin{\\theta_2} + l_1 \\sin{\\theta_1} \\\\ 0 \\end{bmatrix}\\\\\n",
    "    &= \\begin{bmatrix} l_2 \\cos{(\\theta_1 + \\theta_2)} + l_1 \\cos{\\theta_1} \\\\ l_2 \\sin{(\\theta_1 + \\theta_2)} + l_1 \\sin{\\theta_1} \\\\ 0 \\end{bmatrix},\n",
    "\\end{align}\n",
    "\n",
    "making use of the facts that $\\cos{(\\theta_1 + \\theta_2)} = \\cos{\\theta_1}\\cos{\\theta_2} - \\sin{\\theta_1}\\sin{\\theta_2}$ and $\\sin{(\\theta_1 + \\theta_2)} = \\sin{\\theta_1}\\cos{\\theta_2} + \\cos{\\theta_1}\\sin{\\theta_2}$."
   ]
  },
  {
   "cell_type": "markdown",
   "metadata": {},
   "source": [
    "The corresponding velocities are:\n",
    "\n",
    "\\begin{equation}\n",
    "    \\dot{\\mb{r}}_{10}^\\mathcal{I} = \\begin{bmatrix} -l_1 \\sin{\\theta_1} & 0 \\\\ l_1 \\cos{\\theta_1} & 0 \\\\ 0 & 0 \\end{bmatrix} \\begin{bmatrix} \\dot{\\theta}_1 \\\\ \\dot{\\theta}_2 \\end{bmatrix},\n",
    "\\end{equation}\n",
    "\n",
    "as well as:\n",
    "\n",
    "\\begin{equation}\n",
    "    \\dot{\\mb{r}}_{20}^\\mathcal{I} = \\begin{bmatrix} -l_2 \\sin{(\\theta_1 + \\theta_2)} -l_1 \\sin{\\theta_1} & -l_2 \\sin{(\\theta_1 + \\theta_2)} \\\\ l_2 \\cos{(\\theta_1 + \\theta_2)} + l_1 \\cos{\\theta_1} & l_2 \\cos{(\\theta_1 + \\theta_2)} \\\\ 0 & 0 \\end{bmatrix} \\begin{bmatrix} \\dot{\\theta}_1 \\\\ \\dot{\\theta}_2 \\end{bmatrix},\n",
    "\\end{equation}"
   ]
  },
  {
   "cell_type": "markdown",
   "metadata": {},
   "source": [
    "The corresponding kinetic energy terms are:\n",
    "\n",
    "\\begin{equation}\n",
    "    \\frac{1}{2}m_1\\norm{ \\dot{\\mb{r}}_{10}^\\mathcal{I} }_2^2 = \\frac{1}{2} m_1 \\dot{\\mb{q}}^\\top \\begin{bmatrix} l_1^2 & 0 \\\\ 0 & 0 \\end{bmatrix} \\dot{\\mb{q}},\n",
    "\\end{equation}\n",
    "\n",
    "as well as:\n",
    "\n",
    "\\begin{align}\n",
    "    \\frac{1}{2}m_2\\norm{ \\dot{\\mb{r}}_{20}^\\mathcal{I} }_2^2 &= \\frac{1}{2} m_2 \\dot{\\mb{q}}^\\top \\begin{bmatrix} l_1^2 + 2 l_1 l_2 (\\sin{(\\theta_1 + \\theta_2)}\\sin{\\theta_1} + \\cos{(\\theta_1 + \\theta_2)}\\cos{\\theta_1})  + l_2^2 & l_1 l_2 (\\sin{(\\theta_1 + \\theta_2)\\sin{\\theta_1}} + \\cos{(\\theta_1 + \\theta_2)}\\cos{\\theta_1}) + l_2^2 \\\\ l_1 l_2 (\\sin{(\\theta_1 + \\theta_2)\\sin{\\theta_1}} + \\cos{(\\theta_1 + \\theta_2)}\\cos{\\theta_1}) + l_2^2 & l_2^2 \\end{bmatrix} \\dot{\\mb{q}}\\\\\n",
    "    &= \\frac{1}{2}m_2\\dot{\\mb{q}}^\\top \\begin{bmatrix} l_1^2 + 2 l_1 l_2 \\cos{\\theta_2} + l_2^2 & l_1 l_2 \\cos{\\theta_2} + l_2^2 \\\\ l_1 l_2 \\cos{\\theta_2} + l_2^2 & l_2^2 \\end{bmatrix} \\dot{\\mb{q}},\n",
    "\\end{align}\n",
    "\n",
    "using the fact that $\\cos{\\theta_2} = \\cos{((\\theta_1 + \\theta_2) - \\theta_1)} = \\cos{(\\theta_1 + \\theta_2)}\\cos{\\theta_1} + \\sin{(\\theta_1 + \\theta_2)}\\sin{\\theta_1}$."
   ]
  },
  {
   "cell_type": "markdown",
   "metadata": {},
   "source": [
    "The total kinetic energy of the system can now be described as:\n",
    "\n",
    "\\begin{equation}\n",
    "    T(\\mb{q}, \\dot{\\mb{q}}) = \\frac{1}{2} \\dot{\\mb{q}}^\\top \\underbrace{ \\begin{bmatrix} (m_1 + m_2)l_1^2 + 2 m_2 l_1 l_2 \\cos{\\theta_2} + m_2 l_2^2 & m_2 l_1 l_2 \\cos{\\theta_2} + m_2 l_2^2 \\\\ m_2 l_1 l_2 \\cos{\\theta_2} + m_2 l_2^2 & m_2 l_2^2 \\end{bmatrix} }_{\\mb{D}(\\mb{q})} \\dot{\\mb{q}}.\n",
    "\\end{equation}"
   ]
  },
  {
   "cell_type": "markdown",
   "metadata": {},
   "source": [
    "The Coriolis terms matrix can be expressed in terms of the inertia matrix:\n",
    "\n",
    "\\begin{equation}\n",
    "    \\mb{C}(\\mb{q}, \\dot{\\mb{q}}) = \\derp{\\mb{D}}{\\mb{q}}(\\cdot, \\dot{\\mb{q}}, \\cdot) - \\frac{1}{2}\\left( \\derp{\\mb{D}}{\\mb{q}}(\\cdot, \\dot{\\mb{q}}, \\cdot) \\right)^\\top.\n",
    "\\end{equation}"
   ]
  },
  {
   "cell_type": "markdown",
   "metadata": {},
   "source": [
    "Here, $\\derp{\\mb{D}}{\\mb{q}} \\in \\R^{2 \\times 2 \\times 2}$ is represented as a multilinear operator for all $\\mb{q} \\in \\R^2$, with:\n",
    "\n",
    "\\begin{equation}\n",
    "    \\derp{\\mb{D}}{\\mb{q}}(\\mb{e}_i, \\mb{e}_j, \\mb{e}_k) = \\derp{D_{ij}(\\mb{q})}{\\theta_k},\n",
    "\\end{equation}\n",
    "\n",
    "for all $i, j, k \\in \\{1, 2\\}$ and elementary basis vectors $\\mb{e}_i, \\mb{e}_j, \\mb{e}_k \\in \\R^2$. "
   ]
  },
  {
   "cell_type": "markdown",
   "metadata": {},
   "source": [
    "We write:\n",
    "\n",
    "\\begin{equation}\n",
    "    \\derp{\\mb{D}}{\\mb{q}} = \\sum_{i=1}^2 \\sum_{j=1}^2 \\sum_{k=1}^2 \\derp{D_{ij}(\\mb{q})}{\\theta_k} \\mb{e}_i \\otimes \\mb{e}_j \\otimes \\mb{e}_k,\n",
    "\\end{equation}"
   ]
  },
  {
   "cell_type": "markdown",
   "metadata": {},
   "source": [
    "and contract along the second argument as:\n",
    "\n",
    "\\begin{align}\n",
    "    \\derp{\\mb{D}}{\\mb{q}} &= \\sum_{i=1}^2 \\sum_{j=1}^2 \\sum_{k=1}^2 \\derp{D_{ij}(\\mb{q})}{\\theta_k} \\dot{\\theta}_j \\mb{e}_i \\otimes \\mb{e}_k\\\\\n",
    "    &= \\sum_{i=1}^2 \\sum_{k=1}^2 \\left( \\sum_{j=1}^2 \\derp{D_{ij}(\\mb{q})}{\\theta_k} \\dot{\\theta}_j \\right) \\mb{e}_i \\otimes \\mb{e}_k\\\\\n",
    "    &= \\begin{bmatrix} 0 & -2 m_2 l_1 l_2 \\dot{\\theta}_1 \\sin{\\theta_2} - m_2 l_1 l_2 \\dot{\\theta}_2 \\sin{\\theta_2} \\\\ 0 & -m_2 l_1 l_2 \\dot{\\theta}_1 \\sin{\\theta_2} \\end{bmatrix}.\n",
    "\\end{align}"
   ]
  },
  {
   "cell_type": "markdown",
   "metadata": {},
   "source": [
    "Therefore, the Coriolis terms matrix is:\n",
    "\n",
    "\\begin{equation}\n",
    "    \\mb{C}(\\mb{q}, \\dot{\\mb{q}}) = \\begin{bmatrix} 0 & -m_2 l_1 l_2 (2 \\dot{\\theta}_1 + \\dot{\\theta}_2) \\sin{\\theta}_2 \\\\ \\frac{1}{2} m_2 l_1 l_2 (2 \\dot{\\theta}_1 + \\dot{\\theta}_2) \\sin{\\theta}_2 & -\\frac{1}{2} m_2 l_1 l_2 \\dot{\\theta}_1 \\sin{\\theta}_2 \\end{bmatrix}.\n",
    "\\end{equation}"
   ]
  },
  {
   "cell_type": "markdown",
   "metadata": {},
   "source": [
    "The potential energy is:\n",
    "\n",
    "\\begin{align}\n",
    "    U(\\mb{q}) &= -(\\mb{f}_1^\\mathcal{I})^\\top\\mb{r}_{10}^\\mathcal{I} - (\\mb{f}_2^\\mathcal{I})^\\top\\mb{r}_{20}^\\mathcal{I}\\\\\n",
    "    &= m_1 g l_1 \\cos{\\theta_1} + m_2 g (l_2 \\cos{(\\theta_1 + \\theta_2)} + l_1 \\cos{\\theta_1})\\\\\n",
    "    &= (m_1 + m_2) g l_1 \\cos{\\theta_1} + m_2 g l_2 \\cos{(\\theta_1 + \\theta_2)}.\n",
    "\\end{align}"
   ]
  },
  {
   "cell_type": "markdown",
   "metadata": {},
   "source": [
    "The gradient of the potential energy is:\n",
    "\n",
    "\\begin{align}\n",
    "    \\mb{G}(\\mb{q}) &= \\left(\\derp{U}{\\mb{q}}\\right)^\\top\\\\\n",
    "    &= \\begin{bmatrix} -(m_1 + m_2) g l_1 \\sin{\\theta_1} - m_2 g l_2 \\sin{(\\theta_1 + \\theta_2)} \\\\ -m_2 g l_2 \\sin{(\\theta_1 + \\theta_2)} \\end{bmatrix}.\n",
    "\\end{align}"
   ]
  },
  {
   "cell_type": "code",
   "execution_count": 20,
   "metadata": {},
   "outputs": [],
   "source": [
    "from numpy import array, cos, identity, sin\n",
    "from core.dynamics import FullyActuatedRoboticDynamics #RoboticDynamics, SystemDynamics\n",
    "import torch\n",
    "\n",
    "class DoubleInvertedPendulum(FullyActuatedRoboticDynamics):\n",
    "    def __init__(self, m_1, m_2, l_1, l_2, g=9.81):\n",
    "        FullyActuatedRoboticDynamics.__init__(self, 2, 2)\n",
    "        self.params = m_1, m_2, l_1, l_2, g\n",
    "        \n",
    "    def D(self, q):\n",
    "        m_1, m_2, l_1, l_2, _ = self.params\n",
    "        _, theta_2 = q\n",
    "        D_11 = (m_1 + m_2) * (l_1 ** 2) + 2 * m_2 * l_1 * l_2 * cos(theta_2) + m_2 * (l_2 ** 2)\n",
    "        D_12 = m_2 * l_1 * l_2 * cos(theta_2) + m_2 * (l_2 ** 2)\n",
    "        D_21 = D_12\n",
    "        D_22 = m_2 * (l_2 ** 2)\n",
    "        ret = torch.from_numpy(array([[D_11, D_12], [D_21, D_22]]))\n",
    "        return ret\n",
    "    \n",
    "    def C(self, q, q_dot):\n",
    "        _, m_2, l_1, l_2, _ = self.params\n",
    "        _, theta_2 = q\n",
    "        theta_1_dot, theta_2_dot = q_dot\n",
    "        C_11 = 0\n",
    "        C_12 = -m_2 * l_1 * l_2 * (2 * theta_1_dot + theta_2_dot) * sin(theta_2)\n",
    "        C_21 = -C_12 / 2\n",
    "        C_22 = -m_2 * l_1 * l_2 * theta_1_dot * sin(theta_2) / 2\n",
    "        ret = torch.from_numpy(array([[C_11, C_12], [C_21, C_22]]))\n",
    "        return ret\n",
    "    \n",
    "    def B(self, q):\n",
    "        # http://underactuated.mit.edu/acrobot.html note different torque setup there\n",
    "        return torch.from_numpy(identity(2))\n",
    "    \n",
    "    def U(self, q):\n",
    "        m_1, m_2, l_1, l_2, g = self.params\n",
    "        theta_1, theta_2 = q\n",
    "        return (m_1 + m_2) * g * l_1 * cos(theta_1) + m_2 * g * l_2 * cos(theta_1 + theta_2)\n",
    "    \n",
    "    def G(self, q):\n",
    "        m_1, m_2, l_1, l_2, g = self.params\n",
    "        theta_1, theta_2 = q\n",
    "        G_1 = -(m_1 + m_2) * g * l_1 * sin(theta_1) - m_2 * g * l_2 * sin(theta_1 + theta_2)\n",
    "        G_2 = -m_2 * g * l_2 * sin(theta_1 + theta_2)\n",
    "        ret = torch.from_numpy(array([G_1, G_2]))\n",
    "        return ret"
   ]
  },
  {
   "cell_type": "code",
   "execution_count": 6,
   "metadata": {},
   "outputs": [],
   "source": [
    "m_1, m_2 = 0.25, 0.25\n",
    "l_1, l_2 = 0.5, 0.5\n",
    "dip = DoubleInvertedPendulum(m_1, m_2, l_1, l_2)"
   ]
  },
  {
   "cell_type": "markdown",
   "metadata": {},
   "source": [
    "## Feedback Linearization"
   ]
  },
  {
   "cell_type": "code",
   "execution_count": 7,
   "metadata": {},
   "outputs": [],
   "source": [
    "from numpy import identity\n",
    "from core.controllers import FBLinController, LQRController\n",
    "\n",
    "Q, R = 10 * identity(4), identity(2)\n",
    "lqr = LQRController.build(dip, Q, R)\n",
    "fb_lin = FBLinController(dip, lqr)"
   ]
  },
  {
   "cell_type": "code",
   "execution_count": 8,
   "metadata": {},
   "outputs": [],
   "source": [
    "from numpy import linspace\n",
    "\n",
    "x_0 = array([1, 0, 0, 0])\n",
    "x_0 = torch.from_numpy(x_0)\n",
    "ts = linspace(0, 10, 1000 + 1)\n",
    "fb_lin_data = dip.simulate(x_0, fb_lin, ts)"
   ]
  },
  {
   "cell_type": "code",
   "execution_count": 17,
   "metadata": {},
   "outputs": [],
   "source": [
    "from matplotlib.pyplot import figure, grid, plot, show, subplot, xlabel, ylabel, legend"
   ]
  },
  {
   "cell_type": "code",
   "execution_count": 10,
   "metadata": {},
   "outputs": [
    {
     "data": {
      "image/png": "[encoded data removed]",
      "text/plain": [
       "<Figure size 864x576 with 4 Axes>"
      ]
     },
     "metadata": {
      "needs_background": "light"
     },
     "output_type": "display_data"
    }
   ],
   "source": [
    "xs, us = fb_lin_data\n",
    "\n",
    "figure(figsize=(12, 8))\n",
    "\n",
    "subplot(221)\n",
    "plot(ts, xs[:, 0], linewidth=3)\n",
    "grid()\n",
    "xlabel('Time (sec)', fontsize=16)\n",
    "ylabel('$\\\\theta_1$', fontsize=16)\n",
    "\n",
    "subplot(222)\n",
    "plot(ts, xs[:, 1], linewidth=3)\n",
    "grid()\n",
    "xlabel('Time (sec)', fontsize=16)\n",
    "ylabel('$\\\\theta_2$', fontsize=16)\n",
    "\n",
    "subplot(223)\n",
    "plot(ts[:-1], us[:, 0], linewidth=3)\n",
    "grid()\n",
    "xlabel('Time (sec)', fontsize=16)\n",
    "ylabel('$\\\\tau_1$', fontsize=16)\n",
    "\n",
    "subplot(224)\n",
    "plot(ts[:-1], us[:, 1], linewidth=3)\n",
    "grid()\n",
    "xlabel('Time (sec)', fontsize=16)\n",
    "ylabel('$\\\\tau_2$', fontsize=16)\n",
    "\n",
    "show()"
   ]
  },
  {
   "cell_type": "markdown",
   "metadata": {},
   "source": [
    "## Energy-Based Controller"
   ]
  },
  {
   "cell_type": "code",
   "execution_count": 11,
   "metadata": {},
   "outputs": [],
   "source": [
    "# DOESN'T WORK\n",
    "# from core.controllers import EnergyController\n",
    "\n",
    "# K_p = identity(2)\n",
    "# K_d = identity(2)\n",
    "# energy = EnergyController(dip, K_p, K_d)"
   ]
  },
  {
   "cell_type": "code",
   "execution_count": 21,
   "metadata": {},
   "outputs": [],
   "source": [
    "# energy_data = dip.simulate(x_0, energy, ts)"
   ]
  },
  {
   "cell_type": "code",
   "execution_count": 22,
   "metadata": {},
   "outputs": [],
   "source": [
    "# from matplotlib.pyplot import legend\n",
    "\n",
    "# figure(figsize=(12, 8))\n",
    "\n",
    "# subplot(221)\n",
    "# xs, _ = fb_lin_data\n",
    "# plot(ts, xs[:, 0], linewidth=3, label='FBL')\n",
    "# xs, _ = energy_data\n",
    "# plot(ts, xs[:, 0], linewidth=3, label='Energy')\n",
    "# grid()\n",
    "# legend(fontsize=16)\n",
    "# xlabel('Time (sec)', fontsize=16)\n",
    "# ylabel('$\\\\theta_1$', fontsize=16)\n",
    "\n",
    "# subplot(222)\n",
    "# xs, _ = fb_lin_data\n",
    "# plot(ts, xs[:, 1], linewidth=3, label='FBL')\n",
    "# xs, _ = energy_data\n",
    "# plot(ts, xs[:, 1], linewidth=3, label='Energy')\n",
    "# grid()\n",
    "# legend(fontsize=16)\n",
    "# xlabel('Time (sec)', fontsize=16)\n",
    "# ylabel('$\\\\theta_2$', fontsize=16)\n",
    "\n",
    "# subplot(223)\n",
    "# _, us = fb_lin_data\n",
    "# plot(ts[:-1], us[:, 0], linewidth=3, label='FBL')\n",
    "# _, us = energy_data\n",
    "# plot(ts[:-1], us[:, 0], linewidth=3, label='Energy')\n",
    "# grid()\n",
    "# legend(fontsize=16)\n",
    "# xlabel('Time (sec)', fontsize=16)\n",
    "# ylabel('$\\\\tau_1$', fontsize=16)\n",
    "\n",
    "# subplot(224)\n",
    "# _, us = fb_lin_data\n",
    "# plot(ts[:-1], us[:, 1], linewidth=3, label='FBL')\n",
    "# _, us = energy_data\n",
    "# plot(ts[:-1], us[:, 1], linewidth=3, label='Energy')\n",
    "# grid()\n",
    "# legend(fontsize=16)\n",
    "# xlabel('Time (sec)', fontsize=16)\n",
    "# ylabel('$\\\\tau_2$', fontsize=16)\n",
    "\n",
    "# show()"
   ]
  },
  {
   "cell_type": "markdown",
   "metadata": {},
   "source": [
    "## Optimization-Based Controller"
   ]
  },
  {
   "cell_type": "code",
   "execution_count": 13,
   "metadata": {},
   "outputs": [],
   "source": [
    "from core.controllers import QPController\n",
    "\n",
    "qp = QPController.build_care(dip, Q, R)\n",
    "qp.add_regularizer(fb_lin, 25)"
   ]
  },
  {
   "cell_type": "code",
   "execution_count": 14,
   "metadata": {},
   "outputs": [],
   "source": [
    "qp_data = dip.simulate(x_0, qp, ts)"
   ]
  },
  {
   "cell_type": "code",
   "execution_count": 18,
   "metadata": {},
   "outputs": [
    {
     "data": {
      "image/png": "[encoded data removed]",
      "text/plain": [
       "<Figure size 864x576 with 4 Axes>"
      ]
     },
     "metadata": {
      "needs_background": "light"
     },
     "output_type": "display_data"
    }
   ],
   "source": [
    "figure(figsize=(12, 8))\n",
    "\n",
    "subplot(221)\n",
    "xs, _ = fb_lin_data\n",
    "plot(ts, xs[:, 0], linewidth=3, label='FBL')\n",
    "# xs, _ = energy_data\n",
    "# plot(ts, xs[:, 0], linewidth=3, label='Energy')\n",
    "xs, _ = qp_data\n",
    "plot(ts, xs[:, 0], linewidth=3, label='QP')\n",
    "grid()\n",
    "legend(fontsize=16)\n",
    "xlabel('Time (sec)', fontsize=16)\n",
    "ylabel('$\\\\theta_1$', fontsize=16)\n",
    "\n",
    "subplot(222)\n",
    "xs, _ = fb_lin_data\n",
    "plot(ts, xs[:, 1], linewidth=3, label='FBL')\n",
    "# xs, _ = energy_data\n",
    "# plot(ts, xs[:, 1], linewidth=3, label='Energy')\n",
    "xs, _ = qp_data\n",
    "plot(ts, xs[:, 1], linewidth=3, label='QP')\n",
    "grid()\n",
    "legend(fontsize=16)\n",
    "xlabel('Time (sec)', fontsize=16)\n",
    "ylabel('$\\\\theta_2$', fontsize=16)\n",
    "\n",
    "subplot(223)\n",
    "_, us = fb_lin_data\n",
    "plot(ts[:-1], us[:, 0], linewidth=3, label='FBL')\n",
    "# _, us = energy_data\n",
    "# plot(ts[:-1], us[:, 0], linewidth=3, label='Energy')\n",
    "_, us = qp_data\n",
    "plot(ts[:-1], us[:, 0], linewidth=3, label='QP')\n",
    "grid()\n",
    "legend(fontsize=16)\n",
    "xlabel('Time (sec)', fontsize=16)\n",
    "ylabel('$\\\\tau_1$', fontsize=16)\n",
    "\n",
    "subplot(224)\n",
    "_, us = fb_lin_data\n",
    "plot(ts[:-1], us[:, 1], linewidth=3, label='FBL')\n",
    "# _, us = energy_data\n",
    "# plot(ts[:-1], us[:, 1], linewidth=3, label='Energy')\n",
    "_, us = qp_data\n",
    "plot(ts[:-1], us[:, 1], linewidth=3, label='QP')\n",
    "grid()\n",
    "legend(fontsize=16)\n",
    "xlabel('Time (sec)', fontsize=16)\n",
    "ylabel('$\\\\tau_2$', fontsize=16)\n",
    "\n",
    "show()"
   ]
  },
  {
   "cell_type": "markdown",
   "metadata": {},
   "source": [
    "# Safe Controller"
   ]
  },
  {
   "cell_type": "markdown",
   "metadata": {},
   "source": [
    "Consider the task of moving the pendulum from configuration $\\mb{q}_0 = (1, 0)$ at rest to $\\mb{q}_d = (-1, 0)$ while evading an obstacle above the base of the pendulum. Suppose the position of the obstacle relative to the base of the pendulum is resolved in the inertial frame as $\\mb{p}^{\\mathcal{I}} = R \\mb{e}_1$, with $0 < R \\leq l_1 + l_2$. Additionally, suppose we must keep the end at least $\\delta R$ m away from the obstacle, for $0 < \\delta < 1$."
   ]
  },
  {
   "cell_type": "markdown",
   "metadata": {},
   "source": [
    "Consider the function:\n",
    "\n",
    "\\begin{equation}\n",
    "    h(\\mb{q}) = \\frac{1}{2} \\norm{ \\mb{r}_{20}^{\\mathcal{I}} - \\mb{p}^{\\mathcal{I}} }_2^2 - \\frac{1}{2} \\delta^2 R^2.\n",
    "\\end{equation}\n",
    "\n",
    "This function is positive for any configuration satisfying $\\norm{ \\mb{r}_{20}^{\\mathcal{I}} - \\mb{p}^{\\mathcal{I}} }_2 \\geq \\delta R$. Denote the $0$-superlevel set of this function as $\\mathcal{C}$."
   ]
  },
  {
   "cell_type": "markdown",
   "metadata": {},
   "source": [
    "The corresponding time derivative is:\n",
    "\n",
    "\\begin{equation}\n",
    "    \\dot{h}(\\mb{q}, \\dot{\\mb{q}}) = ( \\mb{r}_{20}^{\\mathcal{I}} - \\mb{p}^{\\mathcal{I}} )^\\top \\dot{\\mb{r}}_{20}^\\mathcal{I}.\n",
    "\\end{equation}"
   ]
  },
  {
   "cell_type": "markdown",
   "metadata": {},
   "source": [
    "The second time derivative is:\n",
    "\n",
    "\\begin{equation}\n",
    "    \\ddot{h}(\\mb{q}, \\dot{\\mb{q}}, \\mb{u}) = (\\dot{\\mb{r}}_{20}^{\\mathcal{I}})^\\top\\dot{\\mb{r}}_{20}^\\mathcal{I} + (\\mb{r}_{20}^\\mathcal{I} - \\mb{p}^\\mathcal{I})^\\top \\ddot{\\mb{r}}_{20}^\\mathcal{I}\n",
    "\\end{equation}"
   ]
  },
  {
   "cell_type": "markdown",
   "metadata": {},
   "source": [
    "Note that $\\ddot{\\mb{r}}_{20}^\\mathcal{I}$ can be expressed as:\n",
    "\n",
    "\\begin{equation}\n",
    "    \\ddot{\\mb{r}}_{20}^\\mathcal{I} = \\begin{bmatrix} -l_2 (\\dot{\\theta}_1 + \\dot{\\theta}_2) \\cos{(\\theta_1 + \\theta_2)} - l_1 \\dot{\\theta}_1 \\cos{\\theta_1} & -l_2 (\\dot{\\theta}_1 + \\dot{\\theta}_2) \\cos{(\\theta_1 + \\theta_2)} \\\\ -l_2 (\\dot{\\theta}_1 + \\dot{\\theta}_2) \\sin{(\\theta_1 + \\theta_2)} - l_1 \\dot{\\theta}_1 \\sin{\\theta_1} & -l_2 (\\dot{\\theta}_1 + \\dot{\\theta}_2) \\sin{(\\theta_1 + \\theta_2)} \\\\ 0 & 0 \\end{bmatrix} \\begin{bmatrix} \\dot{\\theta}_1 \\\\ \\dot{\\theta}_2 \\end{bmatrix} + \\begin{bmatrix} -l_2 \\sin{(\\theta_1 + \\theta_2)} -l_1 \\sin{\\theta_1} & -l_2 \\sin{(\\theta_1 + \\theta_2)} \\\\ l_2 \\cos{(\\theta_1 + \\theta_2)} + l_1 \\cos{\\theta_1} & l_2 \\cos{(\\theta_1 + \\theta_2)} \\\\ 0 & 0 \\end{bmatrix} \\begin{bmatrix} \\ddot{\\theta}_1 \\\\ \\ddot{\\theta}_2 \\end{bmatrix},\n",
    "\\end{equation}\n",
    "\n",
    "that is, $\\ddot{\\mb{r}}$ is an affine expression in $\\ddot{\\mb{q}}$. This means $\\ddot{h}$ is an affine expression in $\\mb{u}$ and can therefore be used in an inequality constraint of an optimization problem."
   ]
  },
  {
   "cell_type": "markdown",
   "metadata": {},
   "source": [
    "Pick $\\alpha > 0$. Since the pendulum starts from rest, $\\dot{\\mb{q}}_0 = \\mb{0}_2$, and since $\\dot{\\mb{r}}_{20}^\\mathcal{I}$ is linear in $\\dot{\\mb{q}}$, initially $\\dot{h}(\\mb{q}_0, \\dot{\\mb{q}}_0) = 0$. If $h(\\mb{q}_0) \\geq 0$, that is, the system is initially safe, then:\n",
    "\n",
    "\\begin{equation}\n",
    "    \\dot{h}(\\mb{q}_0, \\dot{\\mb{q}}_0) \\geq -\\alpha h(\\mb{q}_0).\n",
    "\\end{equation}"
   ]
  },
  {
   "cell_type": "markdown",
   "metadata": {},
   "source": [
    "Picking actions $\\mb{u}$ such that:\n",
    "\n",
    "\\begin{align}\n",
    "    \\der{}{t}(\\dot{h}(\\mb{q}, \\dot{\\mb{q}}) + \\alpha h(\\mb{q})) &= \\ddot{h}(\\mb{q}, \\dot{\\mb{q}}, \\mb{u}) + \\alpha \\dot{h}(\\mb{q}, \\dot{\\mb{q}})\\\\\n",
    "    &\\geq -\\alpha ( \\dot{h}(\\mb{q}, \\dot{\\mb{q}}) + \\alpha h(\\mb{q}) )\\\\\n",
    "    &= -\\alpha \\dot{h}(\\mb{q}, \\dot{\\mb{q}}) - \\alpha^2 h(\\mb{q})\n",
    "\\end{align}\n",
    "\n",
    "for all $\\mb{q} \\in \\mathcal{C}$ and $\\dot{\\mb{q}} \\in \\R^2$ ensures the inequality $\\dot{h}(\\mb{q}, \\dot{\\mb{q}}) \\geq -\\alpha h(\\mb{q})$ continues to be satisfied by Nagumo's theorem. It it is always possible to pick such actions, then $\\dot{h} + \\alpha h$ is called a control safety function (CSF)."
   ]
  },
  {
   "cell_type": "markdown",
   "metadata": {},
   "source": [
    "Applying this reasoning once more, if $\\dot{h}(\\mb{q}, \\dot{\\mb{q}}) \\geq -\\alpha h(\\mb{q})$ for all $\\mb{q} \\in \\mathcal{C}$ and $\\dot{\\mb{q}} \\in \\R^2$, then $h(\\mb{q}) \\geq 0$ continues to be satisfied by Nagumo's theorem. This means the actions maintain the safety of system by ensuring $\\mb{q} \\in \\mathcal{C}$, or that $\\mathcal{C}$ is a safe set."
   ]
  },
  {
   "cell_type": "markdown",
   "metadata": {},
   "source": [
    "Let $\\bs{\\Lambda} \\in \\bb{S}_{++}^{2}$ be an action cost, let $\\mb{k}: \\mathcal{Q} \\times \\R^2 \\to \\R^2$ be a baseline controller, let $\\rho \\geq 0$ be a regularization coefficient. Consider the optimization-based controller solving:\n",
    "\n",
    "\\begin{align}\n",
    "    \\inf_{\\substack{\\mb{u} \\in \\R^2 \\\\ \\mb{x} \\in \\mathcal{Q} \\times \\R^2}} ~&~ \\mb{u}^\\top\\bs{\\Lambda}\\mb{u} + \\rho \\norm{ \\mb{u} - \\mb{k}(\\mb{x}) }_2^2\\\\\n",
    "    \\mathrm{s.t.} ~&~ \\mb{x} = (\\mb{q} - \\mb{q}_d, \\dot{\\mb{q}})\\\\\n",
    "    &~ \\dot{V}(\\mb{x}, \\mb{u}) \\leq -\\alpha' V(\\mb{x})\\\\\n",
    "    &~ \\ddot{h}(\\mb{q}, \\dot{\\mb{q}}, \\mb{u}) + \\alpha \\dot{h}(\\mb{q}, \\dot{\\mb{q}}) \\geq -\\alpha (\\dot{h}(\\mb{q}, \\dot{\\mb{q}}) +\\alpha h(\\mb{q})),\n",
    "\\end{align}\n",
    "\n",
    "for all $\\mb{q} \\in \\mathcal{Q}$ and $\\mb{\\dot{\\mb{q}}} \\in \\R^2$. Here, $\\mb{x}$ is denoted as a decision variable only for convenience of notation."
   ]
  },
  {
   "cell_type": "markdown",
   "metadata": {},
   "source": [
    "The additional constraint may render the optimization problem infeasible. The stability constraint can be relaxed to find safe solutions. Let $\\sigma > 0$ be a slack coefficient, and consider the optimization-based controller solving:\n",
    "\n",
    "\\begin{align}\n",
    "    \\inf_{\\substack{\\mb{u} \\in \\R^2 \\\\ \\mb{x} \\in \\mathcal{Q} \\times \\R^2 \\\\ \\delta \\in \\R}} ~&~ \\mb{u}^\\top\\bs{\\Lambda}\\mb{u} + \\rho \\norm{ \\mb{u} - \\mb{k}(\\mb{x}) }_2^2 + \\sigma \\delta^2\\\\\n",
    "    \\mathrm{s.t.} ~&~ \\mb{x} = (\\mb{q} - \\mb{q}_d, \\dot{\\mb{q}})\\\\\n",
    "    &~ \\dot{V}(\\mb{x}, \\mb{u}) \\leq -\\alpha' V(\\mb{x}) + \\delta\\\\\n",
    "    &~ \\ddot{h}(\\mb{q}, \\dot{\\mb{q}}, \\mb{u}) + \\alpha \\dot{h}(\\mb{q}, \\dot{\\mb{q}}) \\geq -\\alpha (\\dot{h}(\\mb{q}, \\dot{\\mb{q}}) +\\alpha h(\\mb{q})),\n",
    "\\end{align}"
   ]
  },
  {
   "cell_type": "code",
   "execution_count": 23,
   "metadata": {},
   "outputs": [],
   "source": [
    "# from numpy import concatenate, reshape\n",
    "\n",
    "# class SetPointOutput(RoboticDynamics):\n",
    "#     def __init__(self, robotic_dynamics, q_d):\n",
    "#         RoboticDynamics.__init__(self, robotic_dynamics.B)\n",
    "#         self.robotic_dynamics = robotic_dynamics\n",
    "#         self.q_d = q_d\n",
    "        \n",
    "#     def eval(self, x, t):\n",
    "#         q, q_dot = reshape(x, (2, -1))\n",
    "#         return concatenate([q - self.q_d, q_dot])\n",
    "        \n",
    "#     def drift(self, x, t):\n",
    "#         return self.robotic_dynamics.drift(x, t)\n",
    "    \n",
    "#     def act(self, x, t):\n",
    "#         return self.robotic_dynamics.act(x, t)"
   ]
  },
  {
   "cell_type": "code",
   "execution_count": 24,
   "metadata": {},
   "outputs": [],
   "source": [
    "# from core.dynamics import AffineQuadCLF\n",
    "# from numpy.linalg import eigvalsh\n",
    "\n",
    "# q_d = array([-1, 0])\n",
    "# set_point = SetPointOutput(dip, q_d)\n",
    "# lyap = AffineQuadCLF.build_care(set_point, Q, R)\n",
    "# slack_coeff = 1e3\n",
    "# alpha = min(eigvalsh(Q)) / max(eigvalsh(lyap.P))\n",
    "# comp = lambda r: alpha * r\n",
    "\n",
    "# lqr = LQRController.build(set_point, Q, R)\n",
    "# fb_lin = FBLinController(set_point, lqr)\n",
    "\n",
    "# qp = QPController(dip, 2)\n",
    "# qp.add_regularizer(fb_lin, 1)\n",
    "# qp.add_stability_constraint(lyap, comp, True, slack_coeff)"
   ]
  },
  {
   "cell_type": "code",
   "execution_count": 25,
   "metadata": {},
   "outputs": [],
   "source": [
    "# qp_data = dip.simulate(x_0, qp, ts)"
   ]
  },
  {
   "cell_type": "code",
   "execution_count": 26,
   "metadata": {},
   "outputs": [],
   "source": [
    "# xs, us = qp_data\n",
    "\n",
    "# figure(figsize=(12, 8))\n",
    "\n",
    "# subplot(221)\n",
    "# plot(ts, xs[:, 0], linewidth=3)\n",
    "# grid()\n",
    "# xlabel('Time (sec)', fontsize=16)\n",
    "# ylabel('$\\\\theta_1$', fontsize=16)\n",
    "\n",
    "# subplot(222)\n",
    "# plot(ts, xs[:, 1], linewidth=3)\n",
    "# grid()\n",
    "# xlabel('Time (sec)', fontsize=16)\n",
    "# ylabel('$\\\\theta_2$', fontsize=16)\n",
    "\n",
    "# subplot(223)\n",
    "# plot(ts[:-1], us[:, 0], linewidth=3)\n",
    "# grid()\n",
    "# xlabel('Time (sec)', fontsize=16)\n",
    "# ylabel('$\\\\tau_1$', fontsize=16)\n",
    "\n",
    "# subplot(224)\n",
    "# plot(ts[:-1], us[:, 1], linewidth=3)\n",
    "# grid()\n",
    "# xlabel('Time (sec)', fontsize=16)\n",
    "# ylabel('$\\\\tau_2$', fontsize=16)\n",
    "\n",
    "# show()"
   ]
  },
  {
   "cell_type": "code",
   "execution_count": 27,
   "metadata": {},
   "outputs": [],
   "source": [
    "# from numpy import dot\n",
    "# from numpy.linalg import norm\n",
    "# from core.dynamics import AffineDynamics, ScalarDynamics\n",
    "\n",
    "# class SafetyFunction(AffineDynamics, ScalarDynamics):\n",
    "#     def __init__(self, double_inverted_pendulum, height, prop, alpha):\n",
    "#         self.dynamics = double_inverted_pendulum\n",
    "#         self.height = height\n",
    "#         self.prop = prop\n",
    "#         self.alpha = alpha\n",
    "#         self.p = array([self.height, 0, 0])\n",
    "        \n",
    "#     def r(self, q):\n",
    "#         _, _, l_1, l_2, _ = self.dynamics.params\n",
    "#         theta_1, theta_2 = q\n",
    "#         r_1 = l_2 * cos(theta_1 + theta_2) + l_1 * cos(theta_1)\n",
    "#         r_2 = l_2 * sin(theta_1 + theta_2) + l_1 * sin(theta_1)\n",
    "#         r_3 = 0\n",
    "#         return array([r_1, r_2, r_3])\n",
    "    \n",
    "#     def r_dot(self, q, q_dot):\n",
    "#         return dot(self.r_ddot_act(q), q_dot)\n",
    "    \n",
    "#     def r_ddot_drift(self, q, q_dot):\n",
    "#         _, _, l_1, l_2, _ = self.dynamics.params\n",
    "#         theta_1, theta_2 = q\n",
    "#         theta_1_dot, theta_2_dot = q_dot\n",
    "#         drift_1 = -l_2 * ((theta_1_dot + theta_2_dot) ** 2) * cos(theta_1 + theta_2) - l_1 * (theta_1_dot ** 2) * cos(theta_1)\n",
    "#         drift_2 = -l_2 * ((theta_1_dot + theta_2_dot) ** 2) * sin(theta_1 + theta_2) - l_1 * (theta_1_dot ** 2) * sin(theta_1)\n",
    "#         drift_3 = 0\n",
    "#         return array([drift_1, drift_2, drift_3])\n",
    "    \n",
    "#     def r_ddot_act(self, q):\n",
    "#         _, _, l_1, l_2, _ = self.dynamics.params\n",
    "#         theta_1, theta_2 = q\n",
    "#         act_1 = array([-l_2 * sin(theta_1 + theta_2) - l_1 * sin(theta_1), -l_2 * sin(theta_1 + theta_2)])\n",
    "#         act_2 = array([l_2 * cos(theta_1 + theta_2) + l_1 * cos(theta_1), l_2 * cos(theta_1 + theta_2)])\n",
    "#         act_3 = array([0, 0])\n",
    "#         return array([act_1, act_2, act_3])\n",
    "\n",
    "#     def h(self, q):\n",
    "#         return (norm(self.r(q) - self.p) ** 2 - (self.prop ** 2) * (self.height ** 2)) / 2\n",
    "    \n",
    "#     def h_dot(self, q, q_dot):\n",
    "#         return dot(self.r(q) - self.p, self.r_dot(q, q_dot))\n",
    "    \n",
    "#     def h_ddot_drift(self, q, q_dot):\n",
    "#         r_dot = self.r_dot(q, q_dot)\n",
    "#         return dot(r_dot, r_dot) + dot(self.r(q) - self.p, self.r_ddot_drift(q, q_dot))\n",
    "    \n",
    "#     def h_ddot_act(self, q):\n",
    "#         return dot(self.r(q) - self.p, self.r_ddot_act(q))\n",
    "        \n",
    "#     def eval(self, x, t):\n",
    "#         q, q_dot = reshape(x, (2, -1))\n",
    "#         return self.h_dot(q, q_dot) + self.alpha * self.h(q)\n",
    "    \n",
    "#     def drift(self, x, t):\n",
    "#         q, q_dot = reshape(x, (2, -1))\n",
    "#         return self.h_ddot_drift(q, q_dot) + self.alpha * self.h_dot(q, q_dot)\n",
    "    \n",
    "#     def act(self, x, t):\n",
    "#         q, q_dot = reshape(x, (2, -1))\n",
    "#         return self.h_ddot_act(q)"
   ]
  },
  {
   "cell_type": "code",
   "execution_count": 28,
   "metadata": {},
   "outputs": [],
   "source": [
    "# height = l_1 + l_2\n",
    "# prop = 0.2\n",
    "# alpha = 2.5\n",
    "# safety = SafetyFunction(dip, height, prop, alpha)\n",
    "\n",
    "# alpha_stability = min(eigvalsh(Q)) / max(eigvalsh(lyap.P))\n",
    "# comp_stability = lambda r: alpha_stability * r\n",
    "# comp_safety = lambda r: 5 * r\n",
    "\n",
    "# qp = QPController(dip, 2)\n",
    "# qp.add_regularizer(fb_lin, 1)\n",
    "# qp.add_stability_constraint(lyap, comp_stability, True, slack_coeff)\n",
    "# qp.add_safety_constraint(safety, comp_safety)\n",
    "\n",
    "# qp_data = dip.simulate(x_0, qp, ts)"
   ]
  },
  {
   "cell_type": "code",
   "execution_count": 29,
   "metadata": {},
   "outputs": [],
   "source": [
    "# from matplotlib.pyplot import axis\n",
    "\n",
    "# xs, us = qp_data\n",
    "# rs = array([safety.r(q) for q in xs[:, :2]])\n",
    "# r_joints = array([array([l_1 * cos(theta_1), l_1 * sin(theta_1), 0]) for theta_1 in xs[:, 0]])\n",
    "# hs = array([safety.h(q) for q in xs[:, :2]])\n",
    "\n",
    "# thetas = linspace(0, 2 * 3.14, 1000)\n",
    "# unsafe = array([array([prop * height * cos(theta), height + prop * height * sin(theta)]) for theta in thetas])\n",
    "# base = array([0, 0])\n",
    "# theta_1_d, theta_2_d = q_d\n",
    "# target = array([l_2 * sin(theta_1_d + theta_2_d) + l_1 * sin(theta_1_d), l_2 * cos(theta_1_d + theta_2_d) + l_1 * cos(theta_1_d)])\n",
    "\n",
    "# figure(figsize=(12, 4))\n",
    "\n",
    "# subplot(121)\n",
    "# plot(rs[:, 1], rs[:, 0], linewidth=3, label='End')\n",
    "# plot(r_joints[:, 1], r_joints[:, 0], linewidth=3, label='Joint')\n",
    "# plot(unsafe[:, 0], unsafe[:, 1], 'r', linewidth=3)\n",
    "# ylabel('$x_1$ (m)', fontsize=16)\n",
    "# xlabel('$x_2$ (m)', fontsize=16)\n",
    "# grid()\n",
    "# legend(fontsize=16)\n",
    "# axis('equal')\n",
    "# axis([-1, 1, -0.2, 1.2])\n",
    "\n",
    "# subplot(122)\n",
    "# plot(ts, hs, linewidth=3)\n",
    "# xlabel('$t$ (sec)', fontsize=16)\n",
    "# ylabel('$h$', fontsize=16)\n",
    "# grid()"
   ]
  },
  {
   "cell_type": "code",
   "execution_count": 30,
   "metadata": {},
   "outputs": [],
   "source": [
    "# from IPython.display import HTML\n",
    "# from matplotlib.animation import FuncAnimation\n",
    "\n",
    "# fig = figure()\n",
    "\n",
    "# ax = fig.add_subplot(111)\n",
    "# ax.fill(unsafe[:, 0], unsafe[:, 1], 'r')\n",
    "# ax.plot(target[0], target[1], 'x', markersize=20)\n",
    "# ax.axis('equal')\n",
    "# ax.grid('on')\n",
    "# ax.set_xlim([-1, 1])\n",
    "# ax.set_ylim([-0.2, 1.2])\n",
    "\n",
    "# link1, = ax.plot([], [], linewidth=3)\n",
    "# link2, = ax.plot([], [], linewidth=3)\n",
    "\n",
    "# def init():\n",
    "#     link1.set_data([], [])\n",
    "#     link2.set_data([], [])\n",
    "#     return link1, link2\n",
    "\n",
    "# def update(idx):   \n",
    "#     base = array([0, 0])\n",
    "#     joint = r_joints[idx]\n",
    "#     end = rs[idx]\n",
    "#     link1.set_data([base[1], joint[1]], [base[0], joint[0]])\n",
    "#     link2.set_data([joint[1], end[1]], [joint[0], end[0]])\n",
    "#     return link1, link2\n",
    "\n",
    "# anim = FuncAnimation(fig, update, init_func=init, frames=500, interval=20, blit=True)"
   ]
  },
  {
   "cell_type": "code",
   "execution_count": 31,
   "metadata": {},
   "outputs": [],
   "source": [
    "# HTML(anim.to_html5_video())"
   ]
  },
  {
   "cell_type": "code",
   "execution_count": null,
   "metadata": {},
   "outputs": [],
   "source": []
  }
 ],
 "metadata": {
  "kernelspec": {
   "display_name": "Python 3",
   "language": "python",
   "name": "python3"
  },
  "language_info": {
   "codemirror_mode": {
    "name": "ipython",
    "version": 3
   },
   "file_extension": ".py",
   "mimetype": "text/x-python",
   "name": "python",
   "nbconvert_exporter": "python",
   "pygments_lexer": "ipython3",
   "version": "3.7.4"
  }
 },
 "nbformat": 4,
 "nbformat_minor": 2
}
