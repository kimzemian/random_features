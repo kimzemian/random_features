{
 "cells": [
  {
   "cell_type": "code",
   "execution_count": 292,
   "id": "193ceb14-d1e9-42cb-af58-a1d697a17440",
   "metadata": {},
   "outputs": [],
   "source": [
    "import time\n",
    "import math\n",
    "import numpy as np\n",
    "import scipy.io as sio\n",
    "from numpy import linalg as la"
   ]
  },
  {
   "cell_type": "code",
   "execution_count": 293,
   "id": "692a638d-a5ff-4016-856b-72235df49ad5",
   "metadata": {},
   "outputs": [],
   "source": [
    "#data i/o(read x_train, y_train, z_train, x_query, y_query,mu_pred)\n",
    "\n",
    "data = sio.loadmat('whatIneed.mat')\n",
    "x_train = data['x_gp']\n",
    "u_train = data['u_gp']\n",
    "z_train = data['z_gp']\n",
    "y_train= np.concatenate((np.ones((n,1)), u_train), axis=1)\n",
    "z_train = z_train.flatten()\n",
    "\n",
    "n = len(x_train) #number of samples\n",
    "d = len(x_train[0]) #dimension of the data\n",
    "m = len(u_train[0]) #number of controls\n",
    "\n",
    "x_test = x_train[0]\n",
    "y_test = y_train[0]\n",
    "z_test = z_train[0] #true value of the mu at query"
   ]
  },
  {
   "cell_type": "code",
   "execution_count": 294,
   "id": "1c895909-8a8e-42ab-aba6-c58654ec27ce",
   "metadata": {},
   "outputs": [],
   "source": [
    "#setting hyperparameters\n",
    "rf_d = 50 #rf_d is dim of randomfeatures vector, to choose based on paper\n",
    "mu = 0\n",
    "sigma = 1\n",
    "rf_mu = np.zeros(d)\n",
    "rf_sigma = 1/sigma\n",
    "rf_cov = rf_sigma * np.identity(d)\n",
    "sigma_n = 1 #regularization parameter"
   ]
  },
  {
   "cell_type": "code",
   "execution_count": 295,
   "id": "f7a4a37d-2845-411e-b9ab-75d07bd0683c",
   "metadata": {},
   "outputs": [],
   "source": [
    "#computing random features\n",
    "#referring to random features as rf\n",
    "#same sampling for different kernels\n",
    "\n",
    "samples = np.random.multivariate_normal(rf_mu,rf_cov,size =rf_d//2) #(rf_d//2,d)\n",
    "\n",
    "def rfquery_vector(x,y):    \n",
    "    phi = np.empty(rf_d)\n",
    "    dot_product = np.dot(samples, x)\n",
    "    phi[0::2]=np.sin(dot_product)\n",
    "    phi[1::2]=np.cos(dot_product)\n",
    "    phi = math.sqrt(2/rf_d) * phi\n",
    "    phis = y[:,np.newaxis] @ phi[np.newaxis,:]  #((m+1),d)\n",
    "    return phis.flatten()\n",
    "                         \n",
    "def computeZ(x_train,y_train):\n",
    "    phi = np.empty((n,rf_d))\n",
    "    dot_product = x_train @ samples.T #(n,rf_d//2)\n",
    "    phi[:,0::2]=np.sin(dot_product)\n",
    "    phi[:,1::2]=np.cos(dot_product)\n",
    "    phi = math.sqrt(2/rf_d) * phi\n",
    "    Z = np.matmul(y_train[:,:,np.newaxis], phi[:,np.newaxis,:]).reshape((n,-1)) #(n,(m+1)*d)\n",
    "    return Z"
   ]
  },
  {
   "cell_type": "code",
   "execution_count": 296,
   "id": "3e1c0973-2890-414d-9561-aa9fdc579774",
   "metadata": {},
   "outputs": [],
   "source": [
    "#computing compound kernel\n",
    "#referring to compound as c\n",
    "#using the same kernel\n",
    "\n",
    "def compound_kernel(x_train,y_train):\n",
    "    c_kernel = np.exp(-la.norm(x_train.reshape((n,1,d))-x_train, ord =2, axis=2)/(sigma ** 2))\n",
    "    return (y_train@y_train.T) * c_kernel\n",
    "\n",
    "def cquery_vector(x_train, x_test, y_train, y_test):\n",
    "    c_vector = np.exp(-la.norm(x_train-x_test, ord =2, axis=1)/(sigma ** 2))\n",
    "    return (y_train@y_test.T) * c_vector"
   ]
  },
  {
   "cell_type": "code",
   "execution_count": 297,
   "id": "da6fc138-4041-4c17-8b1f-5cd0bfece59b",
   "metadata": {},
   "outputs": [],
   "source": [
    "# random features training\n",
    "# w = (Z'Z+simga^2I)^{-1}Z'y\n",
    "rf_start = time.time()\n",
    "Z = computeZ(x_train, y_train) \n",
    "invZ_with_noise = la.inv(Z.T @Z + sigma_n ** 2 * np.identity((m+1)*rf_d))\n",
    "rf_w = invZ_with_noise @ Z.T @ z_train #((m+1)*d,1)\n",
    "\n",
    "\n",
    "#label prediction\n",
    "phi_test = rfquery_vector(x_test,y_test)\n",
    "rf_pred = np.dot(phi_test,rf_w)\n",
    "rf_end = time.time()"
   ]
  },
  {
   "cell_type": "code",
   "execution_count": 298,
   "id": "81858829-c79d-4f91-98a7-cdff6e97473b",
   "metadata": {},
   "outputs": [],
   "source": [
    "# compound kernel training\n",
    "# c_w = (K+simga^2I)^{-1}K(x)\n",
    "ckernel_start = time.time()\n",
    "c_kernel = compound_kernel(x_train,y_train)\n",
    "c_vector = cquery_vector(x_train, x_test, y_train, y_test)\n",
    "inv_ckernel_with_noise = la.inv(c_kernel + sigma_n**2 * np.identity(n))\n",
    "c_w = inv_ckernel_with_noise @ c_vector\n",
    "\n",
    "\n",
    "#label prediction\n",
    "c_pred = np.dot(z_train,c_w)\n",
    "ckernel_end = time.time()"
   ]
  },
  {
   "cell_type": "code",
   "execution_count": 299,
   "id": "96755484-ea83-4f43-88d7-16b806792baa",
   "metadata": {},
   "outputs": [
    {
     "name": "stdout",
     "output_type": "stream",
     "text": [
      "False\n"
     ]
    }
   ],
   "source": [
    "np.set_printoptions(threshold=np.inf)\n",
    "dif = c_kernel- Z @ Z.T < .001\n",
    "print(dif.all())"
   ]
  },
  {
   "cell_type": "code",
   "execution_count": 300,
   "id": "9a8e5acb-faa9-410e-a237-7e899bf7c2ad",
   "metadata": {},
   "outputs": [],
   "source": [
    "#random features sigma computation\n",
    "rfs_start = time.time()\n",
    "rf_sigma = sigma**2 * phi_test.T @ invZ_with_noise @ phi_test\n",
    "rfs_end = time.time()\n",
    "\n",
    "#kernel sigma computation\n",
    "ckernels_start = time.time()\n",
    "kernel_sigma = compute_entry(x_test, x_test, y_test, y_test) -\\\n",
    "            c_vector.T @ inv_ckernel_with_noise @ c_vector\n",
    "ckernels_end = time.time()"
   ]
  },
  {
   "cell_type": "code",
   "execution_count": 301,
   "id": "8ddaa8c2-e454-49c2-b0e7-7dfffb28148d",
   "metadata": {},
   "outputs": [
    {
     "name": "stdout",
     "output_type": "stream",
     "text": [
      "z_test=0.18107397972611733 \n",
      "rf_pred=0.17078940673717183 \n",
      "c_pred=0.18356798644315905\n",
      "rf_sigma=0.01145902697613334 \n",
      "kernel_sigma=0.12267424523537107\n",
      "rf_mu_time, c_mu_time 0.011904716491699219 0.015638113021850586\n",
      "rf_sigma_time, c_sigma_time 0.00026106834411621094 0.0011229515075683594\n"
     ]
    }
   ],
   "source": [
    "#print(f'{z_test=}{rf_pred=}{c_pred=}{rf_sigma=}{kernel_sigma=}') does not work for some reason\n",
    "print(f'z_test={z_test} \\nrf_pred={rf_pred} \\nc_pred={c_pred}\\n\\\n",
    "rf_sigma={rf_sigma} \\nkernel_sigma={kernel_sigma}')\n",
    "rf_mu_time = rf_end - rf_start\n",
    "c_mu_time = ckernel_end - ckernel_start\n",
    "print('rf_mu_time, c_mu_time', rf_mu_time, c_mu_time)\n",
    "\n",
    "rf_sigma_time = rfs_end - rfs_start\n",
    "c_sigma_time = ckernels_end - ckernels_start\n",
    "print('rf_sigma_time, c_sigma_time', rf_sigma_time, c_sigma_time)"
   ]
  },
  {
   "cell_type": "code",
   "execution_count": 302,
   "id": "3543f77a-47c6-4bc6-a548-7e9d9c979a8b",
   "metadata": {},
   "outputs": [],
   "source": [
    "#change d    \n",
    "#time constructing the matrix for socp \n",
    "#make figures?"
   ]
  },
  {
   "cell_type": "code",
   "execution_count": null,
   "id": "40eaf680-01bf-41c9-88c6-b61e0462fcb7",
   "metadata": {},
   "outputs": [],
   "source": []
  }
 ],
 "metadata": {
  "kernelspec": {
   "display_name": "Python 3 (ipykernel)",
   "language": "python",
   "name": "python3"
  },
  "language_info": {
   "codemirror_mode": {
    "name": "ipython",
    "version": 3
   },
   "file_extension": ".py",
   "mimetype": "text/x-python",
   "name": "python",
   "nbconvert_exporter": "python",
   "pygments_lexer": "ipython3",
   "version": "3.7.3"
  }
 },
 "nbformat": 4,
 "nbformat_minor": 5
}
