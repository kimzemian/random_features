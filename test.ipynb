{
 "cells": [
  {
   "cell_type": "code",
   "execution_count": 3,
   "id": "823cd9d1-af54-4a07-9c14-00e9c2d2c53e",
   "metadata": {
    "tags": []
   },
   "outputs": [
    {
     "name": "stdout",
     "output_type": "stream",
     "text": [
      "[-0.0, -0.7777777777777778, -1.1111111111111112, -1.0, -0.44444444444444464, 0.5555555555555558, 1.9999999999999996, 3.8888888888888875, 6.222222222222221, 9.0]\n"
     ]
    }
   ],
   "source": [
    "from multiprocessing import Pool\n",
    "import numpy as np\n",
    "initial_x0s = np.linspace(-1, 1, 10)\n",
    "\n",
    "def make_c_dot_data(i,x):\n",
    "    return x*i\n",
    "\n",
    "with Pool(3) as p:\n",
    "    ans = p.starmap(make_c_dot_data, enumerate(initial_x0s))\n",
    "\n",
    "print(ans)"
   ]
  },
  {
   "cell_type": "code",
   "execution_count": 1,
   "id": "abec4345-6ace-4d17-aa53-b194e8675e41",
   "metadata": {},
   "outputs": [
    {
     "name": "stdout",
     "output_type": "stream",
     "text": [
      "15\n"
     ]
    }
   ],
   "source": [
    "delta = 5\n",
    "cost = lambda t: (t+1) * delta\n",
    "print(cost(2))"
   ]
  },
  {
   "cell_type": "code",
   "execution_count": null,
   "id": "1c55d5b7-6740-4df9-8aac-4300270b642f",
   "metadata": {},
   "outputs": [],
   "source": []
  }
 ],
 "metadata": {
  "kernelspec": {
   "display_name": "Python 3 (ipykernel)",
   "language": "python",
   "name": "python3"
  },
  "language_info": {
   "codemirror_mode": {
    "name": "ipython",
    "version": 3
   },
   "file_extension": ".py",
   "mimetype": "text/x-python",
   "name": "python",
   "nbconvert_exporter": "python",
   "pygments_lexer": "ipython3",
   "version": "3.8.10"
  }
 },
 "nbformat": 4,
 "nbformat_minor": 5
}
