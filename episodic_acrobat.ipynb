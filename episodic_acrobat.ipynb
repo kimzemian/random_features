{
 "cells": [
  {
   "cell_type": "code",
   "execution_count": 1,
   "metadata": {
    "tags": []
   },
   "outputs": [],
   "source": [
    "%reload_ext autoreload\n",
    "%autoreload 2\n",
    "%matplotlib inline\n",
    "from fast_control.viz.episodic_plot import *\n",
    "from fast_control.viz.animate import create_animation\n",
    "from fast_control.viz.plot import *\n",
    "from fast_control.controller_factory import eval_cs, ControllerFactory, train_episodic_with_info\n",
    "from fast_control.controller_factory import ControllerFactory\n",
    "from core.systems import DoubleInvertedPendulum\n",
    "import sys\n",
    "import mosek\n",
    "import numpy as np\n",
    "np.set_printoptions(threshold=sys.maxsize)"
   ]
  },
  {
   "cell_type": "code",
   "execution_count": 2,
   "metadata": {
    "tags": []
   },
   "outputs": [],
   "source": [
    "system = DoubleInvertedPendulum(.6, .6, .6, .6)\n",
    "system_est = DoubleInvertedPendulum(1, 1, 1, 1)"
   ]
  },
  {
   "cell_type": "code",
   "execution_count": 3,
   "metadata": {
    "tags": []
   },
   "outputs": [
    {
     "name": "stdout",
     "output_type": "stream",
     "text": [
      "data size:199, rf_d is: 20\n",
      "ad_rf\n",
      "training time for ad_rf_gp is: 0.0019874380086548626\n",
      "adp_rf\n",
      "training time for adp_rf_gp is: 0.016766974003985524\n",
      "adp_rf_sketch\n",
      "training time for adp_rf_sketch_gp is: 0.0038085319683887064\n"
     ]
    },
    {
     "name": "stderr",
     "output_type": "stream",
     "text": [
      "  0%|          | 0/20 [00:00<?, ?it/s]"
     ]
    },
    {
     "name": "stdout",
     "output_type": "stream",
     "text": [
      "data size:398, rf_d is: 40\n",
      "ad_rf\n",
      "training time for ad_rf_gp is: 0.03874485497362912\n",
      "adp_rf\n",
      "training time for adp_rf_gp is: 0.040789841033983976\n",
      "adp_rf_sketch\n",
      "training time for adp_rf_sketch_gp is: 0.01458033302333206\n",
      "iteration 0 training ended\n"
     ]
    },
    {
     "name": "stderr",
     "output_type": "stream",
     "text": [
      "  5%|▌         | 1/20 [02:44<52:05, 164.50s/it]"
     ]
    },
    {
     "name": "stdout",
     "output_type": "stream",
     "text": [
      "data size:597, rf_d is: 60\n",
      "ad_rf\n",
      "training time for ad_rf_gp is: 0.25455197802511975\n",
      "adp_rf\n",
      "training time for adp_rf_gp is: 0.3609820179990493\n",
      "adp_rf_sketch\n",
      "training time for adp_rf_sketch_gp is: 0.11171288503101096\n",
      "iteration 1 training ended\n"
     ]
    },
    {
     "name": "stderr",
     "output_type": "stream",
     "text": [
      " 10%|█         | 2/20 [05:30<49:35, 165.30s/it]"
     ]
    },
    {
     "name": "stdout",
     "output_type": "stream",
     "text": [
      "data size:796, rf_d is: 80\n",
      "ad_rf\n",
      "training time for ad_rf_gp is: 0.5499706179834902\n",
      "adp_rf\n",
      "training time for adp_rf_gp is: 0.6652428249944933\n",
      "adp_rf_sketch\n",
      "training time for adp_rf_sketch_gp is: 0.1613586669554934\n",
      "iteration 2 training ended\n"
     ]
    },
    {
     "name": "stderr",
     "output_type": "stream",
     "text": [
      " 15%|█▌        | 3/20 [08:34<49:19, 174.11s/it]"
     ]
    },
    {
     "name": "stdout",
     "output_type": "stream",
     "text": [
      "data size:995, rf_d is: 100\n",
      "ad_rf\n",
      "training time for ad_rf_gp is: 0.529573149047792\n",
      "adp_rf\n",
      "training time for adp_rf_gp is: 0.5495711770490743\n",
      "adp_rf_sketch\n",
      "training time for adp_rf_sketch_gp is: 0.25644322199514136\n",
      "iteration 3 training ended\n"
     ]
    },
    {
     "name": "stderr",
     "output_type": "stream",
     "text": [
      " 20%|██        | 4/20 [12:12<51:01, 191.33s/it]"
     ]
    },
    {
     "name": "stdout",
     "output_type": "stream",
     "text": [
      "data size:1194, rf_d is: 120\n",
      "ad_rf\n",
      "training time for ad_rf_gp is: 0.1314004939631559\n",
      "adp_rf\n",
      "training time for adp_rf_gp is: 0.09062781697139144\n",
      "adp_rf_sketch\n",
      "training time for adp_rf_sketch_gp is: 0.32410226901993155\n",
      "iteration 4 training ended\n"
     ]
    },
    {
     "name": "stderr",
     "output_type": "stream",
     "text": [
      " 25%|██▌       | 5/20 [15:37<49:00, 196.04s/it]"
     ]
    },
    {
     "name": "stdout",
     "output_type": "stream",
     "text": [
      "data size:1393, rf_d is: 140\n",
      "ad_rf\n",
      "training time for ad_rf_gp is: 0.19802623498253524\n",
      "adp_rf\n",
      "training time for adp_rf_gp is: 0.06372362503316253\n",
      "adp_rf_sketch\n",
      "training time for adp_rf_sketch_gp is: 0.4445871430216357\n",
      "iteration 5 training ended\n"
     ]
    },
    {
     "name": "stderr",
     "output_type": "stream",
     "text": [
      " 30%|███       | 6/20 [19:08<46:56, 201.18s/it]"
     ]
    },
    {
     "name": "stdout",
     "output_type": "stream",
     "text": [
      "data size:1592, rf_d is: 160\n",
      "ad_rf\n",
      "training time for ad_rf_gp is: 0.3102353920112364\n",
      "adp_rf\n",
      "training time for adp_rf_gp is: 0.19493230199441314\n",
      "adp_rf_sketch\n",
      "training time for adp_rf_sketch_gp is: 0.5412745570065454\n",
      "iteration 6 training ended\n"
     ]
    },
    {
     "name": "stderr",
     "output_type": "stream",
     "text": [
      " 35%|███▌      | 7/20 [23:04<46:03, 212.58s/it]"
     ]
    },
    {
     "name": "stdout",
     "output_type": "stream",
     "text": [
      "data size:1791, rf_d is: 180\n",
      "ad_rf\n",
      "training time for ad_rf_gp is: 0.265658357006032\n",
      "adp_rf\n",
      "training time for adp_rf_gp is: 0.17721167800482363\n",
      "adp_rf_sketch\n",
      "training time for adp_rf_sketch_gp is: 0.6998381880111992\n",
      "iteration 7 training ended\n"
     ]
    },
    {
     "name": "stderr",
     "output_type": "stream",
     "text": [
      " 40%|████      | 8/20 [26:51<43:27, 217.28s/it]"
     ]
    },
    {
     "name": "stdout",
     "output_type": "stream",
     "text": [
      "data size:1990, rf_d is: 200\n",
      "ad_rf\n",
      "training time for ad_rf_gp is: 0.2092900609713979\n",
      "adp_rf\n",
      "training time for adp_rf_gp is: 0.12462589202914387\n",
      "adp_rf_sketch\n",
      "training time for adp_rf_sketch_gp is: 0.9413087170105428\n",
      "iteration 8 training ended\n"
     ]
    },
    {
     "name": "stderr",
     "output_type": "stream",
     "text": [
      " 45%|████▌     | 9/20 [30:44<40:42, 222.00s/it]"
     ]
    },
    {
     "name": "stdout",
     "output_type": "stream",
     "text": [
      "data size:2189, rf_d is: 218\n",
      "ad_rf\n",
      "training time for ad_rf_gp is: 0.42827677697641775\n",
      "adp_rf\n",
      "training time for adp_rf_gp is: 0.24778215098194778\n",
      "adp_rf_sketch\n",
      "training time for adp_rf_sketch_gp is: 1.3723539300262928\n",
      "iteration 9 training ended\n"
     ]
    },
    {
     "name": "stderr",
     "output_type": "stream",
     "text": [
      " 50%|█████     | 10/20 [35:11<39:20, 236.03s/it]"
     ]
    },
    {
     "name": "stdout",
     "output_type": "stream",
     "text": [
      "data size:2388, rf_d is: 238\n",
      "ad_rf\n",
      "training time for ad_rf_gp is: 1.342418375017587\n",
      "adp_rf\n",
      "training time for adp_rf_gp is: 0.6449179759947583\n",
      "adp_rf_sketch\n",
      "training time for adp_rf_sketch_gp is: 1.7220593139645644\n",
      "iteration 10 training ended\n"
     ]
    },
    {
     "name": "stderr",
     "output_type": "stream",
     "text": [
      " 55%|█████▌    | 11/20 [40:08<38:11, 254.59s/it]"
     ]
    },
    {
     "name": "stdout",
     "output_type": "stream",
     "text": [
      "data size:2587, rf_d is: 258\n",
      "ad_rf\n",
      "training time for ad_rf_gp is: 0.386996837973129\n",
      "adp_rf\n",
      "training time for adp_rf_gp is: 1.1197331699659117\n",
      "adp_rf_sketch\n",
      "training time for adp_rf_sketch_gp is: 2.5731563129811548\n",
      "iteration 11 training ended\n"
     ]
    },
    {
     "name": "stderr",
     "output_type": "stream",
     "text": [
      " 60%|██████    | 12/20 [45:03<35:36, 267.08s/it]"
     ]
    },
    {
     "name": "stdout",
     "output_type": "stream",
     "text": [
      "data size:2786, rf_d is: 278\n",
      "ad_rf\n",
      "training time for ad_rf_gp is: 0.4896072609699331\n",
      "adp_rf\n",
      "training time for adp_rf_gp is: 0.6941430200240575\n",
      "adp_rf_sketch\n",
      "training time for adp_rf_sketch_gp is: 2.680831773963291\n",
      "iteration 12 training ended\n"
     ]
    },
    {
     "name": "stderr",
     "output_type": "stream",
     "text": [
      " 65%|██████▌   | 13/20 [50:52<34:01, 291.69s/it]"
     ]
    },
    {
     "name": "stdout",
     "output_type": "stream",
     "text": [
      "data size:2985, rf_d is: 298\n",
      "ad_rf\n",
      "training time for ad_rf_gp is: 1.4311160650104284\n",
      "adp_rf\n",
      "training time for adp_rf_gp is: 0.6018998979707249\n",
      "adp_rf_sketch\n",
      "training time for adp_rf_sketch_gp is: 3.523775196983479\n",
      "iteration 13 training ended\n"
     ]
    },
    {
     "name": "stderr",
     "output_type": "stream",
     "text": [
      " 70%|███████   | 14/20 [56:53<31:16, 312.76s/it]"
     ]
    },
    {
     "name": "stdout",
     "output_type": "stream",
     "text": [
      "data size:3184, rf_d is: 318\n",
      "ad_rf\n",
      "training time for ad_rf_gp is: 2.430744174052961\n",
      "adp_rf\n",
      "training time for adp_rf_gp is: 2.002408017986454\n",
      "adp_rf_sketch\n",
      "training time for adp_rf_sketch_gp is: 4.430942023987882\n",
      "iteration 14 training ended\n"
     ]
    },
    {
     "name": "stderr",
     "output_type": "stream",
     "text": [
      " 75%|███████▌  | 15/20 [1:04:01<28:56, 347.35s/it]"
     ]
    },
    {
     "name": "stdout",
     "output_type": "stream",
     "text": [
      "data size:3383, rf_d is: 338\n",
      "ad_rf\n",
      "training time for ad_rf_gp is: 1.0294927229988389\n",
      "adp_rf\n",
      "training time for adp_rf_gp is: 1.343584063986782\n",
      "adp_rf_sketch\n",
      "training time for adp_rf_sketch_gp is: 5.489770242013037\n",
      "iteration 15 training ended\n"
     ]
    },
    {
     "name": "stderr",
     "output_type": "stream",
     "text": [
      " 80%|████████  | 16/20 [1:12:11<26:01, 390.38s/it]"
     ]
    },
    {
     "name": "stdout",
     "output_type": "stream",
     "text": [
      "data size:3582, rf_d is: 358\n",
      "ad_rf\n",
      "training time for ad_rf_gp is: 2.0558555629686452\n",
      "adp_rf\n",
      "training time for adp_rf_gp is: 1.7926028710207902\n",
      "adp_rf_sketch\n",
      "training time for adp_rf_sketch_gp is: 6.931920330971479\n",
      "iteration 16 training ended\n"
     ]
    },
    {
     "name": "stderr",
     "output_type": "stream",
     "text": [
      " 85%|████████▌ | 17/20 [1:21:59<22:29, 449.82s/it]"
     ]
    },
    {
     "name": "stdout",
     "output_type": "stream",
     "text": [
      "data size:3781, rf_d is: 378\n",
      "ad_rf\n",
      "training time for ad_rf_gp is: 1.5472895210259594\n",
      "adp_rf\n",
      "training time for adp_rf_gp is: 1.4318953750189394\n",
      "adp_rf_sketch\n",
      "training time for adp_rf_sketch_gp is: 6.824466624006163\n",
      "iteration 17 training ended\n"
     ]
    },
    {
     "name": "stderr",
     "output_type": "stream",
     "text": [
      " 90%|█████████ | 18/20 [1:32:09<16:36, 498.10s/it]"
     ]
    },
    {
     "name": "stdout",
     "output_type": "stream",
     "text": [
      "data size:3980, rf_d is: 398\n",
      "ad_rf\n",
      "training time for ad_rf_gp is: 2.9188336030347273\n",
      "adp_rf\n",
      "training time for adp_rf_gp is: 3.3115131049999036\n",
      "adp_rf_sketch\n",
      "training time for adp_rf_sketch_gp is: 9.444427088019438\n",
      "iteration 18 training ended\n"
     ]
    },
    {
     "name": "stderr",
     "output_type": "stream",
     "text": [
      " 95%|█████████▌| 19/20 [1:46:25<10:05, 605.56s/it]"
     ]
    },
    {
     "name": "stdout",
     "output_type": "stream",
     "text": [
      "data size:4179, rf_d is: 418\n",
      "ad_rf\n",
      "training time for ad_rf_gp is: 3.283958301995881\n",
      "adp_rf\n",
      "training time for adp_rf_gp is: 3.898065624991432\n",
      "adp_rf_sketch\n",
      "training time for adp_rf_sketch_gp is: 11.585394725960214\n",
      "iteration 19 training ended\n"
     ]
    },
    {
     "name": "stderr",
     "output_type": "stream",
     "text": [
      "100%|██████████| 20/20 [2:00:48<00:00, 362.41s/it]\n"
     ]
    }
   ],
   "source": [
    "control = ControllerFactory(system, system_est)\n",
    "controllers, gps = train_episodic_with_info(control)"
   ]
  },
  {
   "cell_type": "code",
   "execution_count": 4,
   "metadata": {},
   "outputs": [
    {
     "data": {
      "image/png": "[encoded data removed]",
      "text/plain": [
       "<Figure size 640x480 with 1 Axes>"
      ]
     },
     "metadata": {},
     "output_type": "display_data"
    },
    {
     "data": {
      "image/png": "[encoded data removed]",
      "text/plain": [
       "<Figure size 640x480 with 1 Axes>"
      ]
     },
     "metadata": {},
     "output_type": "display_data"
    }
   ],
   "source": [
    "plot_qp(control, c_cdot=0)"
   ]
  },
  {
   "cell_type": "code",
   "execution_count": 5,
   "metadata": {},
   "outputs": [
    {
     "ename": "SyntaxError",
     "evalue": "invalid syntax (1952744288.py, line 1)",
     "output_type": "error",
     "traceback": [
      "\u001b[0;36m  Cell \u001b[0;32mIn[5], line 1\u001b[0;36m\u001b[0m\n\u001b[0;31m    path = 'data/eval_cs.npz'`11``\u001b[0m\n\u001b[0m                             ^\u001b[0m\n\u001b[0;31mSyntaxError\u001b[0m\u001b[0;31m:\u001b[0m invalid syntax\n"
     ]
    }
   ],
   "source": [
    "path = 'data/eval_cs.npz'\n",
    "episodic_plot_predicted_vs_true_eval(control.x_0, control.epochs, control.T, control.num_steps)\n",
    "plot_info(control.x_0, controllers, path, c_cdot=1)\n",
    "plot_info(control.x_0, controllers, 'data/diff_from_oracle.npz', diff=True, c_cdot=1)\n",
    "# plot_predicted_vs_true_func(x_0, epochs, T)\n",
    "episodic_plot_cum_predicted_vs_true_eval(control.x_0, control.epochs, control.T, control.num_steps)\n",
    "plot_qp(control, 0)"
   ]
  },
  {
   "cell_type": "code",
   "execution_count": null,
   "metadata": {},
   "outputs": [],
   "source": []
  },
  {
   "cell_type": "code",
   "execution_count": null,
   "metadata": {},
   "outputs": [],
   "source": [
    "controllers, gps = control.train_grid()\n",
    "control.grid_info(controllers, eval_c)"
   ]
  },
  {
   "cell_type": "code",
   "execution_count": null,
   "metadata": {},
   "outputs": [],
   "source": [
    "#create_data(1, 10)\n",
    "# data = np.load('data,pi,1,sim:10,100.npz')\n",
    "data = np.load('data_1_10.npz')\n",
    "xs = data['xs']\n",
    "ys = data['ys']\n",
    "zs = data['zs']\n",
    "print(xs.shape)"
   ]
  },
  {
   "cell_type": "code",
   "execution_count": null,
   "metadata": {},
   "outputs": [],
   "source": [
    "# from multiprocessing import Pool\n",
    "# with Pool(3) as p:\n",
    "#     ans = p.starmap(make_c_data, enumerate(initial_x0s))\n",
    "#     ans2 = p.starmap(make_c_dot_data, enumerate(initial_x0s))"
   ]
  },
  {
   "cell_type": "code",
   "execution_count": null,
   "metadata": {},
   "outputs": [],
   "source": [
    "for num,x_0 in tqdm(enumerate(initial_x0s)): \n",
    "    if os.path.isfile(f'/home/kk983/random_features/data/c_dots/{num}.npz'):\n",
    "        plot_c_dot(num,x_0)"
   ]
  },
  {
   "cell_type": "code",
   "execution_count": null,
   "metadata": {
    "tags": []
   },
   "outputs": [],
   "source": [
    "# slacks = ['linear', 'quadratic']\n",
    "# sgms = [5,10,15,20,25,30]\n",
    "# for sgm in sgms:\n",
    "#     for slack in slacks:\n",
    "#         controllers, gps = train_episodic(system, system_est, x_0, epochs, T, num_steps, info=True, func=eval_c, sgm=sgm, slack=slack)\n",
    "#         data = np.load('data/_diff from oracle.npz')\n",
    "#         print(f'sgm={sgm}, slack={slack},diff={data[\"gp_zs\"].T[-1]}')"
   ]
  },
  {
   "cell_type": "code",
   "execution_count": null,
   "metadata": {
    "tags": []
   },
   "outputs": [],
   "source": [
    "# create_grid_data(system, qp_controller, lyap, lyap_est, T, num_steps)\n",
    "# episodic_plot_func_for_controller(x_0, 10, path, gp_names)"
   ]
  },
  {
   "cell_type": "code",
   "execution_count": null,
   "metadata": {
    "tags": []
   },
   "outputs": [
    {
     "name": "stderr",
     "output_type": "stream",
     "text": [
      "1it [01:21, 81.84s/it]"
     ]
    }
   ],
   "source": [
    "create_animation(system, controllers, gps, x_0)"
   ]
  },
  {
   "cell_type": "code",
   "execution_count": null,
   "metadata": {
    "tags": []
   },
   "outputs": [],
   "source": [
    "plot_qp(eval_c)\n",
    "for gp,controller in zip(gps, controllers):\n",
    "    plot_simulation_dip(system, controller, x_0, T, num_steps)\n",
    "    plot_closed_loop_errorbar(\n",
    "    system, system_est, controller, gp, x_0, T, num_steps, cut_off=20)\n",
    "\n"
   ]
  },
  {
   "cell_type": "code",
   "execution_count": null,
   "metadata": {},
   "outputs": [],
   "source": [
    "path = 'data/eval_c.npz'\n",
    "episodic_plot_predicted_vs_true_func(x_0, epochs, T, num_steps)\n",
    "plot_info(x_0, controllers, path)\n",
    "plot_info(x_0, controllers, 'data/diff_from_oracle.npz', diff=True)\n",
    "# plot_predicted_vs_true_func(x_0, epochs, T)\n",
    "episodic_plot_cum_predicted_vs_true_func(x_0, epochs, T, num_steps)"
   ]
  },
  {
   "cell_type": "code",
   "execution_count": null,
   "metadata": {},
   "outputs": [],
   "source": [
    "slacks = [\"constant\", \"linear\", \"quadratic\"]\n",
    "    sgms = [5, 10, 15, 20, 25, 30]\n",
    "\n",
    "    for sgm in sgms:\n",
    "        for slack in slacks:\n",
    "            controllers, gps = control.train_episodic(info=True)\n",
    "            data = np.load(\"data/_diff from oracle.npz\")\n",
    "            print(f'sgm={sgm}, slack={slack},diff={data[\"gp_zs\"].T[-1]}')\n",
    "            with open(\"data/test_previous_gp.pickle\", \"rb\") as handle:\n",
    "                data = pickle.load(handle)\n",
    "            data[gp][-1]\n",
    "            # save plots with time stamps, sigma and slack\n",
    "            # run some sort of optimization, sum diff from oracle, maybe do a heat map?\n"
   ]
  },
  {
   "cell_type": "code",
   "execution_count": null,
   "metadata": {},
   "outputs": [],
   "source": []
  }
 ],
 "metadata": {
  "kernelspec": {
   "display_name": "Python 3 (ipykernel)",
   "language": "python",
   "name": "python3"
  },
  "language_info": {
   "codemirror_mode": {
    "name": "ipython",
    "version": 3
   },
   "file_extension": ".py",
   "mimetype": "text/x-python",
   "name": "python",
   "nbconvert_exporter": "python",
   "pygments_lexer": "ipython3",
   "version": "3.8.10"
  },
  "vscode": {
   "interpreter": {
    "hash": "0adcc2737ebf6a4a119f135174df96668767fca1ef1112612db5ecadf2b6d608"
   }
  }
 },
 "nbformat": 4,
 "nbformat_minor": 4
}
