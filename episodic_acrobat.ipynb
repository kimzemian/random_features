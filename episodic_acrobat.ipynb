{
 "cells": [
  {
   "cell_type": "code",
   "execution_count": 1,
   "metadata": {
    "tags": []
   },
   "outputs": [
    {
     "data": {
      "text/plain": [
       "<module 'ControlRF.viz.plot' from '/home/kk983/random_features/ControlRF/viz/plot.py'>"
      ]
     },
     "execution_count": 1,
     "metadata": {},
     "output_type": "execute_result"
    }
   ],
   "source": [
    "from ControlRF.train import *\n",
    "from ControlRF.viz.episodic_plot import *\n",
    "from ControlRF.viz.animate import *\n",
    "from ControlRF.viz.plot import *\n",
    "from ControlRF.util import *\n",
    "from core.systems import DoubleInvertedPendulum\n",
    "import sys\n",
    "import mosek\n",
    "import numpy as np\n",
    "np.set_printoptions(threshold=sys.maxsize)\n",
    "# import importlib\n",
    "# importlib.reload(sys.modules[plot_info.__module__])"
   ]
  },
  {
   "cell_type": "code",
   "execution_count": 2,
   "metadata": {
    "tags": []
   },
   "outputs": [],
   "source": [
    "system_est = DoubleInvertedPendulum(1, 1, .8, .8)\n",
    "system = DoubleInvertedPendulum(0.5, 0.5, 1, 2)\n",
    "system.l_1=1\n",
    "system.l_2=2\n",
    "init_controllers(system, system_est)"
   ]
  },
  {
   "cell_type": "code",
   "execution_count": null,
   "metadata": {
    "tags": []
   },
   "outputs": [
    {
     "name": "stdout",
     "output_type": "stream",
     "text": [
      "ad_kernel\n",
      "training time for ad_kernel_gp is: 0.0014819580828770995\n",
      "ad_rf\n",
      "training time for ad_rf_gp is: 0.00016851408872753382\n",
      "adp_kernel\n",
      "training time for adp_kernel_gp is: 0.0010000430047512054\n",
      "adp_rf\n",
      "training time for adp_rf_gp is: 0.0001340879825875163\n"
     ]
    },
    {
     "name": "stderr",
     "output_type": "stream",
     "text": [
      "  0%|                                          | 0/10 [00:00<?, ?it/s]"
     ]
    },
    {
     "name": "stdout",
     "output_type": "stream",
     "text": [
      "ad_kernel\n",
      "training time for ad_kernel_gp is: 0.005631307023577392\n",
      "ad_rf\n",
      "training time for ad_rf_gp is: 0.00033212604466825724\n",
      "adp_kernel\n",
      "training time for adp_kernel_gp is: 0.0038206300232559443\n",
      "adp_rf\n",
      "training time for adp_rf_gp is: 0.00031524000223726034\n",
      "iteration0:data size:198\n"
     ]
    },
    {
     "name": "stderr",
     "output_type": "stream",
     "text": [
      " 10%|███▍                              | 1/10 [00:54<08:08, 54.22s/it]"
     ]
    },
    {
     "name": "stdout",
     "output_type": "stream",
     "text": [
      "ad_kernel\n",
      "training time for ad_kernel_gp is: 0.013207769021391869\n",
      "ad_rf\n",
      "training time for ad_rf_gp is: 0.0006441529840230942\n",
      "adp_kernel\n",
      "training time for adp_kernel_gp is: 0.010941826971247792\n",
      "adp_rf\n",
      "training time for adp_rf_gp is: 0.0006633569719269872\n",
      "iteration1:data size:297\n"
     ]
    },
    {
     "name": "stderr",
     "output_type": "stream",
     "text": [
      " 20%|██████▊                           | 2/10 [01:47<07:10, 53.87s/it]"
     ]
    },
    {
     "name": "stdout",
     "output_type": "stream",
     "text": [
      "ad_kernel\n",
      "training time for ad_kernel_gp is: 0.02406318497378379\n",
      "ad_rf\n",
      "training time for ad_rf_gp is: 0.0010540069779381156\n",
      "adp_kernel\n",
      "training time for adp_kernel_gp is: 0.020722168032079935\n",
      "adp_rf\n",
      "training time for adp_rf_gp is: 0.001173376920633018\n",
      "iteration2:data size:396\n"
     ]
    },
    {
     "name": "stderr",
     "output_type": "stream",
     "text": [
      " 30%|██████████▏                       | 3/10 [02:42<06:19, 54.28s/it]"
     ]
    },
    {
     "name": "stdout",
     "output_type": "stream",
     "text": [
      "ad_kernel\n",
      "training time for ad_kernel_gp is: 0.03887476702220738\n",
      "ad_rf\n",
      "training time for ad_rf_gp is: 0.0017427669372409582\n",
      "adp_kernel\n",
      "training time for adp_kernel_gp is: 0.033948383992537856\n",
      "adp_rf\n",
      "training time for adp_rf_gp is: 0.0020748929819092155\n",
      "iteration3:data size:495\n"
     ]
    },
    {
     "name": "stderr",
     "output_type": "stream",
     "text": [
      " 40%|█████████████▌                    | 4/10 [03:37<05:26, 54.42s/it]"
     ]
    },
    {
     "name": "stdout",
     "output_type": "stream",
     "text": [
      "ad_kernel\n",
      "training time for ad_kernel_gp is: 0.05598039389587939\n",
      "ad_rf\n",
      "training time for ad_rf_gp is: 0.0027247450780123472\n",
      "adp_kernel\n",
      "training time for adp_kernel_gp is: 0.05042038799729198\n",
      "adp_rf\n",
      "training time for adp_rf_gp is: 0.002959572011604905\n",
      "iteration4:data size:594\n"
     ]
    },
    {
     "name": "stderr",
     "output_type": "stream",
     "text": [
      " 50%|█████████████████                 | 5/10 [04:32<04:32, 54.54s/it]"
     ]
    },
    {
     "name": "stdout",
     "output_type": "stream",
     "text": [
      "ad_kernel\n",
      "training time for ad_kernel_gp is: 0.07858619606122375\n",
      "ad_rf\n",
      "training time for ad_rf_gp is: 0.0038577771047130227\n",
      "adp_kernel\n",
      "training time for adp_kernel_gp is: 0.07275218598078936\n",
      "adp_rf\n",
      "training time for adp_rf_gp is: 0.004564199945889413\n",
      "iteration5:data size:693\n"
     ]
    },
    {
     "name": "stderr",
     "output_type": "stream",
     "text": [
      " 60%|████████████████████▍             | 6/10 [05:26<03:38, 54.60s/it]"
     ]
    },
    {
     "name": "stdout",
     "output_type": "stream",
     "text": [
      "ad_kernel\n",
      "training time for ad_kernel_gp is: 0.10262449900619686\n",
      "ad_rf\n",
      "training time for ad_rf_gp is: 0.004607983049936593\n",
      "adp_kernel\n",
      "training time for adp_kernel_gp is: 0.10041059507057071\n",
      "adp_rf\n",
      "training time for adp_rf_gp is: 0.0060206749476492405\n",
      "iteration6:data size:792\n"
     ]
    },
    {
     "name": "stderr",
     "output_type": "stream",
     "text": [
      " 70%|███████████████████████▊          | 7/10 [06:21<02:44, 54.69s/it]"
     ]
    },
    {
     "name": "stdout",
     "output_type": "stream",
     "text": [
      "ad_kernel\n",
      "training time for ad_kernel_gp is: 0.14175845903810114\n",
      "ad_rf\n",
      "training time for ad_rf_gp is: 0.006942759966477752\n",
      "adp_kernel\n",
      "training time for adp_kernel_gp is: 0.13289712904952466\n",
      "adp_rf\n",
      "training time for adp_rf_gp is: 0.008128185058012605\n",
      "iteration7:data size:891\n"
     ]
    },
    {
     "name": "stderr",
     "output_type": "stream",
     "text": [
      " 80%|███████████████████████████▏      | 8/10 [07:16<01:49, 54.66s/it]"
     ]
    },
    {
     "name": "stdout",
     "output_type": "stream",
     "text": [
      "ad_kernel\n",
      "training time for ad_kernel_gp is: 0.17302972998004407\n",
      "ad_rf\n",
      "training time for ad_rf_gp is: 0.008070311974734068\n",
      "adp_kernel\n",
      "training time for adp_kernel_gp is: 0.16815790999680758\n",
      "adp_rf\n",
      "training time for adp_rf_gp is: 0.010425896034575999\n",
      "iteration8:data size:990\n"
     ]
    }
   ],
   "source": [
    "x_0 = np.array([3.1, 0, 0, 0])\n",
    "T = 10\n",
    "num_steps = 100\n",
    "epochs = 10\n",
    "\n",
    "controllers, gps = train_episodic(system, system_est, x_0, epochs, T, num_steps, info=True, func=eval_c, sgm=10, slack='quadratic')"
   ]
  },
  {
   "cell_type": "code",
   "execution_count": null,
   "metadata": {
    "tags": []
   },
   "outputs": [],
   "source": [
    "data = np.load('data/_diff from oracle.npz')\n",
    "print(data[\"gp_zs\"].T)"
   ]
  },
  {
   "cell_type": "code",
   "execution_count": null,
   "metadata": {},
   "outputs": [],
   "source": [
    "# slacks = ['linear', 'quadratic']\n",
    "# sgms = [5,10,15,20,25,30]\n",
    "# for sgm in sgms:\n",
    "#     for slack in slacks:\n",
    "#         controllers, gps = train_episodic(system, system_est, x_0, epochs, T, num_steps, info=True, func=eval_c, sgm=sgm, slack=slack)\n",
    "#         data = np.load('data/_diff from oracle.npz')\n",
    "#         print(f'sgm={sgm}, slack={slack},diff={data[\"gp_zs\"].T[-1]}')"
   ]
  },
  {
   "cell_type": "code",
   "execution_count": null,
   "metadata": {},
   "outputs": [],
   "source": [
    "path = 'data/_eval_c.npz'\n",
    "plot_info(x_0, controllers, path)\n",
    "plot_info(x_0, controllers, 'data/_diff from oracle.npz', diff=True)\n",
    "# plot_predicted_vs_true_func(x_0, epochs, T)\n",
    "episodic_plot_cum_predicted_vs_true_func(x_0, epochs, T, num_steps)\n",
    "gp_names = ['ad_kernel', 'ad_rf', 'adp_kernel', 'adp_rf']"
   ]
  },
  {
   "cell_type": "code",
   "execution_count": null,
   "metadata": {
    "tags": []
   },
   "outputs": [],
   "source": [
    "# create_grid_data(system, qp_controller, lyap, lyap_est, T, num_steps)\n",
    "episodic_plot_func_for_controller(x_0, 10, path, gp_names)"
   ]
  },
  {
   "cell_type": "code",
   "execution_count": null,
   "metadata": {},
   "outputs": [],
   "source": [
    "def render(system, controller, controller_name, x_0, T, num_steps):\n",
    "    xs, us, ts = simulate(system, controller, x_0, T, num_steps)\n",
    "    dt = T / num_steps\n",
    "\n",
    "    x_solution = np.zeros(len(xs))\n",
    "    a_solution = xs[:, 0]\n",
    "    b_solution = xs[:, 2]\n",
    "\n",
    "    skip_frames = 5\n",
    "\n",
    "    x_solution = x_solution[::skip_frames]\n",
    "    a_solution = a_solution[::skip_frames]\n",
    "    b_solution = b_solution[::skip_frames]\n",
    "\n",
    "    frames = len(x_solution)\n",
    "\n",
    "    j1_x = l_1 * np.sin(a_solution) + x_solution\n",
    "    j1_y = l_1 * np.cos(a_solution)\n",
    "\n",
    "    j2_x = l_2 * np.sin(b_solution) + j1_x\n",
    "    j2_y = l_2 * np.cos(b_solution) + j1_y\n",
    "\n",
    "    fig = plt.figure()\n",
    "    ax = fig.add_subplot(111, autoscale_on=False, xlim=(-1, 1), ylim=(-1, 1))\n",
    "    ax.set_aspect(\"equal\")\n",
    "    ax.grid()\n",
    "\n",
    "    patch = ax.add_patch(\n",
    "        Rectangle((0, 0), 0, 0, linewidth=1, edgecolor=\"k\", facecolor=\"r\")\n",
    "    )\n",
    "\n",
    "    (line,) = ax.plot([], [], \"o-\", lw=2)\n",
    "    time_template = \"time: %.1f s\"\n",
    "    time_text = ax.text(0.05, 0.9, \"\", transform=ax.transAxes)\n",
    "\n",
    "    cart_width = 0.15\n",
    "    cart_height = 0.1\n",
    "\n",
    "    def init():\n",
    "        line.set_data([], [])\n",
    "        time_text.set_text(\"\")\n",
    "        patch.set_xy((-cart_width / 2, -cart_height / 2))\n",
    "        patch.set_width(cart_width)\n",
    "        patch.set_height(cart_height)\n",
    "        return line, time_text\n",
    "\n",
    "        def animate(i):\n",
    "            thisx = [x_solution[i], j1_x[i], j2_x[i]]\n",
    "            thisy = [0, j1_y[i], j2_y[i]]\n",
    "\n",
    "            line.set_data(thisx, thisy)\n",
    "            now = i * skip_frames * dt\n",
    "            time_text.set_text(time_template % now)\n",
    "\n",
    "            patch.set_x(x_solution[i] - cart_width / 2)\n",
    "            return line, time_text, patch\n",
    "\n",
    "    ani = animation.FuncAnimation(\n",
    "        fig, animate, frames=frames, interval=1, blit=True, init_func=init, repeat=False\n",
    "    )\n",
    "    plt.close(fig)\n",
    "    return ani\n",
    "\n",
    "\n",
    "def animate(system, controllers, gps):\n",
    "    ani = render(system, system.qp_controller, \"qp_controller\", x_0, T=100, num_steps=1000)\n",
    "    %time ani.save('dip_qp_2.gif', writer=animation.PillowWriter(fps=24))\n",
    "    for gp, controller in tqdm(zip(gps, controllers)):\n",
    "        ani = render(\n",
    "            system, controller, f\"{gp.__name__}_controller\", x_0, T=100, num_steps=1000\n",
    "        )\n",
    "        %time ani.save(f'dip_{gp.__name__}.gif', writer=animation.PillowWriter(fps=24))"
   ]
  },
  {
   "cell_type": "code",
   "execution_count": null,
   "metadata": {
    "tags": []
   },
   "outputs": [],
   "source": [
    "animate(system, controllers, gps, x_0)"
   ]
  },
  {
   "cell_type": "code",
   "execution_count": null,
   "metadata": {},
   "outputs": [],
   "source": []
  },
  {
   "cell_type": "code",
   "execution_count": null,
   "metadata": {},
   "outputs": [],
   "source": []
  }
 ],
 "metadata": {
  "kernelspec": {
   "display_name": "Python 3 (ipykernel)",
   "language": "python",
   "name": "python3"
  },
  "language_info": {
   "codemirror_mode": {
    "name": "ipython",
    "version": 3
   },
   "file_extension": ".py",
   "mimetype": "text/x-python",
   "name": "python",
   "nbconvert_exporter": "python",
   "pygments_lexer": "ipython3",
   "version": "3.8.10"
  },
  "vscode": {
   "interpreter": {
    "hash": "0adcc2737ebf6a4a119f135174df96668767fca1ef1112612db5ecadf2b6d608"
   }
  }
 },
 "nbformat": 4,
 "nbformat_minor": 4
}
